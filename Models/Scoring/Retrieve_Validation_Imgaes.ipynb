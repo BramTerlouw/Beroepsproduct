{
 "cells": [
  {
   "cell_type": "code",
   "execution_count": null,
   "id": "06c13123-f0ab-48f7-9dfc-d2b6beeaae9f",
   "metadata": {
    "tags": []
   },
   "outputs": [],
   "source": [
    "import boto3\n",
    "from botocore.client import Config\n",
    "import os"
   ]
  },
  {
   "cell_type": "code",
   "execution_count": null,
   "id": "1b931027-c2dd-4ed6-b9ca-6d5877cf4d2e",
   "metadata": {
    "tags": []
   },
   "outputs": [],
   "source": [
    "# MinIO connection details\n",
    "minio_endpoint = os.getenv('AWS_S3_ENDPOINT')\n",
    "access_key = os.getenv('AWS_ACCESS_KEY_ID')\n",
    "secret_key = os.getenv('AWS_SECRET_ACCESS_KEY')\n",
    "bucket_name = \"images\"\n",
    "region = os.getenv('AWS_DEFAULT_REGION')\n",
    "\n",
    "# Initialize the S3 client\n",
    "s3_client = boto3.client(\n",
    "    's3',\n",
    "    endpoint_url=minio_endpoint,\n",
    "    aws_access_key_id=access_key,\n",
    "    aws_secret_access_key=secret_key,\n",
    "    config=Config(signature_version='s3v4')\n",
    ")\n",
    "\n",
    "# List objects in a specific bucket\n",
    "objects = s3_client.list_objects_v2(Bucket=bucket_name)\n",
    "if 'Contents' in objects:\n",
    "    print(\"Objects found in bucket\")\n",
    "else:\n",
    "    print(\"  No objects found.\")"
   ]
  },
  {
   "cell_type": "code",
   "execution_count": null,
   "id": "fd7cc223-bbf8-49b6-b763-105ae2269ad4",
   "metadata": {},
   "outputs": [],
   "source": [
    "folder_to_download = \"validate/\"\n",
    "local_download_path = os.getcwd()\n",
    "continuation_token = None\n",
    "\n",
    "while True:\n",
    "    if continuation_token:\n",
    "        objects = s3_client.list_objects_v2(\n",
    "            Bucket=bucket_name, Prefix=folder_to_download, ContinuationToken=continuation_token\n",
    "        )\n",
    "    else:\n",
    "        objects = s3_client.list_objects_v2(\n",
    "            Bucket=bucket_name, Prefix=folder_to_download\n",
    "        )\n",
    "\n",
    "    if 'Contents' in objects:\n",
    "        for obj in objects['Contents']:\n",
    "            object_key = obj['Key']\n",
    "\n",
    "            # Only download if the object is in the specific folder\n",
    "            if object_key.startswith(folder_to_download):\n",
    "                local_file_path = os.path.join(local_download_path, object_key)\n",
    "\n",
    "                os.makedirs(os.path.dirname(local_file_path), exist_ok=True)\n",
    "                s3_client.download_file(bucket_name, object_key, local_file_path)\n",
    "                print(f\"Downloaded {object_key} to {local_file_path}\")\n",
    "\n",
    "    if objects.get('IsTruncated'):\n",
    "        continuation_token = objects['NextContinuationToken']\n",
    "    else:\n",
    "        break"
   ]
  },
  {
   "cell_type": "code",
   "execution_count": null,
   "id": "53407d39-ceb5-4c46-b8a1-61a36f93ab40",
   "metadata": {
    "tags": []
   },
   "outputs": [],
   "source": [
    "import os\n",
    "import zipfile\n",
    "\n",
    "def zip_directory(folder_path, zip_filename):\n",
    "    with zipfile.ZipFile(zip_filename, 'w', zipfile.ZIP_DEFLATED) as zipf:\n",
    "        for root, dirs, files in os.walk(folder_path):\n",
    "            for file in files:\n",
    "                file_path = os.path.join(root, file)\n",
    "                zipf.write(file_path, os.path.relpath(file_path, folder_path))\n",
    "\n",
    "# Example usage\n",
    "folder_path = './validate'\n",
    "zip_filename = './images_zipped.zip'\n",
    "\n",
    "zip_directory(folder_path, zip_filename)"
   ]
  }
 ],
 "metadata": {
  "kernelspec": {
   "display_name": "Python 3.9",
   "language": "python",
   "name": "python3"
  },
  "language_info": {
   "codemirror_mode": {
    "name": "ipython",
    "version": 3
   },
   "file_extension": ".py",
   "mimetype": "text/x-python",
   "name": "python",
   "nbconvert_exporter": "python",
   "pygments_lexer": "ipython3",
   "version": "3.9.18"
  }
 },
 "nbformat": 4,
 "nbformat_minor": 5
}
