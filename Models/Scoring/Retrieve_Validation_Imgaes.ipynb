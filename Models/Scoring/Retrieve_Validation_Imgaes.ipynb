{
 "cells": [
  {
   "cell_type": "code",
   "execution_count": 1,
   "id": "06c13123-f0ab-48f7-9dfc-d2b6beeaae9f",
   "metadata": {
    "tags": []
   },
   "outputs": [],
   "source": [
    "import boto3\n",
    "from botocore.client import Config\n",
    "import os"
   ]
  },
  {
   "cell_type": "code",
   "execution_count": 2,
   "id": "1b931027-c2dd-4ed6-b9ca-6d5877cf4d2e",
   "metadata": {
    "tags": []
   },
   "outputs": [
    {
     "name": "stdout",
     "output_type": "stream",
     "text": [
      "Objects found in bucket\n"
     ]
    }
   ],
   "source": [
    "# MinIO connection details\n",
    "minio_endpoint = os.getenv('AWS_S3_ENDPOINT')\n",
    "access_key = os.getenv('AWS_ACCESS_KEY_ID')\n",
    "secret_key = os.getenv('AWS_SECRET_ACCESS_KEY')\n",
    "bucket_name = \"images\"\n",
    "region = os.getenv('AWS_DEFAULT_REGION')\n",
    "\n",
    "# Initialize the S3 client\n",
    "s3_client = boto3.client(\n",
    "    's3',\n",
    "    endpoint_url=minio_endpoint,\n",
    "    aws_access_key_id=access_key,\n",
    "    aws_secret_access_key=secret_key,\n",
    "    config=Config(signature_version='s3v4')\n",
    ")\n",
    "\n",
    "# List objects in a specific bucket\n",
    "objects = s3_client.list_objects_v2(Bucket=bucket_name)\n",
    "if 'Contents' in objects:\n",
    "    print(\"Objects found in bucket\")\n",
    "else:\n",
    "    print(\"  No objects found.\")"
   ]
  },
  {
   "cell_type": "code",
   "execution_count": 3,
   "id": "fd7cc223-bbf8-49b6-b763-105ae2269ad4",
   "metadata": {},
   "outputs": [
    {
     "name": "stdout",
     "output_type": "stream",
     "text": [
      "Downloaded validate/Avulsion fracture/000002_png.rf.c3e00ebc2db78bc94e644c3f6605dad0.jpg to /opt/app-root/src/Beroepsproduct/Models/Scoring models/validate/Avulsion fracture/000002_png.rf.c3e00ebc2db78bc94e644c3f6605dad0.jpg\n",
      "Downloaded validate/Avulsion fracture/1-s2-0-S0899707114002836-gr2_jpg.rf.bb8ed4dee892edbb760f6ce687d74ba5.jpg to /opt/app-root/src/Beroepsproduct/Models/Scoring models/validate/Avulsion fracture/1-s2-0-S0899707114002836-gr2_jpg.rf.bb8ed4dee892edbb760f6ce687d74ba5.jpg\n",
      "Downloaded validate/Avulsion fracture/1b62e6fbfbc5a2f70c6af413189cfc82_jpg.rf.2761e933cc6d206308877cccaf0642b2.jpg to /opt/app-root/src/Beroepsproduct/Models/Scoring models/validate/Avulsion fracture/1b62e6fbfbc5a2f70c6af413189cfc82_jpg.rf.2761e933cc6d206308877cccaf0642b2.jpg\n",
      "Downloaded validate/Comminuted fracture/images94_jpg.rf.1be75680f0289a4d2bcc8d0c112a3453.jpg to /opt/app-root/src/Beroepsproduct/Models/Scoring models/validate/Comminuted fracture/images94_jpg.rf.1be75680f0289a4d2bcc8d0c112a3453.jpg\n",
      "Downloaded validate/Comminuted fracture/images95_jpg.rf.54b02400b9746a0aafc2c9b4d6d98332.jpg to /opt/app-root/src/Beroepsproduct/Models/Scoring models/validate/Comminuted fracture/images95_jpg.rf.54b02400b9746a0aafc2c9b4d6d98332.jpg\n",
      "Downloaded validate/Comminuted fracture/images96_jpg.rf.1d432bc0a70d58cc78b19f48746b3f02.jpg to /opt/app-root/src/Beroepsproduct/Models/Scoring models/validate/Comminuted fracture/images96_jpg.rf.1d432bc0a70d58cc78b19f48746b3f02.jpg\n",
      "Downloaded validate/Fracture Dislocation/0-_jumbo_jpeg.rf.29079abb47d5de12076aed66aea08064.jpg to /opt/app-root/src/Beroepsproduct/Models/Scoring models/validate/Fracture Dislocation/0-_jumbo_jpeg.rf.29079abb47d5de12076aed66aea08064.jpg\n",
      "Downloaded validate/Fracture Dislocation/0b0927c9e289f1b59085553d3ad46cf08b9566b76aa840d0a17d33c6e626825d_gallery_jpeg.rf.59cd1582385c6b6fbe54afaa63d5099e.jpg to /opt/app-root/src/Beroepsproduct/Models/Scoring models/validate/Fracture Dislocation/0b0927c9e289f1b59085553d3ad46cf08b9566b76aa840d0a17d33c6e626825d_gallery_jpeg.rf.59cd1582385c6b6fbe54afaa63d5099e.jpg\n",
      "Downloaded validate/Fracture Dislocation/0f2621347d6757e99604be62938184_jumbo_jpg.rf.525e9b9d5a24047c4a22bbdd53cd1b2e.jpg to /opt/app-root/src/Beroepsproduct/Models/Scoring models/validate/Fracture Dislocation/0f2621347d6757e99604be62938184_jumbo_jpg.rf.525e9b9d5a24047c4a22bbdd53cd1b2e.jpg\n",
      "Downloaded validate/Greenstick fracture/0-_jumbo_jpeg.rf.f83148ed2e6771e243f98f5595db6b9c.jpg to /opt/app-root/src/Beroepsproduct/Models/Scoring models/validate/Greenstick fracture/0-_jumbo_jpeg.rf.f83148ed2e6771e243f98f5595db6b9c.jpg\n",
      "Downloaded validate/Greenstick fracture/_Fracture_general_principles_fig04_Torus_Greenstick_fracture_BLANCO-1024x957_jpg.d0a0708a95fcb18cbbdf0af9de020488.jpg to /opt/app-root/src/Beroepsproduct/Models/Scoring models/validate/Greenstick fracture/_Fracture_general_principles_fig04_Torus_Greenstick_fracture_BLANCO-1024x957_jpg.d0a0708a95fcb18cbbdf0af9de020488.jpg\n",
      "Downloaded validate/Greenstick fracture/_Fracture_general_principles_fig04_Torus_Greenstick_fracture_BLANCO-1024x957_jpg.rf.d0a0708a95fcb18cbbdf0af9de020488.jpg to /opt/app-root/src/Beroepsproduct/Models/Scoring models/validate/Greenstick fracture/_Fracture_general_principles_fig04_Torus_Greenstick_fracture_BLANCO-1024x957_jpg.rf.d0a0708a95fcb18cbbdf0af9de020488.jpg\n",
      "Downloaded validate/Hairline Fracture/0-_jumbo_jpeg.rf.d39588df830d194c0cda3b800664160b.jpg to /opt/app-root/src/Beroepsproduct/Models/Scoring models/validate/Hairline Fracture/0-_jumbo_jpeg.rf.d39588df830d194c0cda3b800664160b.jpg\n",
      "Downloaded validate/Hairline Fracture/2bc441c91f63a9588fab405fde2ae3_jumbo_jpeg.rf.9b7b45ce86f1197b06bbfbdd736b8b55.jpg to /opt/app-root/src/Beroepsproduct/Models/Scoring models/validate/Hairline Fracture/2bc441c91f63a9588fab405fde2ae3_jumbo_jpeg.rf.9b7b45ce86f1197b06bbfbdd736b8b55.jpg\n",
      "Downloaded validate/Hairline Fracture/402_2018_3035_Fig3_HTML_jpg.rf.c9959ea361358cf5ac4cf68c9096236f.jpg to /opt/app-root/src/Beroepsproduct/Models/Scoring models/validate/Hairline Fracture/402_2018_3035_Fig3_HTML_jpg.rf.c9959ea361358cf5ac4cf68c9096236f.jpg\n",
      "Downloaded validate/Impacted fracture/0fd9c4957210d0c8324ccc00c39d243d_jpg.rf.7625244128c1f6a73965a0290b6e6c31.jpg to /opt/app-root/src/Beroepsproduct/Models/Scoring models/validate/Impacted fracture/0fd9c4957210d0c8324ccc00c39d243d_jpg.rf.7625244128c1f6a73965a0290b6e6c31.jpg\n",
      "Downloaded validate/Impacted fracture/3-s2-0-B9781782424499000042-f04-05-9781782424499_jpg.rf.697fc1f3f837a4facd89b17281dc3843.jpg to /opt/app-root/src/Beroepsproduct/Models/Scoring models/validate/Impacted fracture/3-s2-0-B9781782424499000042-f04-05-9781782424499_jpg.rf.697fc1f3f837a4facd89b17281dc3843.jpg\n",
      "Downloaded validate/Impacted fracture/4d0971c94b4213a016bcfc13296aa4_jumbo_jpg.rf.5031422aa36e5a481cc5993aa3b54a02.jpg to /opt/app-root/src/Beroepsproduct/Models/Scoring models/validate/Impacted fracture/4d0971c94b4213a016bcfc13296aa4_jumbo_jpg.rf.5031422aa36e5a481cc5993aa3b54a02.jpg\n",
      "Downloaded validate/Longitudinal fracture/1-s2-0-S235204771630003X-gr2_jpg.rf.23497906a4b6a3106d193648e244cc6e.jpg to /opt/app-root/src/Beroepsproduct/Models/Scoring models/validate/Longitudinal fracture/1-s2-0-S235204771630003X-gr2_jpg.rf.23497906a4b6a3106d193648e244cc6e.jpg\n",
      "Downloaded validate/Longitudinal fracture/2-Figure1-1_png.rf.515ecc51fd0ec33b35a671d379c1485f.jpg to /opt/app-root/src/Beroepsproduct/Models/Scoring models/validate/Longitudinal fracture/2-Figure1-1_png.rf.515ecc51fd0ec33b35a671d379c1485f.jpg\n",
      "Downloaded validate/Longitudinal fracture/2-Figure1-1_png.rf.515ecc51fd0ecc1485f.jpg to /opt/app-root/src/Beroepsproduct/Models/Scoring models/validate/Longitudinal fracture/2-Figure1-1_png.rf.515ecc51fd0ecc1485f.jpg\n",
      "Downloaded validate/Oblique fracture/0-_gallery_jpeg.rf.b3170266ea6b6d03bfb4ae5991df98ce.jpg to /opt/app-root/src/Beroepsproduct/Models/Scoring models/validate/Oblique fracture/0-_gallery_jpeg.rf.b3170266ea6b6d03bfb4ae5991df98ce.jpg\n",
      "Downloaded validate/Oblique fracture/10-1055-b-002-85516_c023_f003-1_jpg.rf.a2cb46deb0263fc9290f45ee328c632.jpg to /opt/app-root/src/Beroepsproduct/Models/Scoring models/validate/Oblique fracture/10-1055-b-002-85516_c023_f003-1_jpg.rf.a2cb46deb0263fc9290f45ee328c632.jpg\n",
      "Downloaded validate/Oblique fracture/10-1055-b-002-85516_c023_f003-1_jpg.rf.a2cb46deb0263fc92980f45ee328c632.jpg to /opt/app-root/src/Beroepsproduct/Models/Scoring models/validate/Oblique fracture/10-1055-b-002-85516_c023_f003-1_jpg.rf.a2cb46deb0263fc92980f45ee328c632.jpg\n",
      "Downloaded validate/Pathological fracture/0c70d9cb6ae7fcf9faae2dc812af08_gallery_jpg.rf.77bf31aa996b57613189b8de7e1d29fd.jpg to /opt/app-root/src/Beroepsproduct/Models/Scoring models/validate/Pathological fracture/0c70d9cb6ae7fcf9faae2dc812af08_gallery_jpg.rf.77bf31aa996b57613189b8de7e1d29fd.jpg\n",
      "Downloaded validate/Pathological fracture/1-s2-0-S1877056815003461-gr1_jpg.rf.ec0a245d628f490c02ba81171284.jpg to /opt/app-root/src/Beroepsproduct/Models/Scoring models/validate/Pathological fracture/1-s2-0-S1877056815003461-gr1_jpg.rf.ec0a245d628f490c02ba81171284.jpg\n",
      "Downloaded validate/Pathological fracture/1b_jpg.rf.45e283da037d29a26ffb44f397bcc1a1.jpg to /opt/app-root/src/Beroepsproduct/Models/Scoring models/validate/Pathological fracture/1b_jpg.rf.45e283da037d29a26ffb44f397bcc1a1.jpg\n",
      "Downloaded validate/Spiral Fracture/0-_jumbo_jpeg.rf.7645898c0465d33bcd71ee0ddb847e0a.jpg to /opt/app-root/src/Beroepsproduct/Models/Scoring models/validate/Spiral Fracture/0-_jumbo_jpeg.rf.7645898c0465d33bcd71ee0ddb847e0a.jpg\n",
      "Downloaded validate/Spiral Fracture/247_2019_4591_Fig6_HTML_jpg.rf.1dc947109f035e160a9c7d7071e08.jpg to /opt/app-root/src/Beroepsproduct/Models/Scoring models/validate/Spiral Fracture/247_2019_4591_Fig6_HTML_jpg.rf.1dc947109f035e160a9c7d7071e08.jpg\n",
      "Downloaded validate/Spiral Fracture/3-s2-0-B978012386456706706X-f06706-04-9780123864567_jpg.rf.dd278033e65199fdc2d4d2eca2c01f7b.jpg to /opt/app-root/src/Beroepsproduct/Models/Scoring models/validate/Spiral Fracture/3-s2-0-B978012386456706706X-f06706-04-9780123864567_jpg.rf.dd278033e65199fdc2d4d2eca2c01f7b.jpg\n"
     ]
    }
   ],
   "source": [
    "folder_to_download = \"validate/\"\n",
    "local_download_path = os.getcwd()\n",
    "continuation_token = None\n",
    "\n",
    "while True:\n",
    "    if continuation_token:\n",
    "        objects = s3_client.list_objects_v2(\n",
    "            Bucket=bucket_name, Prefix=folder_to_download, ContinuationToken=continuation_token\n",
    "        )\n",
    "    else:\n",
    "        objects = s3_client.list_objects_v2(\n",
    "            Bucket=bucket_name, Prefix=folder_to_download\n",
    "        )\n",
    "\n",
    "    if 'Contents' in objects:\n",
    "        for obj in objects['Contents']:\n",
    "            object_key = obj['Key']\n",
    "\n",
    "            # Only download if the object is in the specific folder\n",
    "            if object_key.startswith(folder_to_download):\n",
    "                local_file_path = os.path.join(local_download_path, object_key)\n",
    "\n",
    "                os.makedirs(os.path.dirname(local_file_path), exist_ok=True)\n",
    "                s3_client.download_file(bucket_name, object_key, local_file_path)\n",
    "                print(f\"Downloaded {object_key} to {local_file_path}\")\n",
    "\n",
    "    if objects.get('IsTruncated'):\n",
    "        continuation_token = objects['NextContinuationToken']\n",
    "    else:\n",
    "        break"
   ]
  },
  {
   "cell_type": "code",
   "execution_count": null,
   "id": "53407d39-ceb5-4c46-b8a1-61a36f93ab40",
   "metadata": {
    "tags": []
   },
   "outputs": [],
   "source": [
    "import os\n",
    "import zipfile\n",
    "\n",
    "def zip_directory(folder_path, zip_filename):\n",
    "    with zipfile.ZipFile(zip_filename, 'w', zipfile.ZIP_DEFLATED) as zipf:\n",
    "        for root, dirs, files in os.walk(folder_path):\n",
    "            for file in files:\n",
    "                file_path = os.path.join(root, file)\n",
    "                zipf.write(file_path, os.path.relpath(file_path, folder_path))\n",
    "\n",
    "# Example usage\n",
    "folder_path = './validate'\n",
    "zip_filename = './images_zipped.zip'\n",
    "\n",
    "zip_directory(folder_path, zip_filename)"
   ]
  }
 ],
 "metadata": {
  "kernelspec": {
   "display_name": "Python 3.9",
   "language": "python",
   "name": "python3"
  },
  "language_info": {
   "codemirror_mode": {
    "name": "ipython",
    "version": 3
   },
   "file_extension": ".py",
   "mimetype": "text/x-python",
   "name": "python",
   "nbconvert_exporter": "python",
   "pygments_lexer": "ipython3",
   "version": "3.9.18"
  }
 },
 "nbformat": 4,
 "nbformat_minor": 5
}
