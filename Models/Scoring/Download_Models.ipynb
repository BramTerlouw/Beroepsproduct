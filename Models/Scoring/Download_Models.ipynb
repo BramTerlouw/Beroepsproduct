{
 "cells": [
  {
   "cell_type": "code",
   "execution_count": 2,
   "id": "906ae39f-bf4b-4929-b680-bd54e46fd032",
   "metadata": {
    "tags": []
   },
   "outputs": [],
   "source": [
    "import boto3\n",
    "from botocore.client import Config\n",
    "import os"
   ]
  },
  {
   "cell_type": "code",
   "execution_count": 3,
   "id": "25b2bc21-ab82-431b-ad9d-85906cd65d77",
   "metadata": {},
   "outputs": [
    {
     "name": "stdout",
     "output_type": "stream",
     "text": [
      "Objects found in bucket\n"
     ]
    }
   ],
   "source": [
    "# MinIO connection details\n",
    "minio_endpoint = os.getenv('AWS_S3_ENDPOINT')\n",
    "access_key = os.getenv('AWS_ACCESS_KEY_ID')\n",
    "secret_key = os.getenv('AWS_SECRET_ACCESS_KEY')\n",
    "bucket_name = \"models\"\n",
    "region = os.getenv('AWS_DEFAULT_REGION')\n",
    "\n",
    "# Initialize the S3 client\n",
    "s3_client = boto3.client(\n",
    "    's3',\n",
    "    endpoint_url=minio_endpoint,\n",
    "    aws_access_key_id=access_key,\n",
    "    aws_secret_access_key=secret_key,\n",
    "    config=Config(signature_version='s3v4')\n",
    ")\n",
    "\n",
    "# List objects in a specific bucket\n",
    "objects = s3_client.list_objects_v2(Bucket=bucket_name)\n",
    "if 'Contents' in objects:\n",
    "    print(\"Objects found in bucket\")\n",
    "else:\n",
    "    print(\"  No objects found.\")"
   ]
  },
  {
   "cell_type": "code",
   "execution_count": 11,
   "id": "067292f0-fea2-4124-bf75-62838264ba75",
   "metadata": {
    "tags": []
   },
   "outputs": [],
   "source": [
    "experiment_name_param = os.getenv('experiment_name')\n",
    "run_name_param = os.getenv('run_name')"
   ]
  },
  {
   "cell_type": "code",
   "execution_count": 21,
   "id": "83e2c3d1-f03b-4bd5-a311-b4ab717651dc",
   "metadata": {
    "tags": []
   },
   "outputs": [],
   "source": [
    "model_to_score = f\"fracture/{experiment_name_param}/Classif-Exp-{experiment_name_param}-Run-{run_name_param}.onnx\"\n",
    "current_directory = os.getcwd()\n",
    "download_path_model_to_score = os.path.join(current_directory, \"Classif-Exp-{experiment_name_param}-Run-{run_name_param}.onnx\")"
   ]
  },
  {
   "cell_type": "code",
   "execution_count": 22,
   "id": "7fda9ec0-5c0c-4ac2-bac2-c8ed7b612c47",
   "metadata": {},
   "outputs": [
    {
     "name": "stdout",
     "output_type": "stream",
     "text": [
      "Object downloaded successfully to '/opt/app-root/src/Beroepsproduct/Models/Scoring models/Classif-Exp-{experiment_name_param}-Run-{run_name_param}.onnx'\n"
     ]
    }
   ],
   "source": [
    "try:\n",
    "    s3_client.download_file(bucket_name, model_to_score, download_path_model_to_score)\n",
    "    print(f\"Object downloaded successfully to '{download_path_model_to_score}'\")\n",
    "except Exception as e:\n",
    "    print(f\"Error occurred: {e}\")"
   ]
  },
  {
   "cell_type": "code",
   "execution_count": 27,
   "id": "86c800c7-12c7-4f6d-896f-7948736cde58",
   "metadata": {
    "tags": []
   },
   "outputs": [],
   "source": [
    "download_folder = \"production\""
   ]
  },
  {
   "cell_type": "code",
   "execution_count": 29,
   "id": "01e82b44-6bea-48ab-8efd-10aebc1fdf63",
   "metadata": {},
   "outputs": [
    {
     "name": "stdout",
     "output_type": "stream",
     "text": [
      "Object 'production/Classif-Exp-fracture-classification-Run-run-2.onnx' downloaded successfully as '/opt/app-root/src/Beroepsproduct/Models/Scoring models/Classif-Exp-fracture-classification-Run-run-2.onnx'\n"
     ]
    }
   ],
   "source": [
    "try:\n",
    "    response = s3_client.list_objects_v2(Bucket=bucket_name, Prefix=download_folder)\n",
    "\n",
    "    if 'Contents' in response:\n",
    "        for obj in response['Contents']:\n",
    "            object_name = obj['Key']\n",
    "\n",
    "            base_name = os.path.basename(object_name)\n",
    "\n",
    "            download_path = os.path.join(current_directory, base_name)\n",
    "\n",
    "            s3_client.download_file(bucket_name, object_name, download_path)\n",
    "            print(f\"Object '{object_name}' downloaded successfully as '{download_path}'\")\n",
    "    else:\n",
    "        print(f\"No objects found in the folder '{download_folder}'\")\n",
    "\n",
    "except Exception as e:\n",
    "    print(f\"Error occurred: {e}\")"
   ]
  }
 ],
 "metadata": {
  "kernelspec": {
   "display_name": "Python 3.9",
   "language": "python",
   "name": "python3"
  },
  "language_info": {
   "codemirror_mode": {
    "name": "ipython",
    "version": 3
   },
   "file_extension": ".py",
   "mimetype": "text/x-python",
   "name": "python",
   "nbconvert_exporter": "python",
   "pygments_lexer": "ipython3",
   "version": "3.9.16"
  }
 },
 "nbformat": 4,
 "nbformat_minor": 5
}
