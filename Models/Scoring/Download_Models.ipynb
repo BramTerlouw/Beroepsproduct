{
 "cells": [
  {
   "cell_type": "code",
   "execution_count": null,
   "id": "25b2bc21-ab82-431b-ad9d-85906cd65d77",
   "metadata": {},
   "outputs": [],
   "source": [
    "# MinIO connection details\n",
    "minio_endpoint = os.getenv('AWS_S3_ENDPOINT')\n",
    "access_key = os.getenv('AWS_ACCESS_KEY_ID')\n",
    "secret_key = os.getenv('AWS_SECRET_ACCESS_KEY')\n",
    "bucket_name = \"models\"\n",
    "region = os.getenv('AWS_DEFAULT_REGION')\n",
    "\n",
    "# Initialize the S3 client\n",
    "s3_client = boto3.client(\n",
    "    's3',\n",
    "    endpoint_url=minio_endpoint,\n",
    "    aws_access_key_id=access_key,\n",
    "    aws_secret_access_key=secret_key,\n",
    "    config=Config(signature_version='s3v4')\n",
    ")\n",
    "\n",
    "# List objects in a specific bucket\n",
    "objects = s3_client.list_objects_v2(Bucket=bucket_name)\n",
    "if 'Contents' in objects:\n",
    "    print(\"Objects found in bucket\")\n",
    "else:\n",
    "    print(\"  No objects found.\")"
   ]
  },
  {
   "cell_type": "code",
   "execution_count": null,
   "id": "7fda9ec0-5c0c-4ac2-bac2-c8ed7b612c47",
   "metadata": {},
   "outputs": [],
   "source": [
    "# Download specific model out of experiment folder"
   ]
  },
  {
   "cell_type": "code",
   "execution_count": null,
   "id": "01e82b44-6bea-48ab-8efd-10aebc1fdf63",
   "metadata": {},
   "outputs": [],
   "source": [
    "# Download model from production folder"
   ]
  }
 ],
 "metadata": {
  "kernelspec": {
   "display_name": "Python 3.9",
   "language": "python",
   "name": "python3"
  },
  "language_info": {
   "codemirror_mode": {
    "name": "ipython",
    "version": 3
   },
   "file_extension": ".py",
   "mimetype": "text/x-python",
   "name": "python",
   "nbconvert_exporter": "python",
   "pygments_lexer": "ipython3",
   "version": "3.9.18"
  }
 },
 "nbformat": 4,
 "nbformat_minor": 5
}
