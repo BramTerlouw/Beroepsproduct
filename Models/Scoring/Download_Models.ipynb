{
 "cells": [
  {
   "cell_type": "markdown",
   "id": "6dc641e4-8624-4a45-9903-142f69e7d45b",
   "metadata": {},
   "source": [
    "**Imports**"
   ]
  },
  {
   "cell_type": "code",
   "execution_count": 1,
   "id": "906ae39f-bf4b-4929-b680-bd54e46fd032",
   "metadata": {
    "tags": []
   },
   "outputs": [],
   "source": [
    "import os\n",
    "import zipfile\n",
    "import boto3\n",
    "from botocore.client import Config"
   ]
  },
  {
   "cell_type": "markdown",
   "id": "4ba72cc4-573e-4d4c-98b1-fa3612659b7e",
   "metadata": {},
   "source": [
    "**Retrieve MinIO credentials, initialize client and list all buckets**"
   ]
  },
  {
   "cell_type": "code",
   "execution_count": 2,
   "id": "25b2bc21-ab82-431b-ad9d-85906cd65d77",
   "metadata": {
    "tags": []
   },
   "outputs": [
    {
     "name": "stdout",
     "output_type": "stream",
     "text": [
      "Objects found in bucket\n"
     ]
    }
   ],
   "source": [
    "# minio_endpoint = os.getenv('AWS_S3_ENDPOINT')\n",
    "# access_key = os.getenv('AWS_ACCESS_KEY_ID')\n",
    "# secret_key = os.getenv('AWS_SECRET_ACCESS_KEY')\n",
    "# bucket_name = \"models\"\n",
    "# region = os.getenv('AWS_DEFAULT_REGION')\n",
    "\n",
    "minio_endpoint = 'http://poc-minio-service:9000'\n",
    "access_key = 'minio'\n",
    "secret_key = 'minio123'\n",
    "bucket_name = \"models\"\n",
    "region = 'eu-west-1'\n",
    "\n",
    "s3_client = boto3.client(\n",
    "    's3',\n",
    "    endpoint_url=minio_endpoint,\n",
    "    aws_access_key_id=access_key,\n",
    "    aws_secret_access_key=secret_key,\n",
    "    config=Config(signature_version='s3v4')\n",
    ")\n",
    "\n",
    "objects = s3_client.list_objects_v2(Bucket=bucket_name)\n",
    "if 'Contents' in objects:\n",
    "    print(\"Objects found in bucket\")\n",
    "else:\n",
    "    print(\"  No objects found.\")"
   ]
  },
  {
   "cell_type": "markdown",
   "id": "31067ea6-0af0-43ee-bf29-ebdc197e8328",
   "metadata": {},
   "source": [
    "**Get project, experiment and run name from environmental variables**"
   ]
  },
  {
   "cell_type": "code",
   "execution_count": 3,
   "id": "067292f0-fea2-4124-bf75-62838264ba75",
   "metadata": {
    "tags": []
   },
   "outputs": [],
   "source": [
    "# project_name_param = os.getenv('project_name')\n",
    "# experiment_name_param = os.getenv('experiment_name')\n",
    "# run_name_param = os.getenv('run_name')\n",
    "\n",
    "project_name_param = 'fracture'\n",
    "experiment_name_param = 'fracture-classification'\n",
    "run_name_param = 'run-3'"
   ]
  },
  {
   "cell_type": "markdown",
   "id": "a7f9180a-88e8-4a67-8acf-306e080c3dc4",
   "metadata": {},
   "source": [
    "**Download the production model and the new model to score against the production model**"
   ]
  },
  {
   "cell_type": "code",
   "execution_count": 5,
   "id": "01e82b44-6bea-48ab-8efd-10aebc1fdf63",
   "metadata": {},
   "outputs": [
    {
     "name": "stdout",
     "output_type": "stream",
     "text": [
      "Object 'fracture/production/Classif-Exp-fracture-classification-Run-run-2.onnx' downloaded successfully as '/opt/app-root/src/Beroepsproduct/Models/Scoring/production/Classif-Exp-fracture-classification-Run-run-2.onnx'\n"
     ]
    }
   ],
   "source": [
    "current_directory = os.getcwd()\n",
    "download_folder = f\"{project_name_param}/production/\"\n",
    "production_folder = \"production\"\n",
    "production_path = os.path.join(current_directory, production_folder)\n",
    "\n",
    "if not os.path.exists(production_path):\n",
    "    os.makedirs(production_path)\n",
    "\n",
    "try:\n",
    "    response = s3_client.list_objects_v2(Bucket=bucket_name, Prefix=download_folder)\n",
    "\n",
    "    if 'Contents' in response:\n",
    "        for obj in response['Contents']:\n",
    "            object_name = obj['Key']\n",
    "            base_name = os.path.basename(object_name)\n",
    "            download_path = os.path.join(production_path, base_name)\n",
    "\n",
    "            s3_client.download_file(bucket_name, object_name, download_path)\n",
    "            print(f\"Object '{object_name}' downloaded successfully as '{download_path}'\")\n",
    "    else:\n",
    "        print(f\"No objects found in the folder '{download_folder}'\")\n",
    "\n",
    "except Exception as e:\n",
    "    print(f\"Error occurred: {e}\")"
   ]
  },
  {
   "cell_type": "code",
   "execution_count": 6,
   "id": "7fda9ec0-5c0c-4ac2-bac2-c8ed7b612c47",
   "metadata": {},
   "outputs": [
    {
     "name": "stdout",
     "output_type": "stream",
     "text": [
      "Object fracture/fracture-classification/Classif-Exp-fracture-classification-Run-run-3.onnx downloaded successfully to '/opt/app-root/src/Beroepsproduct/Models/Scoring/newmodel/Classif-Exp-fracture-classification-Run-run-3.onnx'\n"
     ]
    }
   ],
   "source": [
    "newmodel_folder = \"newmodel\"\n",
    "newmodel_path = os.path.join(current_directory, newmodel_folder)\n",
    "\n",
    "if not os.path.exists(newmodel_path):\n",
    "    os.makedirs(newmodel_path)\n",
    "\n",
    "model_to_score = f\"{project_name_param}/{experiment_name_param}/Classif-Exp-{experiment_name_param}-Run-{run_name_param}.onnx\"\n",
    "download_path_model_to_score = os.path.join(newmodel_path, f\"Classif-Exp-{experiment_name_param}-Run-{run_name_param}.onnx\")\n",
    "\n",
    "try:\n",
    "    s3_client.download_file(bucket_name, model_to_score, download_path_model_to_score)\n",
    "    print(f\"Object {model_to_score} downloaded successfully to '{download_path_model_to_score}'\")\n",
    "except Exception as e:\n",
    "    print(f\"Error occurred: {e}\")"
   ]
  },
  {
   "cell_type": "markdown",
   "id": "f5cbf928-4a4f-464e-95a2-61e9b21c2406",
   "metadata": {},
   "source": [
    "**Zip the models in their respective folders for the next pipeline node**"
   ]
  },
  {
   "cell_type": "code",
   "execution_count": null,
   "id": "4733d04e",
   "metadata": {},
   "outputs": [],
   "source": [
    "folders_to_zip = ['newmodel', 'production']\n",
    "zip_filename = 'models.zip'\n",
    "\n",
    "zip_path = os.path.join(current_directory, zip_filename)\n",
    "\n",
    "def add_directory_to_zip(zipf, folder, folder_base):\n",
    "    for root, dirs, files in os.walk(folder):\n",
    "        for file in files:\n",
    "            file_path = os.path.join(root, file)\n",
    "            zipf.write(file_path, os.path.relpath(file_path, folder_base))\n",
    "\n",
    "with zipfile.ZipFile(zip_path, 'w', zipfile.ZIP_DEFLATED) as zipf:\n",
    "    for folder in folders_to_zip:\n",
    "        folder_path = os.path.join(current_directory, folder)\n",
    "        if os.path.exists(folder_path):\n",
    "            add_directory_to_zip(zipf, folder_path, current_directory)\n",
    "        else:\n",
    "            print(f\"Folder '{folder}' does not exist and will be skipped.\")\n",
    "\n",
    "print(f\"Folders '{', '.join(folders_to_zip)}' have been zipped into '{zip_path}'.\")"
   ]
  }
 ],
 "metadata": {
  "kernelspec": {
   "display_name": "Python 3.9",
   "language": "python",
   "name": "python3"
  },
  "language_info": {
   "codemirror_mode": {
    "name": "ipython",
    "version": 3
   },
   "file_extension": ".py",
   "mimetype": "text/x-python",
   "name": "python",
   "nbconvert_exporter": "python",
   "pygments_lexer": "ipython3",
   "version": "3.9.18"
  }
 },
 "nbformat": 4,
 "nbformat_minor": 5
}
