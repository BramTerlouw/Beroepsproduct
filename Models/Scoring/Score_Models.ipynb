{
 "cells": [
  {
   "cell_type": "markdown",
   "id": "1c647633-50df-4937-99af-18816d2722a9",
   "metadata": {
    "tags": []
   },
   "source": [
    "**Installation and imports**"
   ]
  },
  {
   "cell_type": "code",
   "execution_count": null,
   "id": "023c2c5d-ec6b-48a0-9535-305249130913",
   "metadata": {
    "tags": []
   },
   "outputs": [],
   "source": [
    "!pip install onnxruntime\n",
    "\n",
    "import os\n",
    "import json\n",
    "import zipfile\n",
    "import numpy as np\n",
    "import tensorflow as tf\n",
    "from keras import utils\n",
    "import onnxruntime as ort\n",
    "from datetime import datetime\n",
    "from sklearn.metrics import accuracy_score, classification_report"
   ]
  },
  {
   "cell_type": "markdown",
   "id": "408f8c36-5653-45cf-bb51-9de1a9baddd7",
   "metadata": {
    "tags": []
   },
   "source": [
    "**Define unzip function**"
   ]
  },
  {
   "cell_type": "code",
   "execution_count": null,
   "id": "d6a3fea5-b542-4839-851f-b5a80167dda3",
   "metadata": {
    "tags": []
   },
   "outputs": [],
   "source": [
    "def unzip_file(zip_file_path, extract_to_dir):\n",
    "    if not os.path.exists(extract_to_dir):\n",
    "        os.makedirs(extract_to_dir)\n",
    "\n",
    "    with zipfile.ZipFile(zip_file_path, 'r') as zip_ref:\n",
    "        zip_ref.extractall(extract_to_dir)\n",
    "\n",
    "    print(f\"Files extracted to: {extract_to_dir}\")"
   ]
  },
  {
   "cell_type": "markdown",
   "id": "bbda820a-47bf-4022-8967-8ca7bee4a17c",
   "metadata": {
    "tags": []
   },
   "source": [
    "**Unzip images and models**"
   ]
  },
  {
   "cell_type": "code",
   "execution_count": null,
   "id": "c9770af0-4630-421b-b4e2-6fc5f9cd9a44",
   "metadata": {
    "tags": []
   },
   "outputs": [],
   "source": [
    "zip_file_path = 'images_zipped.zip'\n",
    "extract_to_dir = 'train'\n",
    "unzip_file(zip_file_path, extract_to_dir)"
   ]
  },
  {
   "cell_type": "code",
   "execution_count": null,
   "id": "35799d6c-bb5b-407b-a4f8-e24571b17e59",
   "metadata": {
    "tags": []
   },
   "outputs": [],
   "source": [
    "zip_file_path = 'models.zip'\n",
    "extract_to_dir = 'models'\n",
    "unzip_file(zip_file_path, extract_to_dir)"
   ]
  },
  {
   "cell_type": "markdown",
   "id": "cfdfb95d-52ef-4fc8-9231-8c03c69e632a",
   "metadata": {
    "tags": []
   },
   "source": [
    "**Create validation set**"
   ]
  },
  {
   "cell_type": "code",
   "execution_count": null,
   "id": "b7cbcb43-1cad-40c5-9ba9-0957cbfbb8e6",
   "metadata": {
    "tags": []
   },
   "outputs": [],
   "source": [
    "path_to_data = 'train/'"
   ]
  },
  {
   "cell_type": "code",
   "execution_count": null,
   "id": "7030c5bb-464c-4579-a07e-4fd5886b7308",
   "metadata": {
    "tags": []
   },
   "outputs": [],
   "source": [
    "val_data=utils.image_dataset_from_directory(\n",
    "    path_to_data,\n",
    "    labels=\"inferred\",\n",
    "    label_mode=\"int\",\n",
    "    validation_split=0.1,\n",
    "    subset=\"validation\",\n",
    "    color_mode=\"rgb\",\n",
    "    image_size=(256,256),\n",
    "    batch_size=64,\n",
    "    seed=40,\n",
    ")"
   ]
  },
  {
   "cell_type": "markdown",
   "id": "a4af3d92-b8a5-412c-824f-300f1bc3505b",
   "metadata": {
    "tags": []
   },
   "source": [
    "**Verify validation set with labels (classes)**"
   ]
  },
  {
   "cell_type": "code",
   "execution_count": null,
   "id": "c4ab1620-9050-4c61-9664-b4ccf97671d6",
   "metadata": {
    "tags": []
   },
   "outputs": [],
   "source": [
    "for images,lables in val_data.take(1):\n",
    "  print('Amount of train images: ', images.shape)\n",
    "  print('Amount of train labels: ', lables.shape)"
   ]
  },
  {
   "cell_type": "markdown",
   "id": "176f294c-cf98-4a86-b034-862d9db6605e",
   "metadata": {
    "tags": []
   },
   "source": [
    "**Define normalization function and normalize validation set**"
   ]
  },
  {
   "cell_type": "code",
   "execution_count": null,
   "id": "98fc5770-b0de-4660-9283-543cdc3d2fbd",
   "metadata": {
    "tags": []
   },
   "outputs": [],
   "source": [
    "def normalize(image, label):\n",
    "  return image/255.0, label"
   ]
  },
  {
   "cell_type": "code",
   "execution_count": null,
   "id": "6a3641f8-c729-426e-9bf0-e8d96ea2775f",
   "metadata": {
    "tags": []
   },
   "outputs": [],
   "source": [
    "val_data= val_data.map(normalize)"
   ]
  },
  {
   "cell_type": "markdown",
   "id": "31756aaf-6c9f-4ab6-b4df-bb7d0f654154",
   "metadata": {
    "tags": []
   },
   "source": [
    "**Create one Tensor of the validation images and labels**"
   ]
  },
  {
   "cell_type": "code",
   "execution_count": null,
   "id": "c1bc7988-b902-4837-8c67-66d12fca0313",
   "metadata": {
    "tags": []
   },
   "outputs": [],
   "source": [
    "val_x=[]\n",
    "val_y=[]\n",
    "\n",
    "for image,label in val_data:\n",
    "   val_x.append(image)\n",
    "   val_y.append(label)\n",
    "\n",
    "val_x = tf.concat(val_x, axis=0)\n",
    "val_y = tf.concat(val_y, axis=0)"
   ]
  },
  {
   "cell_type": "markdown",
   "id": "d6e2fda0-be63-4392-831c-880d0a59d1c2",
   "metadata": {},
   "source": [
    "**Create binary matrix representation of the labels (One-Hot Encoding format)**"
   ]
  },
  {
   "cell_type": "code",
   "execution_count": null,
   "id": "ccb2da3c-51f1-49c7-af3d-b6149fdc7d30",
   "metadata": {
    "tags": []
   },
   "outputs": [],
   "source": [
    "num_classes = 10\n",
    "val_y = tf.keras.utils.to_categorical(val_y, num_classes=num_classes)"
   ]
  },
  {
   "cell_type": "markdown",
   "id": "4ed586f8-be60-43c3-adca-df27bebb16fd",
   "metadata": {},
   "source": [
    "**Define function to get the name of the model file**"
   ]
  },
  {
   "cell_type": "code",
   "execution_count": null,
   "id": "2eb45563-64ee-476e-a645-9cd7d0c20646",
   "metadata": {
    "tags": []
   },
   "outputs": [],
   "source": [
    "def find_model_file(folder_path):\n",
    "    for file in os.listdir(folder_path):\n",
    "        if file.endswith('.onnx'):\n",
    "            return file\n",
    "    return None"
   ]
  },
  {
   "cell_type": "markdown",
   "id": "9e7630ca-580f-4535-bcd3-dd187f692b11",
   "metadata": {},
   "source": [
    "**Get model file names**"
   ]
  },
  {
   "cell_type": "code",
   "execution_count": null,
   "id": "4340c87e-90ba-425b-87fe-3cc92cfb6745",
   "metadata": {
    "tags": []
   },
   "outputs": [],
   "source": [
    "new_model_name = find_model_file('modals/newmodal')\n",
    "production_model_name = find_model_file('modals/production')"
   ]
  },
  {
   "cell_type": "markdown",
   "id": "1a48f7a9-912b-4e41-9268-0b60c831484b",
   "metadata": {},
   "source": [
    "**Create inference sessions for both the onnx models and retrieve input and outputs**"
   ]
  },
  {
   "cell_type": "code",
   "execution_count": null,
   "id": "264112f5-fce2-4f44-a4d0-02b348a09dcc",
   "metadata": {
    "tags": []
   },
   "outputs": [],
   "source": [
    "new_model = f\"modals/newmodal/{new_model_name}\"\n",
    "new_model_session = ort.InferenceSession(new_model)\n",
    "\n",
    "production_model = f\"modals/production/{production_model_name}\"\n",
    "production_model_session = ort.InferenceSession(production_model)\n",
    "\n",
    "new_model_input = new_model_session.get_inputs()[0].name\n",
    "new_model_output = new_model_session.get_outputs()[0].name\n",
    "\n",
    "production_model_input = production_model_session.get_inputs()[0].name\n",
    "production_model_output = production_model_session.get_outputs()[0].name"
   ]
  },
  {
   "cell_type": "markdown",
   "id": "07b2ac54-472b-4f33-b50a-57e312edc4a5",
   "metadata": {},
   "source": [
    "**Iterate through validation set and get predictions from both models**"
   ]
  },
  {
   "cell_type": "code",
   "execution_count": null,
   "id": "c8ebc5fe-ea9f-4f71-966f-47feda670166",
   "metadata": {
    "tags": []
   },
   "outputs": [],
   "source": [
    "new_pred_arr = []\n",
    "production_pred_arr = []\n",
    "\n",
    "for i, val in enumerate(val_x):\n",
    "    new_model_pred = new_model_session.run([new_model_output], {new_model_input: [val_x[i].cpu().numpy()]})\n",
    "    production_model_pred = production_model_session.run([production_model_output], {production_model_input: [val_x[i].cpu().numpy()]})\n",
    "\n",
    "    new_pred_arr.append(new_model_pred)\n",
    "    production_pred_arr.append(production_model_pred)"
   ]
  },
  {
   "cell_type": "markdown",
   "id": "f2f01ab7-a05e-40d4-ba80-798f7f48c322",
   "metadata": {},
   "source": [
    "**Retrieve accuracy (amount of correct predictions of the set) for both models**"
   ]
  },
  {
   "cell_type": "code",
   "execution_count": null,
   "id": "d5b77b73-426e-4aa9-b4a3-1efa054669b0",
   "metadata": {
    "tags": []
   },
   "outputs": [],
   "source": [
    "new_pred_arr = np.concatenate([np.argmax(pred[0], axis=1) for pred in new_pred_arr], axis=0)\n",
    "production_pred_arr = np.concatenate([np.argmax(pred[0], axis=1) for pred in production_pred_arr], axis=0)\n",
    "\n",
    "val_y_flat = np.argmax(val_y, axis=1)\n",
    "\n",
    "new_model_accuracy = accuracy_score(val_y_flat, new_pred_arr)\n",
    "production_model_accuracy = accuracy_score(val_y_flat, production_pred_arr)"
   ]
  },
  {
   "cell_type": "markdown",
   "id": "abcfe81f-7ad3-4d1d-a497-06a3c8304568",
   "metadata": {},
   "source": [
    "**Add to .json file if new model is better than production model**"
   ]
  },
  {
   "cell_type": "code",
   "execution_count": null,
   "id": "1c4f9fee",
   "metadata": {},
   "outputs": [],
   "source": [
    "should_replace = new_model_accuracy > production_model_accuracy\n",
    "\n",
    "with open('should_replace.json', 'w') as f:\n",
    "    json.dump({'replace': should_replace}, f)"
   ]
  },
  {
   "cell_type": "markdown",
   "id": "ec2185b3-94c8-4216-b947-0eab8455331b",
   "metadata": {},
   "source": [
    "**Zip .json file and, if better, zip new model with it**"
   ]
  },
  {
   "cell_type": "code",
   "execution_count": null,
   "id": "592aa7c8",
   "metadata": {},
   "outputs": [],
   "source": [
    "new_model_folder = 'modals/newmodal'\n",
    "replacement_zip = 'replacement.zip'\n",
    "\n",
    "with zipfile.ZipFile(replacement_zip, 'w') as zipf:\n",
    "    zipf.write('should_replace.json')\n",
    "\n",
    "    if should_replace:\n",
    "        for root, dirs, files in os.walk(new_model_folder):\n",
    "            for file in files:\n",
    "                file_path = os.path.join(root, file)\n",
    "                arcname = os.path.relpath(file_path, new_model_folder)\n",
    "                zipf.write(file_path, arcname)\n",
    "\n",
    "print(f\"Files zipped into '{replacement_zip}'.\")\n"
   ]
  },
  {
   "cell_type": "markdown",
   "id": "e8dff093-0f2b-49bf-8440-c76a53609003",
   "metadata": {},
   "source": [
    "**Write run information, accuracy's and classification reports to text file, which will produce a pipeline run artefact**"
   ]
  },
  {
   "cell_type": "code",
   "execution_count": null,
   "id": "ba338e1f-34b0-410a-a941-6ce726d9c589",
   "metadata": {
    "tags": []
   },
   "outputs": [],
   "source": [
    "filename = 'model_comparison.txt'\n",
    "\n",
    "with open(filename, 'w') as file:\n",
    "    file.write(f\"Date: {datetime.now().strftime('%Y-%m-%d %H:%M:%S')}\\n\\n\")\n",
    "    file.write(f\"New Model Name: {new_model_name}\\n\")\n",
    "    file.write(f\"New Model Accuracy: {new_model_accuracy * 100:.2f}%\\n\\n\")\n",
    "    file.write(f\"Production Model Name: {production_model_name}\\n\")\n",
    "    file.write(f\"Production Model Accuracy: {production_model_accuracy * 100:.2f}%\\n\")\n",
    "\n",
    "    file.write(\"\\nNew Model Classification Report:\\n\")\n",
    "    file.write(classification_report(val_y_flat, new_pred_arr, zero_division=0))\n",
    "\n",
    "    file.write(\"\\nProduction Model Classification Report:\\n\")\n",
    "    file.write(classification_report(val_y_flat, production_pred_arr, zero_division=0))\n",
    "\n",
    "print(f\"Results saved to {filename}\")"
   ]
  }
 ],
 "metadata": {
  "kernelspec": {
   "display_name": "Python 3.9",
   "language": "python",
   "name": "python3"
  },
  "language_info": {
   "codemirror_mode": {
    "name": "ipython",
    "version": 3
   },
   "file_extension": ".py",
   "mimetype": "text/x-python",
   "name": "python",
   "nbconvert_exporter": "python",
   "pygments_lexer": "ipython3",
   "version": "3.9.16"
  }
 },
 "nbformat": 4,
 "nbformat_minor": 5
}
