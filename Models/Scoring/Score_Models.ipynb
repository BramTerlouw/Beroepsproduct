{
 "cells": [
  {
   "cell_type": "code",
   "execution_count": 1,
   "id": "86112d0b-0ffd-418e-9a3d-9e1f97c180a9",
   "metadata": {
    "tags": []
   },
   "outputs": [
    {
     "name": "stdout",
     "output_type": "stream",
     "text": [
      "Requirement already satisfied: onnxruntime in /opt/app-root/lib/python3.9/site-packages (1.19.0)\n",
      "Requirement already satisfied: packaging in /opt/app-root/lib/python3.9/site-packages (from onnxruntime) (24.1)\n",
      "Requirement already satisfied: flatbuffers in /opt/app-root/lib/python3.9/site-packages (from onnxruntime) (24.3.25)\n",
      "Requirement already satisfied: sympy in /opt/app-root/lib/python3.9/site-packages (from onnxruntime) (1.13.2)\n",
      "Requirement already satisfied: coloredlogs in /opt/app-root/lib/python3.9/site-packages (from onnxruntime) (15.0.1)\n",
      "Requirement already satisfied: numpy>=1.21.6 in /opt/app-root/lib/python3.9/site-packages (from onnxruntime) (1.26.4)\n",
      "Requirement already satisfied: protobuf in /opt/app-root/lib/python3.9/site-packages (from onnxruntime) (3.20.3)\n",
      "Requirement already satisfied: humanfriendly>=9.1 in /opt/app-root/lib/python3.9/site-packages (from coloredlogs->onnxruntime) (10.0)\n",
      "Requirement already satisfied: mpmath<1.4,>=1.1.0 in /opt/app-root/lib/python3.9/site-packages (from sympy->onnxruntime) (1.3.0)\n",
      "\n",
      "\u001b[1m[\u001b[0m\u001b[34;49mnotice\u001b[0m\u001b[1;39;49m]\u001b[0m\u001b[39;49m A new release of pip available: \u001b[0m\u001b[31;49m22.2.2\u001b[0m\u001b[39;49m -> \u001b[0m\u001b[32;49m24.2\u001b[0m\n",
      "\u001b[1m[\u001b[0m\u001b[34;49mnotice\u001b[0m\u001b[1;39;49m]\u001b[0m\u001b[39;49m To update, run: \u001b[0m\u001b[32;49mpip install --upgrade pip\u001b[0m\n"
     ]
    },
    {
     "name": "stderr",
     "output_type": "stream",
     "text": [
      "2024-08-28 08:41:24.177500: E external/local_xla/xla/stream_executor/cuda/cuda_dnn.cc:9261] Unable to register cuDNN factory: Attempting to register factory for plugin cuDNN when one has already been registered\n",
      "2024-08-28 08:41:24.177560: E external/local_xla/xla/stream_executor/cuda/cuda_fft.cc:607] Unable to register cuFFT factory: Attempting to register factory for plugin cuFFT when one has already been registered\n",
      "2024-08-28 08:41:24.179085: E external/local_xla/xla/stream_executor/cuda/cuda_blas.cc:1515] Unable to register cuBLAS factory: Attempting to register factory for plugin cuBLAS when one has already been registered\n",
      "2024-08-28 08:41:24.187404: I tensorflow/core/platform/cpu_feature_guard.cc:182] This TensorFlow binary is optimized to use available CPU instructions in performance-critical operations.\n",
      "To enable the following instructions: AVX2 AVX512F FMA, in other operations, rebuild TensorFlow with the appropriate compiler flags.\n",
      "2024-08-28 08:41:25.138248: W tensorflow/compiler/tf2tensorrt/utils/py_utils.cc:38] TF-TRT Warning: Could not find TensorRT\n"
     ]
    }
   ],
   "source": [
    "!pip install onnxruntime\n",
    "import onnxruntime as ort\n",
    "from keras import utils\n",
    "import tensorflow as tf\n",
    "import numpy as np\n",
    "from sklearn.metrics import accuracy_score, classification_report"
   ]
  },
  {
   "cell_type": "code",
   "execution_count": 2,
   "id": "b7cbcb43-1cad-40c5-9ba9-0957cbfbb8e6",
   "metadata": {},
   "outputs": [],
   "source": [
    "path_to_data = 'validate/'"
   ]
  },
  {
   "cell_type": "code",
   "execution_count": 3,
   "id": "7030c5bb-464c-4579-a07e-4fd5886b7308",
   "metadata": {},
   "outputs": [
    {
     "name": "stdout",
     "output_type": "stream",
     "text": [
      "Found 30 files belonging to 10 classes.\n"
     ]
    }
   ],
   "source": [
    "val_data=utils.image_dataset_from_directory(\n",
    "    path_to_data,\n",
    "    labels=\"inferred\",\n",
    "    label_mode=\"int\",\n",
    "    shuffle=True,\n",
    "    color_mode=\"rgb\",\n",
    "    image_size=(256,256),\n",
    "    batch_size=64,\n",
    "    seed=40,\n",
    ")"
   ]
  },
  {
   "cell_type": "code",
   "execution_count": 4,
   "id": "c4ab1620-9050-4c61-9664-b4ccf97671d6",
   "metadata": {},
   "outputs": [
    {
     "name": "stdout",
     "output_type": "stream",
     "text": [
      "Amount of train images:  (30, 256, 256, 3)\n",
      "Amount of train labels:  (30,)\n"
     ]
    }
   ],
   "source": [
    "for images,lables in val_data.take(1):\n",
    "  print('Amount of train images: ', images.shape)\n",
    "  print('Amount of train labels: ', lables.shape)"
   ]
  },
  {
   "cell_type": "code",
   "execution_count": 5,
   "id": "98fc5770-b0de-4660-9283-543cdc3d2fbd",
   "metadata": {},
   "outputs": [],
   "source": [
    "def normalize(image, label):\n",
    "  return image/255.0, label"
   ]
  },
  {
   "cell_type": "code",
   "execution_count": 6,
   "id": "6a3641f8-c729-426e-9bf0-e8d96ea2775f",
   "metadata": {},
   "outputs": [],
   "source": [
    "val_data= val_data.map(normalize)"
   ]
  },
  {
   "cell_type": "code",
   "execution_count": 7,
   "id": "c1bc7988-b902-4837-8c67-66d12fca0313",
   "metadata": {},
   "outputs": [],
   "source": [
    "val_x=[]\n",
    "val_y=[]\n",
    "\n",
    "for image,label in val_data:\n",
    "   val_x.append(image)\n",
    "   val_y.append(label)\n",
    "\n",
    "val_x = tf.concat(val_x, axis=0)\n",
    "val_y = tf.concat(val_y, axis=0)"
   ]
  },
  {
   "cell_type": "code",
   "execution_count": 8,
   "id": "ccb2da3c-51f1-49c7-af3d-b6149fdc7d30",
   "metadata": {},
   "outputs": [],
   "source": [
    "num_classes = 10\n",
    "val_y = tf.keras.utils.to_categorical(val_y, num_classes=num_classes)"
   ]
  },
  {
   "cell_type": "code",
   "execution_count": 9,
   "id": "264112f5-fce2-4f44-a4d0-02b348a09dcc",
   "metadata": {
    "tags": []
   },
   "outputs": [],
   "source": [
    "new_model = 'model-5-epochs.onnx'\n",
    "new_model_session = ort.InferenceSession(new_model)\n",
    "\n",
    "production_model = 'model-4-epochs.onnx'\n",
    "production_model_session = ort.InferenceSession(production_model)\n",
    "\n",
    "new_model_input = new_model_session.get_inputs()[0].name\n",
    "new_model_output = new_model_session.get_outputs()[0].name\n",
    "\n",
    "production_model_input = production_model_session.get_inputs()[0].name\n",
    "production_model_output = production_model_session.get_outputs()[0].name"
   ]
  },
  {
   "cell_type": "code",
   "execution_count": 10,
   "id": "c8ebc5fe-ea9f-4f71-966f-47feda670166",
   "metadata": {
    "tags": []
   },
   "outputs": [
    {
     "name": "stdout",
     "output_type": "stream",
     "text": [
      "WARNING:tensorflow:From /tmp/ipykernel_483/3769232995.py:5: _EagerTensorBase.cpu (from tensorflow.python.framework.ops) is deprecated and will be removed in a future version.\n",
      "Instructions for updating:\n",
      "Use tf.identity with explicit device placement instead.\n"
     ]
    }
   ],
   "source": [
    "new_pred_arr = []\n",
    "production_pred_arr = []\n",
    "\n",
    "for i, val in enumerate(val_x):\n",
    "    new_model_pred = new_model_session.run([new_model_output], {new_model_input: [val_x[i].cpu().numpy()]})\n",
    "    production_model_pred = production_model_session.run([production_model_output], {production_model_input: [val_x[i].cpu().numpy()]})\n",
    "\n",
    "    new_pred_arr.append(new_model_pred)\n",
    "    production_pred_arr.append(production_model_pred)"
   ]
  },
  {
   "cell_type": "code",
   "execution_count": 11,
   "id": "d5b77b73-426e-4aa9-b4a3-1efa054669b0",
   "metadata": {
    "tags": []
   },
   "outputs": [
    {
     "name": "stdout",
     "output_type": "stream",
     "text": [
      "New Model Accuracy: 26.67%\n",
      "Production Model Accuracy: 43.33%\n",
      "\n",
      "New Model Classification Report:\n",
      "              precision    recall  f1-score   support\n",
      "\n",
      "           0       1.00      0.33      0.50         3\n",
      "           1       0.50      0.67      0.57         3\n",
      "           2       0.20      0.67      0.31         3\n",
      "           3       0.00      0.00      0.00         3\n",
      "           4       0.00      0.00      0.00         3\n",
      "           5       1.00      0.33      0.50         3\n",
      "           6       0.00      0.00      0.00         3\n",
      "           7       0.00      0.00      0.00         3\n",
      "           8       0.14      0.33      0.20         3\n",
      "           9       1.00      0.33      0.50         3\n",
      "\n",
      "    accuracy                           0.27        30\n",
      "   macro avg       0.38      0.27      0.26        30\n",
      "weighted avg       0.38      0.27      0.26        30\n",
      "\n",
      "\n",
      "Production Model Classification Report:\n",
      "              precision    recall  f1-score   support\n",
      "\n",
      "           0       0.50      0.33      0.40         3\n",
      "           1       0.67      0.67      0.67         3\n",
      "           2       0.20      0.67      0.31         3\n",
      "           3       0.50      0.67      0.57         3\n",
      "           4       0.00      0.00      0.00         3\n",
      "           5       1.00      0.33      0.50         3\n",
      "           6       0.50      0.33      0.40         3\n",
      "           7       0.00      0.00      0.00         3\n",
      "           8       0.50      0.67      0.57         3\n",
      "           9       1.00      0.67      0.80         3\n",
      "\n",
      "    accuracy                           0.43        30\n",
      "   macro avg       0.49      0.43      0.42        30\n",
      "weighted avg       0.49      0.43      0.42        30\n",
      "\n"
     ]
    }
   ],
   "source": [
    "new_pred_arr = np.concatenate([np.argmax(pred[0], axis=1) for pred in new_pred_arr], axis=0)\n",
    "production_pred_arr = np.concatenate([np.argmax(pred[0], axis=1) for pred in production_pred_arr], axis=0)\n",
    "\n",
    "val_y_flat = np.argmax(val_y, axis=1)\n",
    "\n",
    "new_model_accuracy = accuracy_score(val_y_flat, new_pred_arr)\n",
    "production_model_accuracy = accuracy_score(val_y_flat, production_pred_arr)\n",
    "\n",
    "print(f\"New Model Accuracy: {new_model_accuracy * 100:.2f}%\")\n",
    "print(f\"Production Model Accuracy: {production_model_accuracy * 100:.2f}%\")\n",
    "\n",
    "print(\"\\nNew Model Classification Report:\")\n",
    "print(classification_report(val_y_flat, new_pred_arr, zero_division=0))\n",
    "\n",
    "print(\"\\nProduction Model Classification Report:\")\n",
    "print(classification_report(val_y_flat, production_pred_arr, zero_division=0))"
   ]
  },
  {
   "cell_type": "code",
   "execution_count": null,
   "id": "1c4f9fee",
   "metadata": {},
   "outputs": [],
   "source": [
    "should_replace = new_model_accuracy > production_model_accuracy\n",
    "\n",
    "with open('should_replace.json', 'w') as f:\n",
    "    json.dump({'replace': should_replace}, f)"
   ]
  },
  {
   "cell_type": "code",
   "execution_count": null,
   "id": "592aa7c8",
   "metadata": {},
   "outputs": [],
   "source": [
    "import os\n",
    "import zipfile\n",
    "\n",
    "with zipfile.ZipFile('replacement.zip', 'w') as zipf:\n",
    "    zipf.write('should_replace.json')\n",
    "    if should_replace:\n",
    "        zipf.write('new_model.onnx')"
   ]
  }
 ],
 "metadata": {
  "kernelspec": {
   "display_name": "Python 3.9",
   "language": "python",
   "name": "python3"
  },
  "language_info": {
   "codemirror_mode": {
    "name": "ipython",
    "version": 3
   },
   "file_extension": ".py",
   "mimetype": "text/x-python",
   "name": "python",
   "nbconvert_exporter": "python",
   "pygments_lexer": "ipython3",
   "version": "3.9.18"
  }
 },
 "nbformat": 4,
 "nbformat_minor": 5
}
