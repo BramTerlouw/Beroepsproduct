{
 "cells": [
  {
   "cell_type": "code",
   "execution_count": null,
   "id": "b7cbcb43-1cad-40c5-9ba9-0957cbfbb8e6",
   "metadata": {},
   "outputs": [],
   "source": [
    "path_to_data = ''"
   ]
  },
  {
   "cell_type": "code",
   "execution_count": null,
   "id": "7030c5bb-464c-4579-a07e-4fd5886b7308",
   "metadata": {},
   "outputs": [],
   "source": [
    "val_data=utils.image_dataset_from_directory(\n",
    "    path_to_data,\n",
    "    labels=\"inferred\",\n",
    "    label_mode=\"int\",\n",
    "    validation_split=0,\n",
    "    subset=\"validation\",\n",
    "    shuffle=True,\n",
    "    color_mode=\"rgb\",\n",
    "    image_size=(256,256),\n",
    "    batch_size=64,\n",
    "    seed=40,\n",
    ")"
   ]
  },
  {
   "cell_type": "code",
   "execution_count": null,
   "id": "c4ab1620-9050-4c61-9664-b4ccf97671d6",
   "metadata": {},
   "outputs": [],
   "source": [
    "for images,lables in val_data.take(1):\n",
    "  print('Amount of train images: ', images.shape)\n",
    "  print('Amount of train labels: ', lables.shape)"
   ]
  },
  {
   "cell_type": "code",
   "execution_count": null,
   "id": "98fc5770-b0de-4660-9283-543cdc3d2fbd",
   "metadata": {},
   "outputs": [],
   "source": [
    "def normalize(image, label):\n",
    "  return image/255.0, label"
   ]
  },
  {
   "cell_type": "code",
   "execution_count": null,
   "id": "6a3641f8-c729-426e-9bf0-e8d96ea2775f",
   "metadata": {},
   "outputs": [],
   "source": [
    "val_data= val_data.map(normalize)"
   ]
  },
  {
   "cell_type": "code",
   "execution_count": null,
   "id": "c1bc7988-b902-4837-8c67-66d12fca0313",
   "metadata": {},
   "outputs": [],
   "source": [
    "val_x=[]\n",
    "val_y=[]\n",
    "\n",
    "for image,label in train_data:\n",
    "   val_x.append(image)\n",
    "   val_y.append(label)\n",
    "\n",
    "val_x = tf.concat(val_x, axis=0)"
   ]
  },
  {
   "cell_type": "code",
   "execution_count": null,
   "id": "ccb2da3c-51f1-49c7-af3d-b6149fdc7d30",
   "metadata": {},
   "outputs": [],
   "source": [
    "num_classes = 10\n",
    "val_y = tf.keras.utils.to_categorical(val_y, num_classes=num_classes)"
   ]
  },
  {
   "cell_type": "code",
   "execution_count": null,
   "id": "c96e91c5-ddcc-4362-b9c3-46d6b5874c7d",
   "metadata": {},
   "outputs": [],
   "source": [
    "loss_new_model, accuracy_new_model = new_model.evaluate(val_x,val_y)\n",
    "loss_production_model, accuracy_production_model = production_model.evaluate(val_x,val_y)\n",
    "\n",
    "print('Test accuracy:', accuracy_new_model)\n",
    "print('Test accuracy:', accuracy_production_model)"
   ]
  }
 ],
 "metadata": {
  "kernelspec": {
   "display_name": "Python 3.9",
   "language": "python",
   "name": "python3"
  },
  "language_info": {
   "codemirror_mode": {
    "name": "ipython",
    "version": 3
   },
   "file_extension": ".py",
   "mimetype": "text/x-python",
   "name": "python",
   "nbconvert_exporter": "python",
   "pygments_lexer": "ipython3",
   "version": "3.9.16"
  }
 },
 "nbformat": 4,
 "nbformat_minor": 5
}
