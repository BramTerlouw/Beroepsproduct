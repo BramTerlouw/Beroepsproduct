{
 "cells": [
  {
   "cell_type": "code",
   "execution_count": null,
   "id": "363ecfdc-550b-42f1-a1d9-744ca1c74387",
   "metadata": {},
   "outputs": [],
   "source": [
    "import zipfile"
   ]
  },
  {
   "cell_type": "code",
   "execution_count": null,
   "id": "34601e72",
   "metadata": {},
   "outputs": [],
   "source": [
    "# MinIO connection details\n",
    "minio_endpoint = os.getenv('AWS_S3_ENDPOINT')\n",
    "access_key = os.getenv('AWS_ACCESS_KEY_ID')\n",
    "secret_key = os.getenv('AWS_SECRET_ACCESS_KEY')\n",
    "bucket_name = \"models\"\n",
    "region = os.getenv('AWS_DEFAULT_REGION')\n",
    "\n",
    "# Initialize the S3 client\n",
    "s3_client = boto3.client(\n",
    "    's3',\n",
    "    endpoint_url=minio_endpoint,\n",
    "    aws_access_key_id=access_key,\n",
    "    aws_secret_access_key=secret_key,\n",
    "    config=Config(signature_version='s3v4')\n",
    ")"
   ]
  },
  {
   "cell_type": "code",
   "execution_count": null,
   "id": "99926a13",
   "metadata": {},
   "outputs": [],
   "source": [
    "with zipfile.ZipFile('replacement.zip', 'r') as zipf:\n",
    "    zipf.extractall()"
   ]
  },
  {
   "cell_type": "code",
   "execution_count": null,
   "id": "977a54d8",
   "metadata": {},
   "outputs": [],
   "source": [
    "with open('should_replace.json', 'r') as f:\n",
    "    decision = json.load(f)"
   ]
  },
  {
   "cell_type": "code",
   "execution_count": null,
   "id": "0e54447c",
   "metadata": {},
   "outputs": [],
   "source": [
    "def empty_production_folder:\n",
    "    objects_to_delete = s3.list_objects_v2(Bucket=bucket_name, Prefix='production')\n",
    "\n",
    "    if 'Contents' in objects_to_delete:\n",
    "    delete_keys = {'Objects': []}\n",
    "    for obj in objects_to_delete['Contents']:\n",
    "        delete_keys['Objects'].append({'Key': obj['Key']})\n",
    "    \n",
    "    s3.delete_objects(Bucket=bucket_name, Delete=delete_keys)"
   ]
  },
  {
   "cell_type": "code",
   "execution_count": null,
   "id": "3447e579",
   "metadata": {},
   "outputs": [],
   "source": [
    "file_path = 'path/to/your/model.onnx' \n",
    "\n",
    "def upload_to_production_folder:\n",
    "    s3.upload_file(file_path, bucket_name, folder_name + file_name_in_s3)"
   ]
  },
  {
   "cell_type": "code",
   "execution_count": null,
   "id": "df9f0ddb",
   "metadata": {},
   "outputs": [],
   "source": [
    "if decision['replace']:\n",
    "    empty_production_folder()\n",
    "    upload_to_production_folder\n",
    "else:\n",
    "    print(\"Current model retained in production.\")\n"
   ]
  }
 ],
 "metadata": {
  "kernelspec": {
   "display_name": "Python 3.9",
   "language": "python",
   "name": "python3"
  },
  "language_info": {
   "codemirror_mode": {
    "name": "ipython",
    "version": 3
   },
   "file_extension": ".py",
   "mimetype": "text/x-python",
   "name": "python",
   "nbconvert_exporter": "python",
   "pygments_lexer": "ipython3",
   "version": "3.9.18"
  }
 },
 "nbformat": 4,
 "nbformat_minor": 5
}
