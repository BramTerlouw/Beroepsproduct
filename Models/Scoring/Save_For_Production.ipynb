{
 "cells": [
  {
   "cell_type": "code",
   "execution_count": 10,
   "id": "363ecfdc-550b-42f1-a1d9-744ca1c74387",
   "metadata": {
    "tags": []
   },
   "outputs": [],
   "source": [
    "import zipfile\n",
    "import boto3\n",
    "from botocore.client import Config\n",
    "import os\n",
    "import json"
   ]
  },
  {
   "cell_type": "code",
   "execution_count": 7,
   "id": "34601e72",
   "metadata": {
    "tags": []
   },
   "outputs": [],
   "source": [
    "# MinIO connection details\n",
    "minio_endpoint = os.getenv('AWS_S3_ENDPOINT')\n",
    "access_key = os.getenv('AWS_ACCESS_KEY_ID')\n",
    "secret_key = os.getenv('AWS_SECRET_ACCESS_KEY')\n",
    "bucket_name = \"models\"\n",
    "region = os.getenv('AWS_DEFAULT_REGION')\n",
    "\n",
    "# Initialize the S3 client\n",
    "s3_client = boto3.client(\n",
    "    's3',\n",
    "    endpoint_url=minio_endpoint,\n",
    "    aws_access_key_id=access_key,\n",
    "    aws_secret_access_key=secret_key,\n",
    "    config=Config(signature_version='s3v4')\n",
    ")"
   ]
  },
  {
   "cell_type": "code",
   "execution_count": 8,
   "id": "99926a13",
   "metadata": {
    "tags": []
   },
   "outputs": [],
   "source": [
    "with zipfile.ZipFile('replacement.zip', 'r') as zipf:\n",
    "    zipf.extractall()"
   ]
  },
  {
   "cell_type": "code",
   "execution_count": 11,
   "id": "977a54d8",
   "metadata": {
    "tags": []
   },
   "outputs": [],
   "source": [
    "with open('should_replace.json', 'r') as f:\n",
    "    decision = json.load(f)"
   ]
  },
  {
   "cell_type": "code",
   "execution_count": null,
   "id": "0205df05-48a2-4ccf-8281-67b7c67b077e",
   "metadata": {},
   "outputs": [],
   "source": [
    "project_name_param = os.getenv('project_name')"
   ]
  },
  {
   "cell_type": "code",
   "execution_count": 40,
   "id": "0e54447c",
   "metadata": {
    "tags": []
   },
   "outputs": [],
   "source": [
    "def empty_production_folder():\n",
    "    objects_to_delete = s3_client.list_objects_v2(Bucket=bucket_name, Prefix=f\"{project_name_param}/production/\")\n",
    "\n",
    "    if 'Contents' in objects_to_delete:\n",
    "        delete_keys = {'Objects': []}\n",
    "        for obj in objects_to_delete['Contents']:\n",
    "            delete_keys['Objects'].append({'Key': obj['Key']})\n",
    "        s3_client.delete_objects(Bucket=bucket_name, Delete=delete_keys)\n",
    "    else:\n",
    "        print(\"No objects found\")"
   ]
  },
  {
   "cell_type": "code",
   "execution_count": 41,
   "id": "51f1f7a3-e929-4320-8e24-9195d11fafa2",
   "metadata": {
    "tags": []
   },
   "outputs": [],
   "source": [
    "def find_model_file():\n",
    "    for file in os.listdir(os.getcwd()):\n",
    "        if file.endswith('.onnx'):\n",
    "            return file\n",
    "\n",
    "    return None"
   ]
  },
  {
   "cell_type": "code",
   "execution_count": 42,
   "id": "3447e579",
   "metadata": {
    "tags": []
   },
   "outputs": [],
   "source": [
    "model = find_model_file()\n",
    "folder_name = f\"{project_name_param}/production/\"\n",
    "\n",
    "def upload_to_production_folder():\n",
    "    s3_client.upload_file(model, bucket_name, folder_name + model)"
   ]
  },
  {
   "cell_type": "code",
   "execution_count": 43,
   "id": "df9f0ddb",
   "metadata": {
    "tags": []
   },
   "outputs": [],
   "source": [
    "if decision['replace']:\n",
    "    empty_production_folder()\n",
    "    upload_to_production_folder()\n",
    "else:\n",
    "    print(\"Current model retained in production.\")"
   ]
  }
 ],
 "metadata": {
  "kernelspec": {
   "display_name": "Python 3.9",
   "language": "python",
   "name": "python3"
  },
  "language_info": {
   "codemirror_mode": {
    "name": "ipython",
    "version": 3
   },
   "file_extension": ".py",
   "mimetype": "text/x-python",
   "name": "python",
   "nbconvert_exporter": "python",
   "pygments_lexer": "ipython3",
   "version": "3.9.18"
  }
 },
 "nbformat": 4,
 "nbformat_minor": 5
}
