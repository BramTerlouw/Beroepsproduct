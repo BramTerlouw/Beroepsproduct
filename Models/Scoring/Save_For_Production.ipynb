{
 "cells": [
  {
   "cell_type": "code",
   "execution_count": null,
   "id": "363ecfdc-550b-42f1-a1d9-744ca1c74387",
   "metadata": {},
   "outputs": [],
   "source": []
  }
 ],
 "metadata": {
  "kernelspec": {
   "display_name": "Python 3.9",
   "language": "python",
   "name": "python3"
  },
  "language_info": {
   "codemirror_mode": {
    "name": "ipython",
    "version": 3
   },
   "file_extension": ".py",
   "mimetype": "text/x-python",
   "name": "python",
   "nbconvert_exporter": "python",
   "pygments_lexer": "ipython3",
   "version": "3.9.18"
  }
 },
 "nbformat": 4,
 "nbformat_minor": 5
}
