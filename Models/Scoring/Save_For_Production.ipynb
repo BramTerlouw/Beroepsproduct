{
 "cells": [
  {
   "cell_type": "markdown",
   "id": "8494dcab-4355-4c1a-862b-d066de0b21a3",
   "metadata": {},
   "source": [
    "**Imports**"
   ]
  },
  {
   "cell_type": "code",
   "execution_count": null,
   "id": "363ecfdc-550b-42f1-a1d9-744ca1c74387",
   "metadata": {
    "tags": []
   },
   "outputs": [],
   "source": [
    "import os\n",
    "import json\n",
    "import zipfile\n",
    "import boto3\n",
    "from botocore.client import Config"
   ]
  },
  {
   "cell_type": "markdown",
   "id": "22fd9d21-9c58-4476-adcd-eb3e351728c2",
   "metadata": {},
   "source": [
    "**Retrieve MinIO credentials and initialize client**"
   ]
  },
  {
   "cell_type": "code",
   "execution_count": null,
   "id": "34601e72",
   "metadata": {
    "tags": []
   },
   "outputs": [],
   "source": [
    "minio_endpoint = os.getenv('AWS_S3_ENDPOINT')\n",
    "access_key = os.getenv('AWS_ACCESS_KEY_ID')\n",
    "secret_key = os.getenv('AWS_SECRET_ACCESS_KEY')\n",
    "bucket_name = \"models\"\n",
    "region = os.getenv('AWS_DEFAULT_REGION')\n",
    "\n",
    "s3_client = boto3.client(\n",
    "    's3',\n",
    "    endpoint_url=minio_endpoint,\n",
    "    aws_access_key_id=access_key,\n",
    "    aws_secret_access_key=secret_key,\n",
    "    config=Config(signature_version='s3v4')\n",
    ")"
   ]
  },
  {
   "cell_type": "markdown",
   "id": "b2eec59f-eb59-4607-bf53-7c65d0b84bf4",
   "metadata": {},
   "source": [
    "**Unzip the replacement.zip file from previous pipeline node**"
   ]
  },
  {
   "cell_type": "code",
   "execution_count": null,
   "id": "99926a13",
   "metadata": {
    "tags": []
   },
   "outputs": [],
   "source": [
    "with zipfile.ZipFile('replacement.zip', 'r') as zipf:\n",
    "    zipf.extractall()"
   ]
  },
  {
   "cell_type": "markdown",
   "id": "a0a4574f-ecf6-4ecf-a2f2-c7418fdf2eac",
   "metadata": {},
   "source": [
    "**Load from json if a new model should replace the current production model**"
   ]
  },
  {
   "cell_type": "code",
   "execution_count": null,
   "id": "977a54d8",
   "metadata": {
    "tags": []
   },
   "outputs": [],
   "source": [
    "with open('should_replace.json', 'r') as f:\n",
    "    decision = json.load(f)"
   ]
  },
  {
   "cell_type": "markdown",
   "id": "3a85486d-ae1b-40e9-87ea-aac8b52a7107",
   "metadata": {},
   "source": [
    "**Get the project name from an environment variable**"
   ]
  },
  {
   "cell_type": "code",
   "execution_count": null,
   "id": "0205df05-48a2-4ccf-8281-67b7c67b077e",
   "metadata": {},
   "outputs": [],
   "source": [
    "project_name_param = os.getenv('project_name')"
   ]
  },
  {
   "cell_type": "markdown",
   "id": "dace56ea-2c45-4546-ac3f-de748352948f",
   "metadata": {},
   "source": [
    "**Define function to remove current production model from production file in MinIO object storage**"
   ]
  },
  {
   "cell_type": "code",
   "execution_count": null,
   "id": "0e54447c",
   "metadata": {
    "tags": []
   },
   "outputs": [],
   "source": [
    "def empty_production_folder():\n",
    "    objects_to_delete = s3_client.list_objects_v2(Bucket=bucket_name, Prefix=f\"{project_name_param}/production/\")\n",
    "\n",
    "    if 'Contents' in objects_to_delete:\n",
    "        delete_keys = {'Objects': []}\n",
    "        for obj in objects_to_delete['Contents']:\n",
    "            delete_keys['Objects'].append({'Key': obj['Key']})\n",
    "        s3_client.delete_objects(Bucket=bucket_name, Delete=delete_keys)\n",
    "    else:\n",
    "        print(\"No objects found\")"
   ]
  },
  {
   "cell_type": "markdown",
   "id": "5a7d302c-666a-4b39-9dd9-3b09970d1508",
   "metadata": {},
   "source": [
    "**Define function to find the file name of the model**"
   ]
  },
  {
   "cell_type": "code",
   "execution_count": null,
   "id": "51f1f7a3-e929-4320-8e24-9195d11fafa2",
   "metadata": {
    "tags": []
   },
   "outputs": [],
   "source": [
    "def find_model_file():\n",
    "    for file in os.listdir(os.getcwd()):\n",
    "        if file.endswith('.onnx'):\n",
    "            return file\n",
    "\n",
    "    return None"
   ]
  },
  {
   "cell_type": "markdown",
   "id": "2351c236-c74c-42ee-98e5-c7469f26f186",
   "metadata": {},
   "source": [
    "**Get the model file name and define function to upload the new model to the production folder in MinIO object storage**"
   ]
  },
  {
   "cell_type": "code",
   "execution_count": null,
   "id": "3447e579",
   "metadata": {
    "tags": []
   },
   "outputs": [],
   "source": [
    "model = find_model_file()\n",
    "folder_name = f\"{project_name_param}/production/\"\n",
    "\n",
    "def upload_to_production_folder():\n",
    "    s3_client.upload_file(model, bucket_name, folder_name + model)"
   ]
  },
  {
   "cell_type": "markdown",
   "id": "b1277c55-5ba5-49cd-9154-159e770a03fa",
   "metadata": {},
   "source": [
    "**If model should be replaced, perform actions to replace current production model with the new one**"
   ]
  },
  {
   "cell_type": "code",
   "execution_count": null,
   "id": "df9f0ddb",
   "metadata": {
    "tags": []
   },
   "outputs": [],
   "source": [
    "if decision['replace']:\n",
    "    empty_production_folder()\n",
    "    upload_to_production_folder()\n",
    "else:\n",
    "    print(\"Current model retained in production.\")"
   ]
  }
 ],
 "metadata": {
  "kernelspec": {
   "display_name": "Python 3.9",
   "language": "python",
   "name": "python3"
  },
  "language_info": {
   "codemirror_mode": {
    "name": "ipython",
    "version": 3
   },
   "file_extension": ".py",
   "mimetype": "text/x-python",
   "name": "python",
   "nbconvert_exporter": "python",
   "pygments_lexer": "ipython3",
   "version": "3.9.16"
  }
 },
 "nbformat": 4,
 "nbformat_minor": 5
}
