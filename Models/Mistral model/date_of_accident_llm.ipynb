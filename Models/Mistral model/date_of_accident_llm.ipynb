{
 "cells": [
  {
   "cell_type": "code",
   "execution_count": null,
   "id": "203ae6d4-00cb-4255-8793-24cb1755bcf5",
   "metadata": {
    "tags": []
   },
   "outputs": [],
   "source": [
    "!pip install openai langchain==0.1.14"
   ]
  },
  {
   "cell_type": "code",
   "execution_count": null,
   "id": "95151480-2b63-46fe-8394-5f975f6d89c6",
   "metadata": {
    "tags": []
   },
   "outputs": [],
   "source": [
    "import os\n",
    "from langchain.chains import ConversationChain\n",
    "from langchain.memory import ConversationBufferMemory\n",
    "from langchain_community.llms import Ollama\n",
    "from langchain.callbacks.streaming_stdout import StreamingStdOutCallbackHandler\n",
    "from langchain.prompts import PromptTemplate\n",
    "from langchain.chains import LLMChain\n",
    "from langchain.chains.combine_documents.stuff import StuffDocumentsChain\n",
    "from langchain.chains import LLMChain\n",
    "from langchain.prompts import PromptTemplate\n",
    "from langchain.evaluation import load_evaluator"
   ]
  },
  {
   "cell_type": "code",
   "execution_count": null,
   "id": "e285720d-ca4c-4002-8cd6-f627084afc08",
   "metadata": {
    "tags": []
   },
   "outputs": [],
   "source": [
    "INFERENCE_SERVER_URL = \"http://llm.ic-shared-llm.svc.cluster.local:11434\"\n",
    "MAX_NEW_TOKENS = 96\n",
    "TOP_K = 10\n",
    "TOP_P = 0.95\n",
    "TYPICAL_P = 0.95\n",
    "TEMPERATURE = 0.9\n",
    "REPETITION_PENALTY = 1.03\n",
    "MODEL = \"mistral\""
   ]
  },
  {
   "cell_type": "code",
   "execution_count": null,
   "id": "1a17cfa9-82a6-4a04-b832-ae84256fa79f",
   "metadata": {
    "tags": []
   },
   "outputs": [],
   "source": [
    "def infer_with_template(input_text, template):\n",
    "    llm = Ollama(\n",
    "        base_url=INFERENCE_SERVER_URL,\n",
    "        model=MODEL,\n",
    "        top_p=TOP_P,\n",
    "        temperature=0.01,\n",
    "        num_predict=512,\n",
    "        repeat_penalty=REPETITION_PENALTY,\n",
    "        callbacks=[StreamingStdOutCallbackHandler()]\n",
    "    )\n",
    "\n",
    "    PROMPT = PromptTemplate.from_template(template)\n",
    "    llm_chain = LLMChain(llm=llm, prompt=PROMPT)\n",
    "    return llm_chain.run(input_text)"
   ]
  },
  {
   "cell_type": "code",
   "execution_count": null,
   "id": "0720a087-2503-43be-90c3-aa04f21f0bd8",
   "metadata": {
    "tags": []
   },
   "outputs": [],
   "source": [
    "# Here i should get the accident notification from a database..."
   ]
  },
  {
   "cell_type": "code",
   "execution_count": null,
   "id": "e76cd536-05ab-42cb-8e4b-c5ed76f34ae2",
   "metadata": {
    "tags": []
   },
   "outputs": [],
   "source": [
    "with open('templates/date_of_accident_template.txt') as f:\n",
    "        template = f.read()"
   ]
  },
  {
   "cell_type": "code",
   "execution_count": null,
   "id": "b1182b65-5a79-4922-81bd-12a53fec2646",
   "metadata": {
    "tags": []
   },
   "outputs": [],
   "source": [
    "date_of_accident = infer_with_template(text, template)"
   ]
  }
 ],
 "metadata": {
  "kernelspec": {
   "display_name": "Python 3 (ipykernel)",
   "language": "python",
   "name": "python3"
  },
  "language_info": {
   "codemirror_mode": {
    "name": "ipython",
    "version": 3
   },
   "file_extension": ".py",
   "mimetype": "text/x-python",
   "name": "python",
   "nbconvert_exporter": "python",
   "pygments_lexer": "ipython3",
   "version": "3.9.19"
  }
 },
 "nbformat": 4,
 "nbformat_minor": 5
}
