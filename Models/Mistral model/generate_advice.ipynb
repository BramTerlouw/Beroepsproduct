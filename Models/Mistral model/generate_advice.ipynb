{
 "cells": [
  {
   "cell_type": "markdown",
   "id": "b2a82599-cf0c-42b6-95fa-57305cdab4fd",
   "metadata": {},
   "source": [
    "**Installation and imports**"
   ]
  },
  {
   "cell_type": "code",
   "execution_count": null,
   "id": "f6f58f89-d1fe-4b85-bda3-b944299f89f8",
   "metadata": {
    "tags": []
   },
   "outputs": [],
   "source": [
    "!pip install -U requests urllib3\n",
    "!pip install -qU langchain-huggingface\n",
    "!pip install langchain_milvus sentence-transformers langchain_community langchain_openai"
   ]
  },
  {
   "cell_type": "code",
   "execution_count": null,
   "id": "a4451908-3356-442a-acea-69618491bd62",
   "metadata": {
    "tags": []
   },
   "outputs": [],
   "source": [
    "import os\n",
    "from uuid import uuid4\n",
    "from langchain_huggingface import HuggingFaceEmbeddings\n",
    "from langchain_milvus import Milvus\n",
    "from langchain_core.documents import Document\n",
    "from langchain_community.llms import Ollama\n",
    "from langchain.callbacks.streaming_stdout import StreamingStdOutCallbackHandler\n",
    "from langchain.chains import create_retrieval_chain\n",
    "from langchain.chains.combine_documents import create_stuff_documents_chain\n",
    "from langchain_core.prompts import ChatPromptTemplate\n",
    "from langchain_openai import ChatOpenAI"
   ]
  },
  {
   "cell_type": "markdown",
   "id": "e30f9929-20db-4b10-a2e4-ae32a95eaeb9",
   "metadata": {},
   "source": [
    "**Define queries**"
   ]
  },
  {
   "cell_type": "code",
   "execution_count": null,
   "id": "69848f42-226e-4be0-89ab-bd5160d99062",
   "metadata": {},
   "outputs": [],
   "source": [
    "incident_id = os.getenv('incident_id')"
   ]
  },
  {
   "cell_type": "code",
   "execution_count": null,
   "id": "405c11f1-9cf8-4b55-8abd-2a4a183a3ac6",
   "metadata": {},
   "outputs": [],
   "source": [
    "select_record_by_id_query = \"\"\"\n",
    "SELECT description, fracture_classification \n",
    "FROM fracture_incidents\n",
    "WHERE id = %s;\n",
    "\"\"\"\n",
    "\n",
    "update_record_query = f\"\"\"\n",
    "UPDATE fracture_incidents\n",
    "SET \n",
    "    fracture_advice = %s\n",
    "WHERE \n",
    "    id = %s;\n",
    "\"\"\""
   ]
  },
  {
   "cell_type": "markdown",
   "id": "04f661c9-b221-4e99-95ee-59fbd5ffdbf9",
   "metadata": {},
   "source": [
    "**Query database to get incident data**"
   ]
  },
  {
   "cell_type": "code",
   "execution_count": null,
   "id": "fbd28141-a5f2-4fb6-af49-a07ab52ab1e8",
   "metadata": {
    "tags": []
   },
   "outputs": [],
   "source": [
    "record = {}\n",
    "\n",
    "try:\n",
    "    conn = psycopg2.connect(**conn_params)\n",
    "    cursor = conn.cursor(cursor_factory=DictCursor)\n",
    "\n",
    "    cursor.execute(select_record_by_id_query, (incident_id,))\n",
    "    record = cursor.fetchone()\n",
    "    \n",
    "    if record:\n",
    "        print(\"Retrieved record:\")\n",
    "        print(record)\n",
    "    else:\n",
    "        print(f\"No record found with ID {incident_id}.\")\n",
    "\n",
    "except psycopg2.DatabaseError as e:\n",
    "    print(f\"Error: {e}\")\n",
    "finally:\n",
    "    if conn:\n",
    "        cursor.close()\n",
    "        conn.close()\n",
    "        print(\"Database connection closed.\")"
   ]
  },
  {
   "cell_type": "markdown",
   "id": "1419e4ed-cd10-4356-b4b0-2ea12b341805",
   "metadata": {
    "tags": []
   },
   "source": [
    "**Download embeddings**"
   ]
  },
  {
   "cell_type": "code",
   "execution_count": null,
   "id": "a620a785-0e19-4012-a672-018040e1d8ec",
   "metadata": {
    "tags": []
   },
   "outputs": [],
   "source": [
    "model_name = \"sentence-transformers/all-mpnet-base-v2\"\n",
    "model_kwargs = {'device': 'cpu'}\n",
    "encode_kwargs = {'normalize_embeddings': False}\n",
    "embeddings = HuggingFaceEmbeddings(\n",
    "    model_name=model_name,\n",
    "    model_kwargs=model_kwargs,\n",
    "    encode_kwargs=encode_kwargs\n",
    ")"
   ]
  },
  {
   "cell_type": "markdown",
   "id": "a6e488d2-451e-4fe6-ba53-a03f182e69d0",
   "metadata": {},
   "source": [
    "**Setting up Milvus Lite Vector database**"
   ]
  },
  {
   "cell_type": "code",
   "execution_count": null,
   "id": "e2c98b2b-a074-4742-b7d3-e88876c73a1b",
   "metadata": {
    "tags": []
   },
   "outputs": [],
   "source": [
    "URI = \"./medical_information.db\"\n",
    "\n",
    "vector_store = Milvus(\n",
    "    embedding_function=embeddings,\n",
    "    connection_args={\"uri\": URI},\n",
    ")"
   ]
  },
  {
   "cell_type": "code",
   "execution_count": null,
   "id": "413e4984-8853-40b5-8f6c-19fb794d28e5",
   "metadata": {
    "tags": []
   },
   "outputs": [],
   "source": [
    "vector_store_saved = Milvus.from_documents(\n",
    "    [Document(page_content=\"foo!\")],\n",
    "    embeddings,\n",
    "    collection_name=\"medical_information\",\n",
    "    connection_args={\"uri\": URI},\n",
    ")"
   ]
  },
  {
   "cell_type": "code",
   "execution_count": null,
   "id": "91b1d9bc-b231-451a-858f-8aa6b8729e51",
   "metadata": {
    "tags": []
   },
   "outputs": [],
   "source": [
    "vector_store_loaded = Milvus(\n",
    "    embeddings,\n",
    "    connection_args={\"uri\": URI},\n",
    "    collection_name=\"patient_records\",\n",
    ")"
   ]
  },
  {
   "cell_type": "markdown",
   "id": "b9a53eb3-86c7-478b-a0ff-e5117f5089ae",
   "metadata": {},
   "source": [
    "**Extracting all information from documents to insert into vector database**"
   ]
  },
  {
   "cell_type": "code",
   "execution_count": null,
   "id": "fd6460ca-261f-4552-9c54-28e96ae19a97",
   "metadata": {
    "tags": []
   },
   "outputs": [],
   "source": [
    "def extract_text_from_txt(file_path):\n",
    "    with open(file_path, 'r', encoding='utf-8') as file:\n",
    "        text = file.read()\n",
    "    return text\n",
    "\n",
    "docs_directory = \"./docs/\"\n",
    "file_paths = [os.path.join(docs_directory, file) for file in os.listdir(docs_directory) if file.endswith('.txt')]\n",
    "\n",
    "documents = []\n",
    "\n",
    "for file_path in file_paths:\n",
    "    page_content = extract_text_from_txt(file_path)\n",
    "    document = Document(\n",
    "        page_content=page_content,\n",
    "        metadata={\"source\": \"medical_record\"}\n",
    "    )\n",
    "    documents.append(document)\n",
    "\n",
    "uuids = [str(uuid4()) for _ in range(len(documents))]\n",
    "\n",
    "vector_store.add_documents(documents=documents, ids=uuids)"
   ]
  },
  {
   "cell_type": "markdown",
   "id": "a2bca5a0-51d2-4c54-aeea-e681df3a3ae5",
   "metadata": {},
   "source": [
    "**Create retriever from vector database for RAG chain**"
   ]
  },
  {
   "cell_type": "code",
   "execution_count": null,
   "id": "eb975618-5aea-4e0a-9db2-5ba7388ad1b4",
   "metadata": {
    "tags": []
   },
   "outputs": [],
   "source": [
    "milvus_retriever = vector_store.as_retriever(search_type=\"mmr\", search_kwargs={\"k\": 1})\n",
    "# milvus_retriever.invoke(\"Avulsion\", k=1, filter={\"source\": \"medical_record\"})"
   ]
  },
  {
   "cell_type": "markdown",
   "id": "114f98b5-6a1a-42f0-801a-77f7aa1eca3d",
   "metadata": {},
   "source": [
    "**Define the large language model**"
   ]
  },
  {
   "cell_type": "code",
   "execution_count": null,
   "id": "f84877d6-1f0a-4706-ac71-35b2aaa52c6f",
   "metadata": {
    "tags": []
   },
   "outputs": [],
   "source": [
    "llm = Ollama(\n",
    "        base_url=\"http://llm.ic-shared-llm.svc.cluster.local:11434\",\n",
    "        model=\"mistral\",\n",
    "        top_p=0.92,\n",
    "        temperature=0.01,\n",
    "        num_predict=512,\n",
    "        repeat_penalty=1.03,\n",
    "        callbacks=[StreamingStdOutCallbackHandler()]\n",
    "    )"
   ]
  },
  {
   "cell_type": "markdown",
   "id": "595adc51-ba2f-44f0-bc12-e8acb17949da",
   "metadata": {},
   "source": [
    "**Perform Retrievel Augmented Generation**"
   ]
  },
  {
   "cell_type": "code",
   "execution_count": null,
   "id": "758f1904-7b0f-4157-9511-7bb4cc3be2bd",
   "metadata": {
    "tags": []
   },
   "outputs": [],
   "source": [
    "retriever = milvus_retriever\n",
    "\n",
    "system_prompt = (\n",
    "    \"Use the given context to give advice about follow-up actions for the incident. \"\n",
    "    \"If you don't know the answer, say you don't know. \"\n",
    "    \"Use three sentence maximum and keep the answer concise. \"\n",
    "    \"Context: {context}\"\n",
    ")\n",
    "prompt = ChatPromptTemplate.from_messages(\n",
    "    [\n",
    "        (\"system\", system_prompt),\n",
    "        (\"human\", \"{input}\"),\n",
    "    ]\n",
    ")\n",
    "question_answer_chain = create_stuff_documents_chain(llm, prompt)\n",
    "chain = create_retrieval_chain(retriever, question_answer_chain)\n",
    "\n",
    "input_text = f\"fracture is classified as: {record['fracture_classification']} and is described as follows: {record['description']}\"\n",
    "\n",
    "advice = chain.invoke({\"input\": input_text})"
   ]
  },
  {
   "cell_type": "markdown",
   "id": "f42c9b09-af67-4e92-aee8-69c80d12a610",
   "metadata": {},
   "source": [
    "**Update database with result from the LLM**"
   ]
  },
  {
   "cell_type": "code",
   "execution_count": null,
   "id": "0940ce3e-cd05-472a-b071-f248d7b92d5c",
   "metadata": {
    "tags": []
   },
   "outputs": [],
   "source": [
    "update_data = (\n",
    "    advice,\n",
    "    incident_id\n",
    ")\n",
    "\n",
    "try:\n",
    "    conn = psycopg2.connect(**conn_params)\n",
    "    cursor = conn.cursor()\n",
    "\n",
    "    cursor.execute(update_record_query, update_data)\n",
    "\n",
    "    conn.commit()\n",
    "    print(f\"Record with ID {incident_id} updated successfully.\")\n",
    "\n",
    "except psycopg2.DatabaseError as e:\n",
    "    print(f\"Error: {e}\")\n",
    "    conn.rollback()\n",
    "finally:\n",
    "    if conn:\n",
    "        cursor.close()\n",
    "        conn.close()\n",
    "        print(\"Database connection closed.\")"
   ]
  }
 ],
 "metadata": {
  "kernelspec": {
   "display_name": "Python 3.9",
   "language": "python",
   "name": "python3"
  },
  "language_info": {
   "codemirror_mode": {
    "name": "ipython",
    "version": 3
   },
   "file_extension": ".py",
   "mimetype": "text/x-python",
   "name": "python",
   "nbconvert_exporter": "python",
   "pygments_lexer": "ipython3",
   "version": "3.9.16"
  }
 },
 "nbformat": 4,
 "nbformat_minor": 5
}
