{
 "cells": [
  {
   "cell_type": "code",
   "execution_count": 27,
   "id": "203ae6d4-00cb-4255-8793-24cb1755bcf5",
   "metadata": {
    "tags": []
   },
   "outputs": [
    {
     "name": "stdout",
     "output_type": "stream",
     "text": [
      "Requirement already satisfied: openai in /opt/app-root/lib/python3.9/site-packages (1.42.0)\n",
      "Requirement already satisfied: langchain==0.1.14 in /opt/app-root/lib/python3.9/site-packages (0.1.14)\n",
      "Requirement already satisfied: dataclasses-json<0.7,>=0.5.7 in /opt/app-root/lib/python3.9/site-packages (from langchain==0.1.14) (0.6.7)\n",
      "Requirement already satisfied: langchain-text-splitters<0.1,>=0.0.1 in /opt/app-root/lib/python3.9/site-packages (from langchain==0.1.14) (0.0.2)\n",
      "Requirement already satisfied: pydantic<3,>=1 in /opt/app-root/lib/python3.9/site-packages (from langchain==0.1.14) (1.10.15)\n",
      "Requirement already satisfied: aiohttp<4.0.0,>=3.8.3 in /opt/app-root/lib/python3.9/site-packages (from langchain==0.1.14) (3.9.5)\n",
      "Collecting langchain-core<0.2.0,>=0.1.37\n",
      "  Downloading langchain_core-0.1.52-py3-none-any.whl (302 kB)\n",
      "\u001b[2K     \u001b[90m━━━━━━━━━━━━━━━━━━━━━━━━━━━━━━━━━━━━━━━\u001b[0m \u001b[32m302.9/302.9 kB\u001b[0m \u001b[31m7.2 MB/s\u001b[0m eta \u001b[36m0:00:00\u001b[0ma \u001b[36m0:00:01\u001b[0m\n",
      "\u001b[?25hRequirement already satisfied: numpy<2,>=1 in /opt/app-root/lib/python3.9/site-packages (from langchain==0.1.14) (1.26.4)\n",
      "Requirement already satisfied: SQLAlchemy<3,>=1.4 in /opt/app-root/lib/python3.9/site-packages (from langchain==0.1.14) (2.0.32)\n",
      "Requirement already satisfied: jsonpatch<2.0,>=1.33 in /opt/app-root/lib/python3.9/site-packages (from langchain==0.1.14) (1.33)\n",
      "Requirement already satisfied: langchain-community<0.1,>=0.0.30 in /opt/app-root/lib/python3.9/site-packages (from langchain==0.1.14) (0.0.38)\n",
      "Requirement already satisfied: requests<3,>=2 in /opt/app-root/lib/python3.9/site-packages (from langchain==0.1.14) (2.32.3)\n",
      "Requirement already satisfied: PyYAML>=5.3 in /opt/app-root/lib/python3.9/site-packages (from langchain==0.1.14) (6.0.1)\n",
      "Requirement already satisfied: tenacity<9.0.0,>=8.1.0 in /opt/app-root/lib/python3.9/site-packages (from langchain==0.1.14) (8.3.0)\n",
      "Requirement already satisfied: langsmith<0.2.0,>=0.1.17 in /opt/app-root/lib/python3.9/site-packages (from langchain==0.1.14) (0.1.106)\n",
      "Requirement already satisfied: async-timeout<5.0.0,>=4.0.0 in /opt/app-root/lib/python3.9/site-packages (from langchain==0.1.14) (4.0.3)\n",
      "Requirement already satisfied: httpx<1,>=0.23.0 in /opt/app-root/lib/python3.9/site-packages (from openai) (0.27.2)\n",
      "Requirement already satisfied: sniffio in /opt/app-root/lib/python3.9/site-packages (from openai) (1.3.1)\n",
      "Requirement already satisfied: tqdm>4 in /opt/app-root/lib/python3.9/site-packages (from openai) (4.66.4)\n",
      "Requirement already satisfied: jiter<1,>=0.4.0 in /opt/app-root/lib/python3.9/site-packages (from openai) (0.5.0)\n",
      "Requirement already satisfied: distro<2,>=1.7.0 in /opt/app-root/lib/python3.9/site-packages (from openai) (1.9.0)\n",
      "Requirement already satisfied: typing-extensions<5,>=4.11 in /opt/app-root/lib/python3.9/site-packages (from openai) (4.11.0)\n",
      "Requirement already satisfied: anyio<5,>=3.5.0 in /opt/app-root/lib/python3.9/site-packages (from openai) (4.3.0)\n",
      "Requirement already satisfied: frozenlist>=1.1.1 in /opt/app-root/lib/python3.9/site-packages (from aiohttp<4.0.0,>=3.8.3->langchain==0.1.14) (1.4.1)\n",
      "Requirement already satisfied: yarl<2.0,>=1.0 in /opt/app-root/lib/python3.9/site-packages (from aiohttp<4.0.0,>=3.8.3->langchain==0.1.14) (1.9.4)\n",
      "Requirement already satisfied: multidict<7.0,>=4.5 in /opt/app-root/lib/python3.9/site-packages (from aiohttp<4.0.0,>=3.8.3->langchain==0.1.14) (6.0.5)\n",
      "Requirement already satisfied: attrs>=17.3.0 in /opt/app-root/lib/python3.9/site-packages (from aiohttp<4.0.0,>=3.8.3->langchain==0.1.14) (23.2.0)\n",
      "Requirement already satisfied: aiosignal>=1.1.2 in /opt/app-root/lib/python3.9/site-packages (from aiohttp<4.0.0,>=3.8.3->langchain==0.1.14) (1.3.1)\n",
      "Requirement already satisfied: exceptiongroup>=1.0.2 in /opt/app-root/lib/python3.9/site-packages (from anyio<5,>=3.5.0->openai) (1.2.1)\n",
      "Requirement already satisfied: idna>=2.8 in /opt/app-root/lib/python3.9/site-packages (from anyio<5,>=3.5.0->openai) (3.7)\n",
      "Requirement already satisfied: marshmallow<4.0.0,>=3.18.0 in /opt/app-root/lib/python3.9/site-packages (from dataclasses-json<0.7,>=0.5.7->langchain==0.1.14) (3.22.0)\n",
      "Requirement already satisfied: typing-inspect<1,>=0.4.0 in /opt/app-root/lib/python3.9/site-packages (from dataclasses-json<0.7,>=0.5.7->langchain==0.1.14) (0.9.0)\n",
      "Requirement already satisfied: httpcore==1.* in /opt/app-root/lib/python3.9/site-packages (from httpx<1,>=0.23.0->openai) (1.0.5)\n",
      "Requirement already satisfied: certifi in /opt/app-root/lib/python3.9/site-packages (from httpx<1,>=0.23.0->openai) (2024.2.2)\n",
      "Requirement already satisfied: h11<0.15,>=0.13 in /opt/app-root/lib/python3.9/site-packages (from httpcore==1.*->httpx<1,>=0.23.0->openai) (0.14.0)\n",
      "Requirement already satisfied: jsonpointer>=1.9 in /opt/app-root/lib/python3.9/site-packages (from jsonpatch<2.0,>=1.33->langchain==0.1.14) (2.4)\n",
      "Requirement already satisfied: packaging<24.0,>=23.2 in /opt/app-root/lib/python3.9/site-packages (from langchain-core<0.2.0,>=0.1.37->langchain==0.1.14) (23.2)\n",
      "Requirement already satisfied: orjson<4.0.0,>=3.9.14 in /opt/app-root/lib/python3.9/site-packages (from langsmith<0.2.0,>=0.1.17->langchain==0.1.14) (3.10.7)\n",
      "Requirement already satisfied: urllib3<3,>=1.21.1 in /opt/app-root/lib/python3.9/site-packages (from requests<3,>=2->langchain==0.1.14) (2.2.2)\n",
      "Requirement already satisfied: charset-normalizer<4,>=2 in /opt/app-root/lib/python3.9/site-packages (from requests<3,>=2->langchain==0.1.14) (3.3.2)\n",
      "Requirement already satisfied: greenlet!=0.4.17 in /opt/app-root/lib/python3.9/site-packages (from SQLAlchemy<3,>=1.4->langchain==0.1.14) (3.0.3)\n",
      "Requirement already satisfied: mypy-extensions>=0.3.0 in /opt/app-root/lib/python3.9/site-packages (from typing-inspect<1,>=0.4.0->dataclasses-json<0.7,>=0.5.7->langchain==0.1.14) (1.0.0)\n",
      "Installing collected packages: langchain-core\n",
      "  Attempting uninstall: langchain-core\n",
      "    Found existing installation: langchain-core 0.2.36\n",
      "    Uninstalling langchain-core-0.2.36:\n",
      "      Successfully uninstalled langchain-core-0.2.36\n",
      "\u001b[31mERROR: pip's dependency resolver does not currently take into account all the packages that are installed. This behaviour is the source of the following dependency conflicts.\n",
      "langchain-openai 0.1.23 requires langchain-core<0.3.0,>=0.2.35, but you have langchain-core 0.1.52 which is incompatible.\n",
      "langchain-milvus 0.1.4 requires langchain-core<0.3.0,>=0.2.20, but you have langchain-core 0.1.52 which is incompatible.\u001b[0m\u001b[31m\n",
      "\u001b[0mSuccessfully installed langchain-core-0.1.52\n",
      "\n",
      "\u001b[1m[\u001b[0m\u001b[34;49mnotice\u001b[0m\u001b[1;39;49m]\u001b[0m\u001b[39;49m A new release of pip available: \u001b[0m\u001b[31;49m22.2.2\u001b[0m\u001b[39;49m -> \u001b[0m\u001b[32;49m24.2\u001b[0m\n",
      "\u001b[1m[\u001b[0m\u001b[34;49mnotice\u001b[0m\u001b[1;39;49m]\u001b[0m\u001b[39;49m To update, run: \u001b[0m\u001b[32;49mpip install --upgrade pip\u001b[0m\n",
      "Collecting psycopg2\n",
      "  Downloading psycopg2-2.9.9.tar.gz (384 kB)\n",
      "\u001b[2K     \u001b[90m━━━━━━━━━━━━━━━━━━━━━━━━━━━━━━━━━━━━━━━\u001b[0m \u001b[32m384.9/384.9 kB\u001b[0m \u001b[31m7.9 MB/s\u001b[0m eta \u001b[36m0:00:00\u001b[0ma \u001b[36m0:00:01\u001b[0m\n",
      "\u001b[?25h  Preparing metadata (setup.py) ... \u001b[?25ldone\n",
      "\u001b[?25hBuilding wheels for collected packages: psycopg2\n",
      "  Building wheel for psycopg2 (setup.py) ... \u001b[?25ldone\n",
      "\u001b[?25h  Created wheel for psycopg2: filename=psycopg2-2.9.9-cp39-cp39-linux_x86_64.whl size=494323 sha256=de26600d2b165e8fafca6e910d5a5fea36cbf298ffca6381cd7ed68fc241626e\n",
      "  Stored in directory: /tmp/pip-ephem-wheel-cache-7zf2vket/wheels/3a/06/25/adb124afd8c8346e45c455f6586f7289cde2b4e339dfbcd9e9\n",
      "Successfully built psycopg2\n",
      "Installing collected packages: psycopg2\n",
      "Successfully installed psycopg2-2.9.9\n",
      "\n",
      "\u001b[1m[\u001b[0m\u001b[34;49mnotice\u001b[0m\u001b[1;39;49m]\u001b[0m\u001b[39;49m A new release of pip available: \u001b[0m\u001b[31;49m22.2.2\u001b[0m\u001b[39;49m -> \u001b[0m\u001b[32;49m24.2\u001b[0m\n",
      "\u001b[1m[\u001b[0m\u001b[34;49mnotice\u001b[0m\u001b[1;39;49m]\u001b[0m\u001b[39;49m To update, run: \u001b[0m\u001b[32;49mpip install --upgrade pip\u001b[0m\n"
     ]
    }
   ],
   "source": [
    "!pip install openai langchain==0.1.14\n",
    "!pip install psycopg2"
   ]
  },
  {
   "cell_type": "code",
   "execution_count": 33,
   "id": "95151480-2b63-46fe-8394-5f975f6d89c6",
   "metadata": {
    "tags": []
   },
   "outputs": [],
   "source": [
    "import os\n",
    "import psycopg2\n",
    "from psycopg2.extras import DictCursor\n",
    "from langchain.chains import ConversationChain\n",
    "from langchain.memory import ConversationBufferMemory\n",
    "from langchain_community.llms import Ollama\n",
    "from langchain.callbacks.streaming_stdout import StreamingStdOutCallbackHandler\n",
    "from langchain.prompts import PromptTemplate\n",
    "from langchain.chains import LLMChain\n",
    "from langchain.chains.combine_documents.stuff import StuffDocumentsChain\n",
    "from langchain.chains import LLMChain\n",
    "from langchain.prompts import PromptTemplate\n",
    "from langchain.evaluation import load_evaluator"
   ]
  },
  {
   "cell_type": "code",
   "execution_count": 39,
   "id": "e285720d-ca4c-4002-8cd6-f627084afc08",
   "metadata": {
    "tags": []
   },
   "outputs": [],
   "source": [
    "TOP_P = 0.95\n",
    "NUM_PRED = 512\n",
    "MODEL = \"mistral\"\n",
    "TEMPERATURE = 0.01\n",
    "REPETITION_PENALTY = 1.03\n",
    "INFERENCE_SERVER_URL = \"http://llm.ic-shared-llm.svc.cluster.local:11434\""
   ]
  },
  {
   "cell_type": "code",
   "execution_count": 35,
   "id": "1a17cfa9-82a6-4a04-b832-ae84256fa79f",
   "metadata": {
    "tags": []
   },
   "outputs": [],
   "source": [
    "def infer_with_template(input_text, template):\n",
    "    llm = Ollama(\n",
    "        base_url=INFERENCE_SERVER_URL,\n",
    "        model=MODEL,\n",
    "        top_p=TOP_P,\n",
    "        temperature=TEMPERATURE,\n",
    "        num_predict=NUM_PRED,\n",
    "        repeat_penalty=REPETITION_PENALTY,\n",
    "        callbacks=[StreamingStdOutCallbackHandler()]\n",
    "    )\n",
    "\n",
    "    PROMPT = PromptTemplate.from_template(template)\n",
    "    llm_chain = LLMChain(llm=llm, prompt=PROMPT)\n",
    "    return llm_chain.run(input_text)"
   ]
  },
  {
   "cell_type": "code",
   "execution_count": null,
   "id": "dbecaa63-d496-4695-b1f6-d04dd58f11f4",
   "metadata": {},
   "outputs": [],
   "source": [
    "conn_params = {\n",
    "    \"dbname\": os.getenv('DATABASE_NAME'),\n",
    "    \"user\": os.getenv('DATABASE_USER'),\n",
    "    \"password\": os.getenv('DATABASE_PASS'),\n",
    "    \"host\": os.getenv('DATABASE_HOST'),\n",
    "    \"port\": os.getenv('DATABASE_PORT')\n",
    "}"
   ]
  },
  {
   "cell_type": "code",
   "execution_count": null,
   "id": "628d588d-3e8f-4529-a619-50cd54560e88",
   "metadata": {},
   "outputs": [],
   "source": [
    "incident_id = 1\n",
    "entity_name = os.getenv('ENTITY_TO_PROCES')"
   ]
  },
  {
   "cell_type": "code",
   "execution_count": null,
   "id": "ed019cc8-a120-419b-a07c-eace753fcf5c",
   "metadata": {},
   "outputs": [],
   "source": [
    "select_record_by_id_query = \"\"\"\n",
    "SELECT * \n",
    "FROM fracture_incidents\n",
    "WHERE id = %s;\n",
    "\"\"\"\n",
    "\n",
    "update_record_query = f\"\"\"\n",
    "UPDATE fracture_incidents\n",
    "SET \n",
    "    {entity_name} = %s\n",
    "WHERE \n",
    "    id = %s;\n",
    "\"\"\""
   ]
  },
  {
   "cell_type": "code",
   "execution_count": 52,
   "id": "1ffb88a1-f5aa-44d2-bca2-d199f7ce386c",
   "metadata": {
    "tags": []
   },
   "outputs": [
    {
     "name": "stdout",
     "output_type": "stream",
     "text": [
      "Retrieved record:\n",
      "[1, '24 januari 2024, 19:00', None, 'In Amsterdam heeft een fietser op 24 januari 2024 rond 19:00 een ernstig ongeluk gehad terwijl hij door een drukke straat reed. De fietser raakte een gladde plek op de weg en kwam ongelukkig ten val. Na de val klaagde de fietser over hevige pijn in de enkel, die direct begon op te zwellen. Omstanders hielpen de fietser overeind en alarmeerden een ambulance. In het ziekenhuis werd een röntgenfoto gemaakt, en de arts vermoedt een breuk in de enkel. Het slachtoffer is opgenomen voor verdere observatie en behandeling.', 'accident_0001', None, 'unprocessed']\n",
      "Database connection closed.\n"
     ]
    }
   ],
   "source": [
    "record = {}\n",
    "\n",
    "try:\n",
    "    conn = psycopg2.connect(**conn_params)\n",
    "    cursor = conn.cursor(cursor_factory=DictCursor)\n",
    "\n",
    "    cursor.execute(select_record_by_id_query, (incident_id,))\n",
    "    record = cursor.fetchone()\n",
    "    \n",
    "    if record:\n",
    "        print(\"Retrieved record:\")\n",
    "        print(record)\n",
    "    else:\n",
    "        print(f\"No record found with ID {incident_id}.\")\n",
    "\n",
    "except psycopg2.DatabaseError as e:\n",
    "    print(f\"Error: {e}\")\n",
    "finally:\n",
    "    if conn:\n",
    "        cursor.close()\n",
    "        conn.close()\n",
    "        print(\"Database connection closed.\")"
   ]
  },
  {
   "cell_type": "code",
   "execution_count": 37,
   "id": "e76cd536-05ab-42cb-8e4b-c5ed76f34ae2",
   "metadata": {
    "tags": []
   },
   "outputs": [],
   "source": [
    "with open(f\"templates/{entity_name}_template.txt\") as f:\n",
    "        template = f.read()"
   ]
  },
  {
   "cell_type": "code",
   "execution_count": 40,
   "id": "b1182b65-5a79-4922-81bd-12a53fec2646",
   "metadata": {
    "tags": []
   },
   "outputs": [
    {
     "name": "stderr",
     "output_type": "stream",
     "text": [
      "/opt/app-root/lib64/python3.9/site-packages/langchain_core/_api/deprecation.py:119: LangChainDeprecationWarning: The method `Chain.run` was deprecated in langchain 0.1.0 and will be removed in 0.2.0. Use invoke instead.\n",
      "  warn_deprecated(\n"
     ]
    },
    {
     "name": "stdout",
     "output_type": "stream",
     "text": [
      "24 januari 2024, 19:00"
     ]
    }
   ],
   "source": [
    "entity = infer_with_template(record['description'], template)"
   ]
  },
  {
   "cell_type": "code",
   "execution_count": 51,
   "id": "34c598c5-7ef1-49fa-b9ab-84361283a87a",
   "metadata": {
    "tags": []
   },
   "outputs": [
    {
     "name": "stdout",
     "output_type": "stream",
     "text": [
      "Record with ID 1 updated successfully.\n",
      "Database connection closed.\n"
     ]
    }
   ],
   "source": [
    "update_data = (\n",
    "    entity,\n",
    "    incident_id\n",
    ")\n",
    "\n",
    "try:\n",
    "    conn = psycopg2.connect(**conn_params)\n",
    "    cursor = conn.cursor()\n",
    "\n",
    "    cursor.execute(update_record_query, update_data)\n",
    "    \n",
    "    conn.commit()\n",
    "    print(f\"Record with ID {incident_id} updated successfully.\")\n",
    "\n",
    "except psycopg2.DatabaseError as e:\n",
    "    print(f\"Error: {e}\")\n",
    "    conn.rollback()\n",
    "finally:\n",
    "    if conn:\n",
    "        cursor.close()\n",
    "        conn.close()\n",
    "        print(\"Database connection closed.\")"
   ]
  }
 ],
 "metadata": {
  "kernelspec": {
   "display_name": "Python 3.9",
   "language": "python",
   "name": "python3"
  },
  "language_info": {
   "codemirror_mode": {
    "name": "ipython",
    "version": 3
   },
   "file_extension": ".py",
   "mimetype": "text/x-python",
   "name": "python",
   "nbconvert_exporter": "python",
   "pygments_lexer": "ipython3",
   "version": "3.9.16"
  }
 },
 "nbformat": 4,
 "nbformat_minor": 5
}
