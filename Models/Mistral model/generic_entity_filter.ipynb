{
 "cells": [
  {
   "cell_type": "markdown",
   "id": "03ec541c-e2ca-4fbb-900e-7d339a6de97b",
   "metadata": {},
   "source": [
    "**Installation and imports**"
   ]
  },
  {
   "cell_type": "code",
   "execution_count": null,
   "id": "203ae6d4-00cb-4255-8793-24cb1755bcf5",
   "metadata": {
    "tags": []
   },
   "outputs": [],
   "source": [
    "!pip install openai langchain==0.1.14\n",
    "!pip install psycopg2"
   ]
  },
  {
   "cell_type": "code",
   "execution_count": null,
   "id": "e0cf8adc-223f-42cd-9fc4-4c15eade2af1",
   "metadata": {
    "tags": []
   },
   "outputs": [],
   "source": [
    "import os\n",
    "import psycopg2\n",
    "from psycopg2.extras import DictCursor\n",
    "from langchain.chains import ConversationChain\n",
    "from langchain.memory import ConversationBufferMemory\n",
    "from langchain_community.llms import Ollama\n",
    "from langchain.callbacks.streaming_stdout import StreamingStdOutCallbackHandler\n",
    "from langchain.prompts import PromptTemplate\n",
    "from langchain.chains import LLMChain\n",
    "from langchain.chains.combine_documents.stuff import StuffDocumentsChain\n",
    "from langchain.chains import LLMChain\n",
    "from langchain.prompts import PromptTemplate\n",
    "from langchain.evaluation import load_evaluator"
   ]
  },
  {
   "cell_type": "markdown",
   "id": "81646d8e-aea7-4674-88d0-289763f1512f",
   "metadata": {},
   "source": [
    "**Define inference function**"
   ]
  },
  {
   "cell_type": "code",
   "execution_count": null,
   "id": "1a17cfa9-82a6-4a04-b832-ae84256fa79f",
   "metadata": {
    "tags": []
   },
   "outputs": [],
   "source": [
    "def perform_inference_with_template(input_text, template):\n",
    "    llm = Ollama(\n",
    "        base_url=\"http://llm.ic-shared-llm.svc.cluster.local:11434\",\n",
    "        model=\"mistral\",\n",
    "        top_p=0.95,\n",
    "        temperature=0.01,\n",
    "        num_predict=512,\n",
    "        repeat_penalty=1.03,\n",
    "        callbacks=[StreamingStdOutCallbackHandler()]\n",
    "    )\n",
    "\n",
    "    PROMPT = PromptTemplate.from_template(template)\n",
    "    llm_chain = LLMChain(llm=llm, prompt=PROMPT)\n",
    "    return llm_chain.run(input_text)"
   ]
  },
  {
   "cell_type": "markdown",
   "id": "898dffa7-3d74-41b6-850e-552c6345d498",
   "metadata": {},
   "source": [
    "**Get PostgreSQL database connection parameters from environment variables**"
   ]
  },
  {
   "cell_type": "code",
   "execution_count": null,
   "id": "dbecaa63-d496-4695-b1f6-d04dd58f11f4",
   "metadata": {},
   "outputs": [],
   "source": [
    "conn_params = {\n",
    "    \"dbname\": os.getenv('DATABASE_NAME'),\n",
    "    \"user\": os.getenv('DATABASE_USER'),\n",
    "    \"password\": os.getenv('DATABASE_PASS'),\n",
    "    \"host\": os.getenv('DATABASE_HOST'),\n",
    "    \"port\": os.getenv('DATABASE_PORT')\n",
    "}"
   ]
  },
  {
   "cell_type": "markdown",
   "id": "70ebb6fe-87b7-4152-ba08-ccb43e2cb6f5",
   "metadata": {},
   "source": [
    "**Define queries**"
   ]
  },
  {
   "cell_type": "code",
   "execution_count": null,
   "id": "628d588d-3e8f-4529-a619-50cd54560e88",
   "metadata": {},
   "outputs": [],
   "source": [
    "incident_id = os.getenv('INCIDENT_ID')\n",
    "entity_name = os.getenv('ENTITY_TO_PROCES')"
   ]
  },
  {
   "cell_type": "code",
   "execution_count": null,
   "id": "ed019cc8-a120-419b-a07c-eace753fcf5c",
   "metadata": {},
   "outputs": [],
   "source": [
    "select_record_by_id_query = \"\"\"\n",
    "SELECT * \n",
    "FROM fracture_incidents\n",
    "WHERE id = %s;\n",
    "\"\"\"\n",
    "\n",
    "update_record_query = f\"\"\"\n",
    "UPDATE fracture_incidents\n",
    "SET \n",
    "    {entity_name} = %s\n",
    "WHERE \n",
    "    id = %s;\n",
    "\"\"\""
   ]
  },
  {
   "cell_type": "markdown",
   "id": "4ab6df80-32e0-464d-95d4-095d50588091",
   "metadata": {},
   "source": [
    "**Query database to get incident data**"
   ]
  },
  {
   "cell_type": "code",
   "execution_count": null,
   "id": "1ffb88a1-f5aa-44d2-bca2-d199f7ce386c",
   "metadata": {
    "tags": []
   },
   "outputs": [],
   "source": [
    "record = {}\n",
    "\n",
    "try:\n",
    "    conn = psycopg2.connect(**conn_params)\n",
    "    cursor = conn.cursor(cursor_factory=DictCursor)\n",
    "\n",
    "    cursor.execute(select_record_by_id_query, (incident_id,))\n",
    "    record = cursor.fetchone()\n",
    "    \n",
    "    if record:\n",
    "        print(\"Retrieved record:\")\n",
    "        print(record)\n",
    "    else:\n",
    "        print(f\"No record found with ID {incident_id}.\")\n",
    "\n",
    "except psycopg2.DatabaseError as e:\n",
    "    print(f\"Error: {e}\")\n",
    "finally:\n",
    "    if conn:\n",
    "        cursor.close()\n",
    "        conn.close()\n",
    "        print(\"Database connection closed.\")"
   ]
  },
  {
   "cell_type": "markdown",
   "id": "44d2f92d-6678-48ff-b400-a389471727ff",
   "metadata": {},
   "source": [
    "**Read the template for this node**"
   ]
  },
  {
   "cell_type": "code",
   "execution_count": null,
   "id": "e76cd536-05ab-42cb-8e4b-c5ed76f34ae2",
   "metadata": {
    "tags": []
   },
   "outputs": [],
   "source": [
    "with open(f\"templates/{entity_name}_template.txt\") as f:\n",
    "        template = f.read()"
   ]
  },
  {
   "cell_type": "markdown",
   "id": "f578f498-630f-40b9-bce9-a8ecd16cd47e",
   "metadata": {},
   "source": [
    "**Use the template and the data from database with the LLM**"
   ]
  },
  {
   "cell_type": "code",
   "execution_count": null,
   "id": "b1182b65-5a79-4922-81bd-12a53fec2646",
   "metadata": {
    "tags": []
   },
   "outputs": [],
   "source": [
    "entity = perform_inference_with_template(record['description'], template)"
   ]
  },
  {
   "cell_type": "markdown",
   "id": "d6756e40-4230-46ce-8968-c5e5583d2fb5",
   "metadata": {},
   "source": [
    "**Update database with result from the LLM**"
   ]
  },
  {
   "cell_type": "code",
   "execution_count": null,
   "id": "34c598c5-7ef1-49fa-b9ab-84361283a87a",
   "metadata": {
    "tags": []
   },
   "outputs": [],
   "source": [
    "update_data = (\n",
    "    entity,\n",
    "    incident_id\n",
    ")\n",
    "\n",
    "try:\n",
    "    conn = psycopg2.connect(**conn_params)\n",
    "    cursor = conn.cursor()\n",
    "\n",
    "    cursor.execute(update_record_query, update_data)\n",
    "\n",
    "    conn.commit()\n",
    "    print(f\"Record with ID {incident_id} updated successfully.\")\n",
    "\n",
    "except psycopg2.DatabaseError as e:\n",
    "    print(f\"Error: {e}\")\n",
    "    conn.rollback()\n",
    "finally:\n",
    "    if conn:\n",
    "        cursor.close()\n",
    "        conn.close()\n",
    "        print(\"Database connection closed.\")"
   ]
  }
 ],
 "metadata": {
  "kernelspec": {
   "display_name": "Python 3.9",
   "language": "python",
   "name": "python3"
  },
  "language_info": {
   "codemirror_mode": {
    "name": "ipython",
    "version": 3
   },
   "file_extension": ".py",
   "mimetype": "text/x-python",
   "name": "python",
   "nbconvert_exporter": "python",
   "pygments_lexer": "ipython3",
   "version": "3.9.16"
  }
 },
 "nbformat": 4,
 "nbformat_minor": 5
}
