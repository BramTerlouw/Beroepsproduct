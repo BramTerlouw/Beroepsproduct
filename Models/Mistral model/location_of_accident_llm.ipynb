{
 "cells": [
  {
   "cell_type": "code",
   "execution_count": null,
   "id": "c7590a16-627c-4573-92b9-f4fc6407ae30",
   "metadata": {},
   "outputs": [],
   "source": [
    "!pip install openai langchain==0.1.14"
   ]
  },
  {
   "cell_type": "code",
   "execution_count": null,
   "id": "2026ee74-5960-455d-910d-cace9321d104",
   "metadata": {},
   "outputs": [],
   "source": [
    "import os\n",
    "from langchain.chains import ConversationChain\n",
    "from langchain.memory import ConversationBufferMemory\n",
    "from langchain_community.llms import Ollama\n",
    "from langchain.callbacks.streaming_stdout import StreamingStdOutCallbackHandler\n",
    "from langchain.prompts import PromptTemplate\n",
    "from langchain.chains import LLMChain\n",
    "from langchain.chains.combine_documents.stuff import StuffDocumentsChain\n",
    "from langchain.chains import LLMChain\n",
    "from langchain.prompts import PromptTemplate\n",
    "from langchain.evaluation import load_evaluator"
   ]
  },
  {
   "cell_type": "code",
   "execution_count": null,
   "id": "328d7ab3-3722-4d26-ba17-f260a6a6cbcb",
   "metadata": {},
   "outputs": [],
   "source": [
    "INFERENCE_SERVER_URL = \"http://llm.ic-shared-llm.svc.cluster.local:11434\"\n",
    "MAX_NEW_TOKENS = 96\n",
    "TOP_K = 10\n",
    "TOP_P = 0.95\n",
    "TYPICAL_P = 0.95\n",
    "TEMPERATURE = 0.9\n",
    "REPETITION_PENALTY = 1.03\n",
    "MODEL = \"mistral\""
   ]
  },
  {
   "cell_type": "code",
   "execution_count": null,
   "id": "f6ebecc8-5f34-4fc7-be58-0338e75024ce",
   "metadata": {},
   "outputs": [],
   "source": [
    "def infer_with_template(input_text, template):\n",
    "    llm = Ollama(\n",
    "        base_url=INFERENCE_SERVER_URL,\n",
    "        model=MODEL,\n",
    "        top_p=TOP_P,\n",
    "        temperature=0.01,\n",
    "        num_predict=512,\n",
    "        repeat_penalty=REPETITION_PENALTY,\n",
    "        callbacks=[StreamingStdOutCallbackHandler()]\n",
    "    )\n",
    "\n",
    "    PROMPT = PromptTemplate.from_template(template)\n",
    "    llm_chain = LLMChain(llm=llm, prompt=PROMPT)\n",
    "    return llm_chain.run(input_text)"
   ]
  },
  {
   "cell_type": "code",
   "execution_count": null,
   "id": "a532cd71-db82-43a4-9ee9-90d36d7d9e04",
   "metadata": {},
   "outputs": [],
   "source": [
    "# Here i should get the accident notification from a database..."
   ]
  },
  {
   "cell_type": "code",
   "execution_count": null,
   "id": "ef6a5114-e2bd-42cb-a7ee-39138a79ae68",
   "metadata": {},
   "outputs": [],
   "source": [
    "with open('templates/location_of_accident_template.txt') as f:\n",
    "        template = f.read()"
   ]
  },
  {
   "cell_type": "code",
   "execution_count": null,
   "id": "fbda5515-2e58-4bfb-a40b-5d8f29d3ec35",
   "metadata": {},
   "outputs": [],
   "source": [
    "location_of_accident = infer_with_template(text, template)"
   ]
  }
 ],
 "metadata": {
  "kernelspec": {
   "display_name": "Python 3 (ipykernel)",
   "language": "python",
   "name": "python3"
  },
  "language_info": {
   "codemirror_mode": {
    "name": "ipython",
    "version": 3
   },
   "file_extension": ".py",
   "mimetype": "text/x-python",
   "name": "python",
   "nbconvert_exporter": "python",
   "pygments_lexer": "ipython3",
   "version": "3.9.19"
  }
 },
 "nbformat": 4,
 "nbformat_minor": 5
}
