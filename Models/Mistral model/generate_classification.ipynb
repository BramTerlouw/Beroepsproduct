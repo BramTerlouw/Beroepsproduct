{
 "cells": [
  {
   "cell_type": "markdown",
   "id": "ea06c7f5-fe31-465d-bee6-508c1d3906c8",
   "metadata": {},
   "source": [
    "**Installation and imports**"
   ]
  },
  {
   "cell_type": "code",
   "execution_count": null,
   "id": "15cbabf5-c6a5-403b-b7d7-57ca1268f031",
   "metadata": {},
   "outputs": [],
   "source": [
    "!pip install psycopg2"
   ]
  },
  {
   "cell_type": "code",
   "execution_count": null,
   "id": "dfefab34-3bbc-4947-948b-d92978e08de2",
   "metadata": {
    "tags": []
   },
   "outputs": [],
   "source": [
    "import os\n",
    "import requests\n",
    "import numpy as np\n",
    "from tensorflow.keras.preprocessing import image\n",
    "import psycopg2\n",
    "from psycopg2.extras import DictCursor"
   ]
  },
  {
   "cell_type": "markdown",
   "id": "d357471a-ec0f-4567-b137-e3ffc890eb96",
   "metadata": {},
   "source": [
    "**Get PostgreSQL database connection parameters from environment variables**"
   ]
  },
  {
   "cell_type": "code",
   "execution_count": null,
   "id": "85a47e80-381f-4eb2-952b-f5e487e71f49",
   "metadata": {},
   "outputs": [],
   "source": [
    "conn_params = {\n",
    "    \"dbname\": os.getenv('DATABASE_NAME'),\n",
    "    \"user\": os.getenv('DATABASE_USER'),\n",
    "    \"password\": os.getenv('DATABASE_PASS'),\n",
    "    \"host\": os.getenv('DATABASE_HOST'),\n",
    "    \"port\": os.getenv('DATABASE_PORT')\n",
    "}"
   ]
  },
  {
   "cell_type": "markdown",
   "id": "0d97edc5-1278-486c-beb7-c3af12d14ae7",
   "metadata": {},
   "source": [
    "**Define queries**"
   ]
  },
  {
   "cell_type": "code",
   "execution_count": null,
   "id": "b3177d80-100b-4a77-bf74-6afef93e300a",
   "metadata": {},
   "outputs": [],
   "source": [
    "incident_id = os.getenv('INCIDENT_ID')"
   ]
  },
  {
   "cell_type": "code",
   "execution_count": null,
   "id": "d1772031-36de-49de-b5b8-60bb1ec4f3aa",
   "metadata": {},
   "outputs": [],
   "source": [
    "select_ids_query = \"\"\"\n",
    "SELECT scan_image\n",
    "FROM fracture_incidents\n",
    "WHERE id = %s;\n",
    "\"\"\"\n",
    "\n",
    "update_record_query = f\"\"\"\n",
    "UPDATE fracture_incidents\n",
    "SET \n",
    "    fracture_classification  = %s\n",
    "WHERE \n",
    "    id = %s;\n",
    "\"\"\""
   ]
  },
  {
   "cell_type": "markdown",
   "id": "57fef10a-e702-491d-8175-670eb7e0798f",
   "metadata": {},
   "source": [
    "**Query database to get unprocessed incidents**"
   ]
  },
  {
   "cell_type": "code",
   "execution_count": null,
   "id": "0f2535c6-2745-4dd6-852b-5ef9a8f1efbd",
   "metadata": {},
   "outputs": [],
   "source": [
    "image_to_process = ''\n",
    "\n",
    "try:\n",
    "    conn = psycopg2.connect(**conn_params)\n",
    "    cursor = conn.cursor()\n",
    "\n",
    "    cursor.execute(select_ids_query, (incident_id,))\n",
    "    image_to_process = cursor.fetchone()\n",
    "    \n",
    "    if image_to_process:\n",
    "        print(\"Retrieved image to process is:\")\n",
    "        print(record)\n",
    "    else:\n",
    "        print(f\"No records found with id {incident_id}.\")\n",
    "\n",
    "except psycopg2.DatabaseError as e:\n",
    "    print(f\"Error: {e}\")\n",
    "finally:\n",
    "    if conn:\n",
    "        cursor.close()\n",
    "        conn.close()\n",
    "        print(\"Database connection closed.\")"
   ]
  },
  {
   "cell_type": "markdown",
   "id": "eba4baa4-43b0-4fc9-8a90-e93f200987e1",
   "metadata": {},
   "source": [
    "**Get model name from environmental variable and define inference URL**"
   ]
  },
  {
   "cell_type": "code",
   "execution_count": null,
   "id": "187a860a-1330-4475-8d18-ca17e17cf8fc",
   "metadata": {
    "tags": []
   },
   "outputs": [],
   "source": [
    "deployed_model_name = os.getenv('CLASSIFICATION_MODEL_NAME')\n",
    "rest_url = os.getenv('MODEL_MESH_URL')\n",
    "infer_url = f'{rest_url}/v2/models/{deployed_model_name}/infer'"
   ]
  },
  {
   "cell_type": "markdown",
   "id": "9ee23b5d-f2e0-49e0-aa4d-cb7e6fc327b1",
   "metadata": {},
   "source": [
    "**Retrieve MinIO credentials and initialize client**"
   ]
  },
  {
   "cell_type": "code",
   "execution_count": null,
   "id": "673a8f25-7269-44f2-a5a3-19f000bf3ad5",
   "metadata": {
    "tags": []
   },
   "outputs": [],
   "source": [
    "minio_endpoint = os.getenv('AWS_S3_ENDPOINT')\n",
    "access_key = os.getenv('AWS_ACCESS_KEY_ID')\n",
    "secret_key = os.getenv('AWS_SECRET_ACCESS_KEY')\n",
    "bucket_name = os.getenv('AWS_S3_BUCKET')\n",
    "region = os.getenv('AWS_DEFAULT_REGION')\n",
    "\n",
    "s3_client = boto3.client(\n",
    "    's3',\n",
    "    endpoint_url=minio_endpoint,\n",
    "    aws_access_key_id=access_key,\n",
    "    aws_secret_access_key=secret_key,\n",
    "    config=Config(signature_version='s3v4')\n",
    ")"
   ]
  },
  {
   "cell_type": "markdown",
   "id": "f46b256e-f0d0-49e8-b5f0-8300fe32ca3d",
   "metadata": {},
   "source": [
    "**Download the incident image**"
   ]
  },
  {
   "cell_type": "code",
   "execution_count": null,
   "id": "7b857d12-1228-471a-bb74-2c6b2cdbd1bb",
   "metadata": {
    "tags": []
   },
   "outputs": [],
   "source": [
    "folder_path = 'incidents/'\n",
    "download_path = f'{os.getcwd()}/{image_to_process}'\n",
    "\n",
    "object_key = f'{folder_path}{image_to_process}'\n",
    "\n",
    "s3.download_file(bucket_name, object_key, download_path)"
   ]
  },
  {
   "cell_type": "markdown",
   "id": "718c88e7-2d5f-4151-83db-feb66ec27bbb",
   "metadata": {},
   "source": [
    "**Prepare input image**"
   ]
  },
  {
   "cell_type": "code",
   "execution_count": null,
   "id": "b44512bc-f241-4be0-a7e3-97e0bc886c36",
   "metadata": {
    "tags": []
   },
   "outputs": [],
   "source": [
    "img = image.load_img(image_to_process, target_size=(256,256))\n",
    "img_array = image.img_to_array(img)\n",
    "img_array = np.expand_dims(img_array, axis=0)\n",
    "img_array /= 255.0\n",
    "data = img_array.tolist()"
   ]
  },
  {
   "cell_type": "markdown",
   "id": "e8925768-eadf-406b-99c7-d55aba124dac",
   "metadata": {},
   "source": [
    "**Define inference function**"
   ]
  },
  {
   "cell_type": "code",
   "execution_count": null,
   "id": "d0553355-578b-4e9c-981b-2046807ee1ae",
   "metadata": {
    "tags": []
   },
   "outputs": [],
   "source": [
    "def rest_request(data):\n",
    "    json_data = {\n",
    "        \"inputs\": [\n",
    "            {\n",
    "                \"name\": \"x\",\n",
    "                \"shape\": [1, 256, 256, 3],\n",
    "                \"datatype\": \"FP32\",\n",
    "                \"data\": data\n",
    "            }\n",
    "        ]\n",
    "    }\n",
    "\n",
    "    response = requests.post(infer_url, json=json_data)\n",
    "    response_dict = response.json()\n",
    "    return response_dict['outputs']"
   ]
  },
  {
   "cell_type": "markdown",
   "id": "0c00abfa-d3ca-47dc-91ee-dfae8c301fe7",
   "metadata": {},
   "source": [
    "**Perform inference**"
   ]
  },
  {
   "cell_type": "code",
   "execution_count": null,
   "id": "a4df9ee0-f3a8-4902-a5d3-31b0f9a9c365",
   "metadata": {},
   "outputs": [],
   "source": [
    "prediction = rest_request(data)\n",
    "prediction"
   ]
  },
  {
   "cell_type": "markdown",
   "id": "45f7ce3b-8c46-4057-89d9-d2d481454fa4",
   "metadata": {},
   "source": [
    "**Get the predicten en turn into human readable data**"
   ]
  },
  {
   "cell_type": "code",
   "execution_count": null,
   "id": "babd7c33-0dd9-4d66-9899-bfc75a3d15c3",
   "metadata": {
    "tags": []
   },
   "outputs": [],
   "source": [
    "class_labels=[\"Avulsion fracture\",\"Comminuted fracture\",\"Fracture Dislocation\",\"Greenstick fracture\",\n",
    "              \"Hairline Fracture\",\"Impacted fracture\",\"Longitudinal fracture\",\"Oblique fracture\",\n",
    "              \"Pathological fracture\",\"Spiral Fracture\"]\n",
    "\n",
    "predicted_label = class_labels[np.argmax(prediction[0]['data'])]\n",
    "print(predicted_label)"
   ]
  },
  {
   "cell_type": "markdown",
   "id": "ac3f1a15-ae93-4ae3-9cf5-76b88056739c",
   "metadata": {},
   "source": [
    "**Update database with classification results**"
   ]
  },
  {
   "cell_type": "code",
   "execution_count": null,
   "id": "ac0a2a65-d00a-4412-b719-091ff7f62fbd",
   "metadata": {
    "tags": []
   },
   "outputs": [],
   "source": [
    "update_data = (\n",
    "    predicted_label,\n",
    "    incident_id\n",
    ")\n",
    "\n",
    "try:\n",
    "    conn = psycopg2.connect(**conn_params)\n",
    "    cursor = conn.cursor()\n",
    "\n",
    "    cursor.execute(update_record_query, update_data)\n",
    "\n",
    "    conn.commit()\n",
    "    print(f\"Record with ID {incident_id} updated successfully.\")\n",
    "\n",
    "except psycopg2.DatabaseError as e:\n",
    "    print(f\"Error: {e}\")\n",
    "    conn.rollback()\n",
    "finally:\n",
    "    if conn:\n",
    "        cursor.close()\n",
    "        conn.close()\n",
    "        print(\"Database connection closed.\")"
   ]
  }
 ],
 "metadata": {
  "kernelspec": {
   "display_name": "Python 3.9",
   "language": "python",
   "name": "python3"
  },
  "language_info": {
   "codemirror_mode": {
    "name": "ipython",
    "version": 3
   },
   "file_extension": ".py",
   "mimetype": "text/x-python",
   "name": "python",
   "nbconvert_exporter": "python",
   "pygments_lexer": "ipython3",
   "version": "3.9.16"
  }
 },
 "nbformat": 4,
 "nbformat_minor": 5
}
