{
 "cells": [
  {
   "cell_type": "markdown",
   "id": "9b6131f6-fcf8-43e1-a712-a8130a850042",
   "metadata": {},
   "source": [
    "**Installation and imports**"
   ]
  },
  {
   "cell_type": "code",
   "execution_count": null,
   "id": "a703bc28-ef9f-4f86-aa14-3ddc62be09d2",
   "metadata": {
    "tags": []
   },
   "outputs": [],
   "source": [
    "!pip install psycopg2"
   ]
  },
  {
   "cell_type": "code",
   "execution_count": null,
   "id": "91395e35-f9a5-4a5c-8d87-e81e38d2dc96",
   "metadata": {
    "tags": []
   },
   "outputs": [],
   "source": [
    "import os\n",
    "import psycopg2\n",
    "from psycopg2.extras import DictCursor"
   ]
  },
  {
   "cell_type": "markdown",
   "id": "9919520e-55bc-496c-a0b5-237c087a42b7",
   "metadata": {},
   "source": [
    "**Get PostgreSQL database connection parameters from environment variables**"
   ]
  },
  {
   "cell_type": "code",
   "execution_count": null,
   "id": "824fb657-c58e-4575-9f8f-d7d3142b180b",
   "metadata": {},
   "outputs": [],
   "source": [
    "conn_params = {\n",
    "    \"dbname\": os.getenv('DATABASE_NAME'),\n",
    "    \"user\": os.getenv('DATABASE_USER'),\n",
    "    \"password\": os.getenv('DATABASE_PASS'),\n",
    "    \"host\": os.getenv('DATABASE_HOST'),\n",
    "    \"port\": os.getenv('DATABASE_PORT')\n",
    "}"
   ]
  },
  {
   "cell_type": "markdown",
   "id": "aec48eb1-7ce0-43e1-b2ee-8d994ad616c1",
   "metadata": {},
   "source": [
    "**Define queries**"
   ]
  },
  {
   "cell_type": "code",
   "execution_count": null,
   "id": "17bb344a-df7b-4e7c-a9e4-a9d83ab30bdd",
   "metadata": {},
   "outputs": [],
   "source": [
    "incident_id = os.getenv('INCIDENT_ID')"
   ]
  },
  {
   "cell_type": "code",
   "execution_count": null,
   "id": "cbd71011-6eb5-409d-87ba-cb0128786c31",
   "metadata": {},
   "outputs": [],
   "source": [
    "select_record_by_id_query = \"\"\"\n",
    "SELECT * \n",
    "FROM fracture_incidents\n",
    "WHERE id = %s;\n",
    "\"\"\"\n",
    "\n",
    "update_record_query = f\"\"\"\n",
    "UPDATE fracture_incidents\n",
    "SET \n",
    "    {entity_name} = %s\n",
    "WHERE \n",
    "    id = %s;\n",
    "\"\"\""
   ]
  },
  {
   "cell_type": "markdown",
   "id": "3893206e-445f-4835-b87c-b22680d27a1d",
   "metadata": {},
   "source": [
    "**Update processed status of the incident**"
   ]
  },
  {
   "cell_type": "code",
   "execution_count": null,
   "id": "480e459e-8152-4273-bb6f-dcbe0c99f8cb",
   "metadata": {
    "tags": []
   },
   "outputs": [],
   "source": [
    "update_data = (\n",
    "    entity,\n",
    "    incident_id\n",
    ")\n",
    "\n",
    "try:\n",
    "    conn = psycopg2.connect(**conn_params)\n",
    "    cursor = conn.cursor()\n",
    "\n",
    "    cursor.execute(update_record_query, update_data)\n",
    "\n",
    "    conn.commit()\n",
    "    print(f\"Record with ID {incident_id} updated successfully.\")\n",
    "\n",
    "except psycopg2.DatabaseError as e:\n",
    "    print(f\"Error: {e}\")\n",
    "    conn.rollback()\n",
    "finally:\n",
    "    if conn:\n",
    "        cursor.close()\n",
    "        conn.close()\n",
    "        print(\"Database connection closed.\")"
   ]
  }
 ],
 "metadata": {
  "kernelspec": {
   "display_name": "Python 3.9",
   "language": "python",
   "name": "python3"
  },
  "language_info": {
   "codemirror_mode": {
    "name": "ipython",
    "version": 3
   },
   "file_extension": ".py",
   "mimetype": "text/x-python",
   "name": "python",
   "nbconvert_exporter": "python",
   "pygments_lexer": "ipython3",
   "version": "3.9.16"
  }
 },
 "nbformat": 4,
 "nbformat_minor": 5
}
