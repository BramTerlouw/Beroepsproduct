{
 "cells": [
  {
   "cell_type": "code",
   "execution_count": null,
   "id": "23d85844-2ace-4651-b4e8-856fdbd1d2c0",
   "metadata": {},
   "outputs": [],
   "source": [
    "!pip install openai langchain==0.1.14"
   ]
  },
  {
   "cell_type": "code",
   "execution_count": null,
   "id": "2ada7ce1-6d38-4ff3-a782-741c83c8293b",
   "metadata": {},
   "outputs": [],
   "source": [
    "import os\n",
    "from langchain.chains import ConversationChain\n",
    "from langchain.memory import ConversationBufferMemory\n",
    "from langchain_community.llms import Ollama\n",
    "from langchain.callbacks.streaming_stdout import StreamingStdOutCallbackHandler\n",
    "from langchain.prompts import PromptTemplate\n",
    "from langchain.chains import LLMChain\n",
    "from langchain.chains.combine_documents.stuff import StuffDocumentsChain\n",
    "from langchain.chains import LLMChain\n",
    "from langchain.prompts import PromptTemplate\n",
    "from langchain.evaluation import load_evaluator"
   ]
  },
  {
   "cell_type": "code",
   "execution_count": null,
   "id": "c509f204-a807-423e-b982-a5c89236a547",
   "metadata": {},
   "outputs": [],
   "source": [
    "INFERENCE_SERVER_URL = \"http://llm.ic-shared-llm.svc.cluster.local:11434\"\n",
    "MAX_NEW_TOKENS = 96\n",
    "TOP_K = 10\n",
    "TOP_P = 0.95\n",
    "TYPICAL_P = 0.95\n",
    "TEMPERATURE = 0.9\n",
    "REPETITION_PENALTY = 1.03\n",
    "MODEL = \"mistral\""
   ]
  },
  {
   "cell_type": "code",
   "execution_count": null,
   "id": "2fb1418e-3e4b-4fd5-a217-4e8606fefaae",
   "metadata": {},
   "outputs": [],
   "source": [
    "def infer_with_template(input_text, template):\n",
    "    llm = Ollama(\n",
    "        base_url=INFERENCE_SERVER_URL,\n",
    "        model=MODEL,\n",
    "        top_p=TOP_P,\n",
    "        temperature=0.01,\n",
    "        num_predict=512,\n",
    "        repeat_penalty=REPETITION_PENALTY,\n",
    "        callbacks=[StreamingStdOutCallbackHandler()]\n",
    "    )\n",
    "\n",
    "    PROMPT = PromptTemplate.from_template(template)\n",
    "    llm_chain = LLMChain(llm=llm, prompt=PROMPT)\n",
    "    return llm_chain.run(input_text)"
   ]
  },
  {
   "cell_type": "code",
   "execution_count": null,
   "id": "d1e2602e-f0bb-4d82-b4dd-9fd602c8c120",
   "metadata": {},
   "outputs": [],
   "source": [
    "# Here i should get the accident notification from a database..."
   ]
  },
  {
   "cell_type": "code",
   "execution_count": null,
   "id": "62533a2f-c85f-43d3-b7d3-54fa66449571",
   "metadata": {},
   "outputs": [],
   "source": [
    "with open('templates/summarize_accident_template.txt') as f:\n",
    "        template = f.read()"
   ]
  },
  {
   "cell_type": "code",
   "execution_count": null,
   "id": "578bab78-73c1-4f83-a18a-b49111d77357",
   "metadata": {},
   "outputs": [],
   "source": [
    "summary_of_accident = infer_with_template(text, template)"
   ]
  }
 ],
 "metadata": {
  "kernelspec": {
   "display_name": "Python 3 (ipykernel)",
   "language": "python",
   "name": "python3"
  },
  "language_info": {
   "codemirror_mode": {
    "name": "ipython",
    "version": 3
   },
   "file_extension": ".py",
   "mimetype": "text/x-python",
   "name": "python",
   "nbconvert_exporter": "python",
   "pygments_lexer": "ipython3",
   "version": "3.9.19"
  }
 },
 "nbformat": 4,
 "nbformat_minor": 5
}
