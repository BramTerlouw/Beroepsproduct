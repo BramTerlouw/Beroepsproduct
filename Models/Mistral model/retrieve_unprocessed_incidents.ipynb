{
 "cells": [
  {
   "cell_type": "markdown",
   "id": "beb60502-73b8-4694-bf8e-0ba3545be9aa",
   "metadata": {},
   "source": [
    "**Installation and imports**"
   ]
  },
  {
   "cell_type": "code",
   "execution_count": null,
   "id": "8a37bb53-38d3-48e0-a7a3-e0e753d21bee",
   "metadata": {},
   "outputs": [],
   "source": [
    "!pip install psycopg2"
   ]
  },
  {
   "cell_type": "code",
   "execution_count": null,
   "id": "4a6220be-1bed-40f1-be0b-28757879d876",
   "metadata": {
    "tags": []
   },
   "outputs": [],
   "source": [
    "import os\n",
    "import psycopg2\n",
    "from psycopg2.extras import DictCursor"
   ]
  },
  {
   "cell_type": "markdown",
   "id": "cc3e1312-2218-4bb7-bade-d6d3c5cec97c",
   "metadata": {},
   "source": [
    "**Get PostgreSQL database connection parameters from environment variables**"
   ]
  },
  {
   "cell_type": "code",
   "execution_count": null,
   "id": "9ed0b45e-b7ee-4e47-b6b5-38012fa4da1f",
   "metadata": {},
   "outputs": [],
   "source": [
    "conn_params = {\n",
    "    \"dbname\": os.getenv('DATABASE_NAME'),\n",
    "    \"user\": os.getenv('DATABASE_USER'),\n",
    "    \"password\": os.getenv('DATABASE_PASS'),\n",
    "    \"host\": os.getenv('DATABASE_HOST'),\n",
    "    \"port\": os.getenv('DATABASE_PORT')\n",
    "}"
   ]
  },
  {
   "cell_type": "markdown",
   "id": "3501f198-2b12-4d39-a82b-8e742a2da74c",
   "metadata": {},
   "source": [
    "**Define queries**"
   ]
  },
  {
   "cell_type": "code",
   "execution_count": null,
   "id": "14e8b0f7-cba7-4352-91f9-5326b589fff1",
   "metadata": {},
   "outputs": [],
   "source": [
    "select_ids_query = \"\"\"\n",
    "SELECT id\n",
    "FROM fracture_incidents\n",
    "WHERE incident_status = 'unprocessed';\n",
    "\"\"\""
   ]
  },
  {
   "cell_type": "markdown",
   "id": "3936a3d5-f4af-4af7-aece-7ddfda554c75",
   "metadata": {},
   "source": [
    "**Query database to get unprocessed incidents**"
   ]
  },
  {
   "cell_type": "code",
   "execution_count": null,
   "id": "48ed4875-6502-4750-af55-a00123e5b893",
   "metadata": {},
   "outputs": [],
   "source": [
    "record_ids = []\n",
    "\n",
    "try:\n",
    "    conn = psycopg2.connect(**conn_params)\n",
    "    cursor = conn.cursor()\n",
    "\n",
    "    cursor.execute(select_ids_query)\n",
    "    record_ids = cursor.fetchall()\n",
    "    \n",
    "    if record_ids:\n",
    "        print(\"Retrieved record IDs:\")\n",
    "        for record in record_ids:\n",
    "            print(record)\n",
    "    else:\n",
    "        print(\"No records found with incident_status 'unprocessed'.\")\n",
    "\n",
    "except psycopg2.DatabaseError as e:\n",
    "    print(f\"Error: {e}\")\n",
    "finally:\n",
    "    if conn:\n",
    "        cursor.close()\n",
    "        conn.close()\n",
    "        print(\"Database connection closed.\")"
   ]
  },
  {
   "cell_type": "markdown",
   "id": "2f9f4b60-44c3-4799-b674-4da5c0569932",
   "metadata": {},
   "source": [
    "**Add id's of all unprocessed incidents to a .txt file for next pipeline nodes**"
   ]
  },
  {
   "cell_type": "code",
   "execution_count": null,
   "id": "7409fa94-c180-4771-b6c9-d67810a5f324",
   "metadata": {
    "tags": []
   },
   "outputs": [],
   "source": [
    "filename = 'unprocessed_incidents.txt'\n",
    "\n",
    "record_ids_strings = [str(record_id[0]) for record_id in record_ids]\n",
    "record_ids_string = ','.join(record_ids_strings)\n",
    "\n",
    "with open(filename, 'w') as file:\n",
    "        file.write(record_ids_string)\n",
    "print(f\"Record IDs successfully written to {filename}.\")"
   ]
  }
 ],
 "metadata": {
  "kernelspec": {
   "display_name": "Python 3.9",
   "language": "python",
   "name": "python3"
  },
  "language_info": {
   "codemirror_mode": {
    "name": "ipython",
    "version": 3
   },
   "file_extension": ".py",
   "mimetype": "text/x-python",
   "name": "python",
   "nbconvert_exporter": "python",
   "pygments_lexer": "ipython3",
   "version": "3.9.16"
  }
 },
 "nbformat": 4,
 "nbformat_minor": 5
}
