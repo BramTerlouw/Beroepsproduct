{
 "cells": [
  {
   "cell_type": "code",
   "execution_count": 1,
   "id": "8a37bb53-38d3-48e0-a7a3-e0e753d21bee",
   "metadata": {},
   "outputs": [
    {
     "name": "stdout",
     "output_type": "stream",
     "text": [
      "Collecting psycopg2\n",
      "  Downloading psycopg2-2.9.9.tar.gz (384 kB)\n",
      "\u001b[2K     \u001b[90m━━━━━━━━━━━━━━━━━━━━━━━━━━━━━━━━━━━━━━━\u001b[0m \u001b[32m384.9/384.9 kB\u001b[0m \u001b[31m9.1 MB/s\u001b[0m eta \u001b[36m0:00:00\u001b[0ma \u001b[36m0:00:01\u001b[0m\n",
      "\u001b[?25h  Preparing metadata (setup.py) ... \u001b[?25ldone\n",
      "\u001b[?25hBuilding wheels for collected packages: psycopg2\n",
      "  Building wheel for psycopg2 (setup.py) ... \u001b[?25ldone\n",
      "\u001b[?25h  Created wheel for psycopg2: filename=psycopg2-2.9.9-cp39-cp39-linux_x86_64.whl size=494300 sha256=b8765e2a03ca7770c7e34afc9afb0cb9b8a3512f931ddb16919e5ddac5124bac\n",
      "  Stored in directory: /tmp/pip-ephem-wheel-cache-qolv0b_r/wheels/3a/06/25/adb124afd8c8346e45c455f6586f7289cde2b4e339dfbcd9e9\n",
      "Successfully built psycopg2\n",
      "Installing collected packages: psycopg2\n",
      "Successfully installed psycopg2-2.9.9\n",
      "\n",
      "\u001b[1m[\u001b[0m\u001b[34;49mnotice\u001b[0m\u001b[1;39;49m]\u001b[0m\u001b[39;49m A new release of pip available: \u001b[0m\u001b[31;49m22.2.2\u001b[0m\u001b[39;49m -> \u001b[0m\u001b[32;49m24.2\u001b[0m\n",
      "\u001b[1m[\u001b[0m\u001b[34;49mnotice\u001b[0m\u001b[1;39;49m]\u001b[0m\u001b[39;49m To update, run: \u001b[0m\u001b[32;49mpip install --upgrade pip\u001b[0m\n"
     ]
    }
   ],
   "source": [
    "!pip install psycopg2"
   ]
  },
  {
   "cell_type": "code",
   "execution_count": 1,
   "id": "4a6220be-1bed-40f1-be0b-28757879d876",
   "metadata": {
    "tags": []
   },
   "outputs": [],
   "source": [
    "import os\n",
    "import psycopg2\n",
    "from psycopg2.extras import DictCursor"
   ]
  },
  {
   "cell_type": "code",
   "execution_count": null,
   "id": "9ed0b45e-b7ee-4e47-b6b5-38012fa4da1f",
   "metadata": {},
   "outputs": [],
   "source": [
    "conn_params = {\n",
    "    \"dbname\": os.getenv('DATABASE_NAME'),\n",
    "    \"user\": os.getenv('DATABASE_USER'),\n",
    "    \"password\": os.getenv('DATABASE_PASS'),\n",
    "    \"host\": os.getenv('DATABASE_HOST'),\n",
    "    \"port\": os.getenv('DATABASE_PORT')\n",
    "}"
   ]
  },
  {
   "cell_type": "code",
   "execution_count": null,
   "id": "14e8b0f7-cba7-4352-91f9-5326b589fff1",
   "metadata": {},
   "outputs": [],
   "source": [
    "select_ids_query = \"\"\"\n",
    "SELECT id\n",
    "FROM fracture_incidents\n",
    "WHERE incident_status = 'unprocessed';\n",
    "\"\"\""
   ]
  },
  {
   "cell_type": "code",
   "execution_count": 22,
   "id": "48ed4875-6502-4750-af55-a00123e5b893",
   "metadata": {},
   "outputs": [
    {
     "name": "stdout",
     "output_type": "stream",
     "text": [
      "Retrieved record IDs:\n",
      "(2,)\n",
      "(3,)\n",
      "(1,)\n",
      "Database connection closed.\n"
     ]
    }
   ],
   "source": [
    "record_ids = []\n",
    "\n",
    "try:\n",
    "    conn = psycopg2.connect(**conn_params)\n",
    "    cursor = conn.cursor()\n",
    "\n",
    "    cursor.execute(select_ids_query)\n",
    "    record_ids = cursor.fetchall()\n",
    "    \n",
    "    if record_ids:\n",
    "        print(\"Retrieved record IDs:\")\n",
    "        for record in record_ids:\n",
    "            print(record)\n",
    "    else:\n",
    "        print(\"No records found with incident_status 'unprocessed'.\")\n",
    "\n",
    "except psycopg2.DatabaseError as e:\n",
    "    print(f\"Error: {e}\")\n",
    "finally:\n",
    "    if conn:\n",
    "        cursor.close()\n",
    "        conn.close()\n",
    "        print(\"Database connection closed.\")"
   ]
  },
  {
   "cell_type": "code",
   "execution_count": 38,
   "id": "7409fa94-c180-4771-b6c9-d67810a5f324",
   "metadata": {
    "tags": []
   },
   "outputs": [
    {
     "name": "stdout",
     "output_type": "stream",
     "text": [
      "Record IDs successfully written to unprocessed_incidents.txt.\n"
     ]
    }
   ],
   "source": [
    "filename = 'unprocessed_incidents.txt'\n",
    "\n",
    "record_ids_strings = [str(record_id[0]) for record_id in record_ids]\n",
    "record_ids_string = ','.join(record_ids_strings)\n",
    "\n",
    "with open(filename, 'w') as file:\n",
    "        file.write(record_ids_string)\n",
    "print(f\"Record IDs successfully written to {filename}.\")"
   ]
  }
 ],
 "metadata": {
  "kernelspec": {
   "display_name": "Python 3.9",
   "language": "python",
   "name": "python3"
  },
  "language_info": {
   "codemirror_mode": {
    "name": "ipython",
    "version": 3
   },
   "file_extension": ".py",
   "mimetype": "text/x-python",
   "name": "python",
   "nbconvert_exporter": "python",
   "pygments_lexer": "ipython3",
   "version": "3.9.16"
  }
 },
 "nbformat": 4,
 "nbformat_minor": 5
}
