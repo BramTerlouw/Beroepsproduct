{
 "cells": [
  {
   "cell_type": "code",
   "execution_count": null,
   "id": "f6f58f89-d1fe-4b85-bda3-b944299f89f8",
   "metadata": {
    "tags": []
   },
   "outputs": [],
   "source": [
    "!pip install -U requests urllib3\n",
    "!pip install -qU langchain-huggingface\n",
    "!pip install langchain_milvus\n",
    "!pip install sentence-transformers\n",
    "!pip install langchain_community\n",
    "!pip install langchain_openai"
   ]
  },
  {
   "cell_type": "code",
   "execution_count": 1,
   "id": "a620a785-0e19-4012-a672-018040e1d8ec",
   "metadata": {
    "tags": []
   },
   "outputs": [
    {
     "name": "stderr",
     "output_type": "stream",
     "text": [
      "/usr/local/lib/python3.9/dist-packages/sentence_transformers/cross_encoder/CrossEncoder.py:11: TqdmWarning: IProgress not found. Please update jupyter and ipywidgets. See https://ipywidgets.readthedocs.io/en/stable/user_install.html\n",
      "  from tqdm.autonotebook import tqdm, trange\n",
      "2024-08-21 15:36:50.199455: E external/local_xla/xla/stream_executor/cuda/cuda_dnn.cc:9261] Unable to register cuDNN factory: Attempting to register factory for plugin cuDNN when one has already been registered\n",
      "2024-08-21 15:36:50.199506: E external/local_xla/xla/stream_executor/cuda/cuda_fft.cc:607] Unable to register cuFFT factory: Attempting to register factory for plugin cuFFT when one has already been registered\n",
      "2024-08-21 15:36:50.201630: E external/local_xla/xla/stream_executor/cuda/cuda_blas.cc:1515] Unable to register cuBLAS factory: Attempting to register factory for plugin cuBLAS when one has already been registered\n",
      "2024-08-21 15:36:50.209546: I tensorflow/core/platform/cpu_feature_guard.cc:182] This TensorFlow binary is optimized to use available CPU instructions in performance-critical operations.\n",
      "To enable the following instructions: AVX2 FMA, in other operations, rebuild TensorFlow with the appropriate compiler flags.\n",
      "2024-08-21 15:36:50.820228: W tensorflow/compiler/tf2tensorrt/utils/py_utils.cc:38] TF-TRT Warning: Could not find TensorRT\n",
      "/usr/local/lib/python3.9/dist-packages/transformers/tokenization_utils_base.py:1601: FutureWarning: `clean_up_tokenization_spaces` was not set. It will be set to `True` by default. This behavior will be depracted in transformers v4.45, and will be then set to `False` by default. For more details check this issue: https://github.com/huggingface/transformers/issues/31884\n",
      "  warnings.warn(\n"
     ]
    }
   ],
   "source": [
    "from langchain_huggingface import HuggingFaceEmbeddings\n",
    "\n",
    "model_name = \"sentence-transformers/all-mpnet-base-v2\"\n",
    "model_kwargs = {'device': 'cpu'}\n",
    "encode_kwargs = {'normalize_embeddings': False}\n",
    "embeddings = HuggingFaceEmbeddings(\n",
    "    model_name=model_name,\n",
    "    model_kwargs=model_kwargs,\n",
    "    encode_kwargs=encode_kwargs\n",
    ")"
   ]
  },
  {
   "cell_type": "code",
   "execution_count": 2,
   "id": "e2c98b2b-a074-4742-b7d3-e88876c73a1b",
   "metadata": {
    "tags": []
   },
   "outputs": [],
   "source": [
    "from langchain_milvus import Milvus\n",
    "\n",
    "URI = \"./patients.db\"\n",
    "\n",
    "vector_store = Milvus(\n",
    "    embedding_function=embeddings,\n",
    "    connection_args={\"uri\": URI},\n",
    ")"
   ]
  },
  {
   "cell_type": "code",
   "execution_count": 3,
   "id": "413e4984-8853-40b5-8f6c-19fb794d28e5",
   "metadata": {
    "tags": []
   },
   "outputs": [],
   "source": [
    "from langchain_core.documents import Document\n",
    "\n",
    "vector_store_saved = Milvus.from_documents(\n",
    "    [Document(page_content=\"foo!\")],\n",
    "    embeddings,\n",
    "    collection_name=\"patient_records\",\n",
    "    connection_args={\"uri\": URI},\n",
    ")"
   ]
  },
  {
   "cell_type": "code",
   "execution_count": 4,
   "id": "91b1d9bc-b231-451a-858f-8aa6b8729e51",
   "metadata": {
    "tags": []
   },
   "outputs": [],
   "source": [
    "vector_store_loaded = Milvus(\n",
    "    embeddings,\n",
    "    connection_args={\"uri\": URI},\n",
    "    collection_name=\"patient_records\",\n",
    ")"
   ]
  },
  {
   "cell_type": "code",
   "execution_count": 5,
   "id": "911df77e-1f95-4870-bd69-0c4f8d3c96bb",
   "metadata": {
    "tags": []
   },
   "outputs": [
    {
     "data": {
      "text/plain": [
       "['14eb8347-ce4a-42bf-9360-b0a9b4701860']"
      ]
     },
     "execution_count": 5,
     "metadata": {},
     "output_type": "execute_result"
    }
   ],
   "source": [
    "from uuid import uuid4\n",
    "from langchain_core.documents import Document\n",
    "\n",
    "patient_document_1 = Document(\n",
    "    page_content=\"Patient ID: 3a511581-ef4d-4acb-963c-b357f1689b1b | Patient Bram Terlouw, age 45, has a history of hypertension and diabetes. Currently taking metformin and lisinopril.\",\n",
    "    metadata={\"source\": \"medical_record\"},\n",
    ")\n",
    "\n",
    "patient_document_2 = Document(\n",
    "    page_content=\"Patient ID: d766efd8-d6ee-4fa9-a98d-46cf0904a11c | Patient Karin Bufles recent blood tests show an HbA1c level of 7.5%, indicating poorly controlled diabetes.\",\n",
    "    metadata={\"source\": \"medical_record\"},\n",
    ")\n",
    "\n",
    "patient_document_3 = Document(\n",
    "    page_content=\"Patient ID: daba9ee8-6d49-4911-a9bd-fab179dc650b | During the last consultation, Patient John Doe reported experiencing frequent headaches and dizziness.\",\n",
    "    metadata={\"source\": \"medical_record\"},\n",
    ")\n",
    "\n",
    "patient_document_4 = Document(\n",
    "    page_content=\"Patient ID: 6b97cee3-b2ed-4ae2-b831-04ee9e16fddb | Patient Bram Boshart, is a young boy with heart descease and a little left food.\",\n",
    "    metadata={\"source\": \"medical_record\"},\n",
    ")\n",
    "\n",
    "\n",
    "documents = [\n",
    "    patient_document_4,\n",
    "]\n",
    "uuids = [str(uuid4()) for _ in range(len(documents))]\n",
    "\n",
    "vector_store.add_documents(documents=documents, ids=uuids)"
   ]
  },
  {
   "cell_type": "code",
   "execution_count": null,
   "id": "48fcdd9d-192e-4625-b7ce-795ac2ec09aa",
   "metadata": {
    "tags": []
   },
   "outputs": [],
   "source": [
    "results = vector_store.similarity_search(\n",
    "    \"Patient ID: 3a511581-ef4d-4acb-963c-b357f1689b1b, Bram Terlouw\",\n",
    "    k=1,\n",
    "    filter={\"source\": \"medical_record\"},\n",
    ")\n",
    "for res in results:\n",
    "    print(f\"* {res.page_content} [{res.metadata}]\")"
   ]
  },
  {
   "cell_type": "code",
   "execution_count": 8,
   "id": "f7dc84cf-5410-4c24-9e29-b4dbab1959bb",
   "metadata": {
    "tags": []
   },
   "outputs": [
    {
     "name": "stdout",
     "output_type": "stream",
     "text": [
      "* [SIM=1.193668] Patient ID: 6b97cee3-b2ed-4ae2-b831-04ee9e16fddb | Patient Bram Boshart, is a young boy with heart descease and a little left food. [{'pk': '14eb8347-ce4a-42bf-9360-b0a9b4701860', 'source': 'medical_record'}]\n"
     ]
    }
   ],
   "source": [
    "results = vector_store.similarity_search_with_score(\n",
    "    \"3a511581-ef4d-4acb-963c-b357f1689b1b Bram Terlouw\", k=1, filter={\"source\": \"medical_record\"}\n",
    ")\n",
    "for res, score in results:\n",
    "    print(f\"* [SIM={score:3f}] {res.page_content} [{res.metadata}]\")"
   ]
  },
  {
   "cell_type": "code",
   "execution_count": 10,
   "id": "eb975618-5aea-4e0a-9db2-5ba7388ad1b4",
   "metadata": {
    "tags": []
   },
   "outputs": [
    {
     "data": {
      "text/plain": [
       "[Document(metadata={'pk': '14eb8347-ce4a-42bf-9360-b0a9b4701860', 'source': 'medical_record'}, page_content='Patient ID: 6b97cee3-b2ed-4ae2-b831-04ee9e16fddb | Patient Bram Boshart, is a young boy with heart descease and a little left food.')]"
      ]
     },
     "execution_count": 10,
     "metadata": {},
     "output_type": "execute_result"
    }
   ],
   "source": [
    "milvus_retriever = vector_store.as_retriever(search_type=\"mmr\", search_kwargs={\"k\": 1})\n",
    "milvus_retriever.invoke(\"6b97cee3-b2ed-4ae2-b831-04ee9e16fddb Bram Boshart\", k=1, filter={\"source\": \"medical_record\"})"
   ]
  },
  {
   "cell_type": "code",
   "execution_count": null,
   "id": "f84877d6-1f0a-4706-ac71-35b2aaa52c6f",
   "metadata": {
    "tags": []
   },
   "outputs": [],
   "source": [
    "from langchain_community.llms import Ollama\n",
    "from langchain.callbacks.streaming_stdout import StreamingStdOutCallbackHandler\n",
    "\n",
    "mistral_llm = Ollama(\n",
    "        base_url=\"http://llm.ic-shared-llm.svc.cluster.local:11434\",\n",
    "        model=\"mistral\",\n",
    "        top_p=0.92,\n",
    "        temperature=0.01,\n",
    "        num_predict=512,\n",
    "        repeat_penalty=1.03,\n",
    "        callbacks=[StreamingStdOutCallbackHandler()]\n",
    "    )"
   ]
  },
  {
   "cell_type": "code",
   "execution_count": null,
   "id": "758f1904-7b0f-4157-9511-7bb4cc3be2bd",
   "metadata": {
    "tags": []
   },
   "outputs": [],
   "source": [
    "from langchain.chains import create_retrieval_chain\n",
    "from langchain.chains.combine_documents import create_stuff_documents_chain\n",
    "from langchain_core.prompts import ChatPromptTemplate\n",
    "from langchain_openai import ChatOpenAI\n",
    "\n",
    "\n",
    "retriever = milvus_retriever\n",
    "llm = mistral_llm\n",
    "\n",
    "system_prompt = (\n",
    "    \"Use the given context to answer the question. \"\n",
    "    \"If you don't know the answer, say you don't know. \"\n",
    "    \"Use three sentence maximum and keep the answer concise. \"\n",
    "    \"Context: {context}\"\n",
    ")\n",
    "prompt = ChatPromptTemplate.from_messages(\n",
    "    [\n",
    "        (\"system\", system_prompt),\n",
    "        (\"human\", \"{input}\"),\n",
    "    ]\n",
    ")\n",
    "question_answer_chain = create_stuff_documents_chain(llm, prompt)\n",
    "chain = create_retrieval_chain(retriever, question_answer_chain)\n",
    "\n",
    "# chain.invoke({\"input\": \"Hello\"})"
   ]
  }
 ],
 "metadata": {
  "kernelspec": {
   "display_name": "Python 3 (ipykernel)",
   "language": "python",
   "name": "python3"
  },
  "language_info": {
   "codemirror_mode": {
    "name": "ipython",
    "version": 3
   },
   "file_extension": ".py",
   "mimetype": "text/x-python",
   "name": "python",
   "nbconvert_exporter": "python",
   "pygments_lexer": "ipython3",
   "version": "3.9.19"
  }
 },
 "nbformat": 4,
 "nbformat_minor": 5
}
