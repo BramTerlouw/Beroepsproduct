{
 "cells": [
  {
   "cell_type": "code",
   "execution_count": 1,
   "id": "a46bbb09-8672-40de-adfc-c4b1c909a0b4",
   "metadata": {
    "tags": []
   },
   "outputs": [
    {
     "name": "stderr",
     "output_type": "stream",
     "text": [
      "2024-08-19 12:03:01.098106: E external/local_xla/xla/stream_executor/cuda/cuda_dnn.cc:9261] Unable to register cuDNN factory: Attempting to register factory for plugin cuDNN when one has already been registered\n",
      "2024-08-19 12:03:01.098164: E external/local_xla/xla/stream_executor/cuda/cuda_fft.cc:607] Unable to register cuFFT factory: Attempting to register factory for plugin cuFFT when one has already been registered\n",
      "2024-08-19 12:03:01.117032: E external/local_xla/xla/stream_executor/cuda/cuda_blas.cc:1515] Unable to register cuBLAS factory: Attempting to register factory for plugin cuBLAS when one has already been registered\n",
      "2024-08-19 12:03:01.163050: I tensorflow/core/platform/cpu_feature_guard.cc:182] This TensorFlow binary is optimized to use available CPU instructions in performance-critical operations.\n",
      "To enable the following instructions: AVX2 AVX512F FMA, in other operations, rebuild TensorFlow with the appropriate compiler flags.\n",
      "2024-08-19 12:03:02.928513: W tensorflow/compiler/tf2tensorrt/utils/py_utils.cc:38] TF-TRT Warning: Could not find TensorRT\n"
     ]
    }
   ],
   "source": [
    "import zipfile\n",
    "import os\n",
    "\n",
    "from keras import utils\n",
    "import tensorflow as tf"
   ]
  },
  {
   "cell_type": "code",
   "execution_count": 5,
   "id": "16a6177d-8fa1-43a3-89c8-cb8e811d1210",
   "metadata": {},
   "outputs": [],
   "source": [
    "import os\n",
    "import zipfile\n",
    "\n",
    "def unzip_to_cwd(zip_filepath, target_folder='train'):\n",
    "    current_dir = os.getcwd()\n",
    "    target_folder_path = os.path.join(current_dir, target_folder)\n",
    "\n",
    "    if not os.path.exists(target_folder_path):\n",
    "        os.makedirs(target_folder_path)\n",
    "\n",
    "    with zipfile.ZipFile(zip_filepath, 'r') as zip_ref:\n",
    "        zip_ref.extractall(target_folder_path)\n",
    "\n",
    "zip_filepath = 'images_zipped.zip'\n",
    "unzip_to_cwd(zip_filepath)"
   ]
  },
  {
   "cell_type": "code",
   "execution_count": 2,
   "id": "e564d7d0-fb1e-4882-aff2-bd77d9e7ecdb",
   "metadata": {
    "tags": []
   },
   "outputs": [],
   "source": [
    "path_to_data = './train'"
   ]
  },
  {
   "cell_type": "code",
   "execution_count": 5,
   "id": "36645b87-85e4-492f-b353-cbe069657552",
   "metadata": {
    "tags": []
   },
   "outputs": [
    {
     "name": "stdout",
     "output_type": "stream",
     "text": [
      "Found 1129 files belonging to 10 classes.\n",
      "Using 1017 files for training.\n"
     ]
    }
   ],
   "source": [
    "train_data=utils.image_dataset_from_directory(\n",
    "    path_to_data,\n",
    "    labels=\"inferred\",\n",
    "    label_mode=\"int\",\n",
    "    validation_split=0.1,\n",
    "    subset=\"training\",\n",
    "    shuffle=True,\n",
    "    color_mode=\"rgb\",\n",
    "    image_size=(256,256),\n",
    "    batch_size=64,\n",
    "    seed=40,\n",
    ")"
   ]
  },
  {
   "cell_type": "code",
   "execution_count": 6,
   "id": "1356d340-ef42-432f-b8bc-f0f43bc38fb4",
   "metadata": {
    "tags": []
   },
   "outputs": [
    {
     "name": "stdout",
     "output_type": "stream",
     "text": [
      "Found 1129 files belonging to 10 classes.\n",
      "Using 112 files for validation.\n"
     ]
    }
   ],
   "source": [
    "val_data=utils.image_dataset_from_directory(\n",
    "    path_to_data,\n",
    "    labels=\"inferred\",\n",
    "    label_mode=\"int\",\n",
    "    validation_split=0.1,\n",
    "    subset=\"validation\",\n",
    "    color_mode=\"rgb\",\n",
    "    image_size=(256,256),\n",
    "    batch_size=64,\n",
    "    seed=40,\n",
    ")"
   ]
  },
  {
   "cell_type": "code",
   "execution_count": 8,
   "id": "5e683b78-5c85-463b-adc3-d42939244ac0",
   "metadata": {
    "tags": []
   },
   "outputs": [
    {
     "name": "stdout",
     "output_type": "stream",
     "text": [
      "Amount of train images:  (64, 256, 256, 3)\n",
      "Amount of train labels:  (64,)\n"
     ]
    }
   ],
   "source": [
    "for images,lables in train_data.take(1):\n",
    "  print('Amount of train images: ', images.shape)\n",
    "  print('Amount of train labels: ', lables.shape)"
   ]
  },
  {
   "cell_type": "code",
   "execution_count": 9,
   "id": "a0d51baa-725e-4081-a3e7-39b9059e531a",
   "metadata": {
    "tags": []
   },
   "outputs": [
    {
     "name": "stdout",
     "output_type": "stream",
     "text": [
      "Amount of validation images:  (64, 256, 256, 3)\n",
      "Amount of validation labels:  (64,)\n"
     ]
    }
   ],
   "source": [
    "for images,lables in val_data.take(1):\n",
    "  print('Amount of validation images: ', images.shape)\n",
    "  print('Amount of validation labels: ', lables.shape)"
   ]
  },
  {
   "cell_type": "code",
   "execution_count": 10,
   "id": "976502dd-ec1a-490b-89d0-c38b8ffe9766",
   "metadata": {
    "tags": []
   },
   "outputs": [
    {
     "name": "stdout",
     "output_type": "stream",
     "text": [
      "The following classes are in the dataset:\n",
      "['Avulsion fracture', 'Comminuted fracture', 'Fracture Dislocation', 'Greenstick fracture', 'Hairline Fracture', 'Impacted fracture', 'Longitudinal fracture', 'Oblique fracture', 'Pathological fracture', 'Spiral Fracture']\n"
     ]
    }
   ],
   "source": [
    "classes=train_data.class_names\n",
    "print('The following classes are in the dataset:')\n",
    "print(classes)"
   ]
  },
  {
   "cell_type": "code",
   "execution_count": 11,
   "id": "3f7a0c60-2d34-445e-9422-6aa4b5fbff33",
   "metadata": {
    "tags": []
   },
   "outputs": [],
   "source": [
    "def normalize(image, label):\n",
    "  return image/255.0, label"
   ]
  },
  {
   "cell_type": "code",
   "execution_count": 12,
   "id": "309f1a83-af9c-47f3-862c-18c3127dce5e",
   "metadata": {
    "tags": []
   },
   "outputs": [],
   "source": [
    "train_data = train_data.map(normalize)\n",
    "val_data= val_data.map(normalize)"
   ]
  },
  {
   "cell_type": "code",
   "execution_count": 13,
   "id": "e100fc6e-0f86-402b-acf8-e36da57dc9f1",
   "metadata": {
    "tags": []
   },
   "outputs": [
    {
     "name": "stderr",
     "output_type": "stream",
     "text": [
      "2024-08-19 09:31:34.549921: W external/local_tsl/tsl/framework/cpu_allocator_impl.cc:83] Allocation of 799801344 exceeds 10% of free system memory.\n"
     ]
    }
   ],
   "source": [
    "train_x=[]\n",
    "train_y=[]\n",
    "\n",
    "for image,label in train_data:\n",
    "   train_x.append(image)\n",
    "   train_y.append(label)\n",
    "\n",
    "train_x = tf.concat(train_x, axis=0)\n",
    "train_y = tf.concat(train_y, axis=0)"
   ]
  },
  {
   "cell_type": "code",
   "execution_count": 14,
   "id": "34074938-0593-4993-8407-96ad386d64d8",
   "metadata": {
    "tags": []
   },
   "outputs": [
    {
     "name": "stderr",
     "output_type": "stream",
     "text": [
      "2024-08-19 09:31:36.645161: W external/local_tsl/tsl/framework/cpu_allocator_impl.cc:83] Allocation of 799801344 exceeds 10% of free system memory.\n"
     ]
    }
   ],
   "source": [
    "val_x=[]\n",
    "val_y=[]\n",
    "\n",
    "for image,label in train_data:\n",
    "   val_x.append(image)\n",
    "   val_y.append(label)\n",
    "\n",
    "val_x = tf.concat(val_x, axis=0)\n",
    "val_y = tf.concat(val_y, axis=0)"
   ]
  },
  {
   "cell_type": "code",
   "execution_count": 15,
   "id": "4a2ea92b-6297-4ad2-98b0-65d48bc3d825",
   "metadata": {
    "tags": []
   },
   "outputs": [],
   "source": [
    "num_classes = 10\n",
    "train_y = tf.keras.utils.to_categorical(train_y, num_classes=num_classes)\n",
    "val_y = tf.keras.utils.to_categorical(val_y, num_classes=num_classes)"
   ]
  },
  {
   "cell_type": "code",
   "execution_count": null,
   "id": "97960d08-7651-4c10-8e15-6155bc60ce75",
   "metadata": {},
   "outputs": [],
   "source": [
    "from tensorflow.keras.utils import to_categorical\n",
    "from tensorflow.keras.models import Sequential\n",
    "from tensorflow.keras.layers import Conv2D, MaxPooling2D, Flatten, Dense,Dropout\n",
    "from tensorflow.keras.optimizers import Adam"
   ]
  },
  {
   "cell_type": "code",
   "execution_count": null,
   "id": "1ede9200-c7db-4534-880c-b49651a3387d",
   "metadata": {},
   "outputs": [],
   "source": [
    "model = Sequential()\n",
    "model.add(Conv2D(60, (3, 3), activation='relu', input_shape=(256, 256, 3)))\n",
    "model.add(MaxPooling2D((2, 2)))\n",
    "model.add(Conv2D(120, (3, 3), activation='relu'))\n",
    "model.add(MaxPooling2D((2, 2)))\n",
    "model.add(Flatten())\n",
    "model.add(Dense(40, activation='relu'))\n",
    "model.add(Dense(10, activation='softmax'))"
   ]
  },
  {
   "cell_type": "code",
   "execution_count": null,
   "id": "feb94a90-bbbc-4000-ba76-ee02b9a2912d",
   "metadata": {},
   "outputs": [],
   "source": [
    "model.summary()"
   ]
  },
  {
   "cell_type": "code",
   "execution_count": null,
   "id": "549a2f57-887f-4118-bb40-57e8a3a3795c",
   "metadata": {},
   "outputs": [],
   "source": [
    "model.compile(optimizer=Adam(learning_rate=0.001),\n",
    "              loss='categorical_crossentropy',\n",
    "              metrics=['accuracy'])"
   ]
  },
  {
   "cell_type": "code",
   "execution_count": null,
   "id": "6cfe9c98-10d0-4372-9046-b477cc0bf4de",
   "metadata": {},
   "outputs": [],
   "source": [
    "model.fit(train_x, train_y, batch_size=10, epochs=5,\n",
    "          validation_data=(val_x,val_y))"
   ]
  },
  {
   "cell_type": "code",
   "execution_count": null,
   "id": "25460c08-5282-443b-a4cd-b74d5effd9d9",
   "metadata": {},
   "outputs": [],
   "source": [
    "loss, accuracy = model.evaluate(val_x,val_y)\n",
    "print('Test accuracy:', accuracy)"
   ]
  },
  {
   "cell_type": "code",
   "execution_count": null,
   "id": "114e0eac-41d5-4dee-9969-a51ffb7bd60f",
   "metadata": {},
   "outputs": [],
   "source": [
    "model.save('fracture_model.h5')"
   ]
  }
 ],
 "metadata": {
  "kernelspec": {
   "display_name": "Python 3.9",
   "language": "python",
   "name": "python3"
  },
  "language_info": {
   "codemirror_mode": {
    "name": "ipython",
    "version": 3
   },
   "file_extension": ".py",
   "mimetype": "text/x-python",
   "name": "python",
   "nbconvert_exporter": "python",
   "pygments_lexer": "ipython3",
   "version": "3.9.18"
  }
 },
 "nbformat": 4,
 "nbformat_minor": 5
}
