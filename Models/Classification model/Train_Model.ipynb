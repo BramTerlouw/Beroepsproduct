{
 "cells": [
  {
   "cell_type": "markdown",
   "id": "ad3269e3-a956-4ab5-b480-fd29f73c8e9f",
   "metadata": {},
   "source": [
    "**Imports**"
   ]
  },
  {
   "cell_type": "code",
   "execution_count": null,
   "id": "a46bbb09-8672-40de-adfc-c4b1c909a0b4",
   "metadata": {
    "tags": []
   },
   "outputs": [],
   "source": [
    "import zipfile\n",
    "import os\n",
    "\n",
    "from keras import utils\n",
    "import tensorflow as tf\n",
    "\n",
    "from tensorflow.keras.utils import to_categorical\n",
    "from tensorflow.keras.models import Sequential\n",
    "from tensorflow.keras.layers import Conv2D, MaxPooling2D, Flatten, Dense,Dropout\n",
    "from tensorflow.keras.optimizers import Adam"
   ]
  },
  {
   "cell_type": "markdown",
   "id": "ed59247e-0cbf-454e-9efe-d9c46fc4ef75",
   "metadata": {},
   "source": [
    "**Unzip the training data**"
   ]
  },
  {
   "cell_type": "code",
   "execution_count": null,
   "id": "16a6177d-8fa1-43a3-89c8-cb8e811d1210",
   "metadata": {
    "tags": []
   },
   "outputs": [],
   "source": [
    "def unzip_to_cwd(zip_filepath, target_folder='train'):\n",
    "    current_dir = os.getcwd()\n",
    "    target_folder_path = os.path.join(current_dir, target_folder)\n",
    "\n",
    "    if not os.path.exists(target_folder_path):\n",
    "        os.makedirs(target_folder_path)\n",
    "\n",
    "    with zipfile.ZipFile(zip_filepath, 'r') as zip_ref:\n",
    "        zip_ref.extractall(target_folder_path)\n",
    "\n",
    "zip_filepath = 'images_zipped.zip'\n",
    "unzip_to_cwd(zip_filepath)"
   ]
  },
  {
   "cell_type": "markdown",
   "id": "80e36214-6b4f-45b2-af42-14f6cf1d2fb8",
   "metadata": {},
   "source": [
    "**Create training and validation sets**"
   ]
  },
  {
   "cell_type": "code",
   "execution_count": null,
   "id": "e564d7d0-fb1e-4882-aff2-bd77d9e7ecdb",
   "metadata": {
    "tags": []
   },
   "outputs": [],
   "source": [
    "path_to_data = './train'"
   ]
  },
  {
   "cell_type": "code",
   "execution_count": null,
   "id": "36645b87-85e4-492f-b353-cbe069657552",
   "metadata": {
    "tags": []
   },
   "outputs": [],
   "source": [
    "train_data=utils.image_dataset_from_directory(\n",
    "    path_to_data,\n",
    "    labels=\"inferred\",\n",
    "    label_mode=\"int\",\n",
    "    validation_split=0.1,\n",
    "    subset=\"training\",\n",
    "    shuffle=True,\n",
    "    color_mode=\"rgb\",\n",
    "    image_size=(256,256),\n",
    "    batch_size=64,\n",
    "    seed=40,\n",
    ")"
   ]
  },
  {
   "cell_type": "code",
   "execution_count": null,
   "id": "1356d340-ef42-432f-b8bc-f0f43bc38fb4",
   "metadata": {
    "tags": []
   },
   "outputs": [],
   "source": [
    "val_data=utils.image_dataset_from_directory(\n",
    "    path_to_data,\n",
    "    labels=\"inferred\",\n",
    "    label_mode=\"int\",\n",
    "    validation_split=0.1,\n",
    "    subset=\"validation\",\n",
    "    color_mode=\"rgb\",\n",
    "    image_size=(256,256),\n",
    "    batch_size=64,\n",
    "    seed=40,\n",
    ")"
   ]
  },
  {
   "cell_type": "markdown",
   "id": "d57ad388-6e3d-4a97-ac22-a4b7e821600a",
   "metadata": {},
   "source": [
    "**Verify training and validation sets with labels (classes)**"
   ]
  },
  {
   "cell_type": "code",
   "execution_count": null,
   "id": "5e683b78-5c85-463b-adc3-d42939244ac0",
   "metadata": {
    "tags": []
   },
   "outputs": [],
   "source": [
    "for images,lables in train_data.take(1):\n",
    "  print('Amount of train images: ', images.shape)\n",
    "  print('Amount of train labels: ', lables.shape)"
   ]
  },
  {
   "cell_type": "code",
   "execution_count": null,
   "id": "a0d51baa-725e-4081-a3e7-39b9059e531a",
   "metadata": {
    "tags": []
   },
   "outputs": [],
   "source": [
    "for images,lables in val_data.take(1):\n",
    "  print('Amount of validation images: ', images.shape)\n",
    "  print('Amount of validation labels: ', lables.shape)"
   ]
  },
  {
   "cell_type": "code",
   "execution_count": null,
   "id": "976502dd-ec1a-490b-89d0-c38b8ffe9766",
   "metadata": {
    "tags": []
   },
   "outputs": [],
   "source": [
    "classes=train_data.class_names\n",
    "print('The following classes are in the dataset:')\n",
    "print(classes)"
   ]
  },
  {
   "cell_type": "markdown",
   "id": "c93f079d-26e5-4d8b-b674-3e5127b00800",
   "metadata": {},
   "source": [
    "**Define normalization function and normalize both sets**"
   ]
  },
  {
   "cell_type": "code",
   "execution_count": null,
   "id": "3f7a0c60-2d34-445e-9422-6aa4b5fbff33",
   "metadata": {
    "tags": []
   },
   "outputs": [],
   "source": [
    "def normalize(image, label):\n",
    "  return image/255.0, label"
   ]
  },
  {
   "cell_type": "code",
   "execution_count": null,
   "id": "309f1a83-af9c-47f3-862c-18c3127dce5e",
   "metadata": {
    "tags": []
   },
   "outputs": [],
   "source": [
    "train_data = train_data.map(normalize)\n",
    "val_data= val_data.map(normalize)"
   ]
  },
  {
   "cell_type": "markdown",
   "id": "ff7c72f6-d64e-46fe-8a1d-c4cc1dadad64",
   "metadata": {},
   "source": [
    "**Create one Tensor of the training images and labels**"
   ]
  },
  {
   "cell_type": "code",
   "execution_count": null,
   "id": "e100fc6e-0f86-402b-acf8-e36da57dc9f1",
   "metadata": {
    "tags": []
   },
   "outputs": [],
   "source": [
    "train_x=[]\n",
    "train_y=[]\n",
    "\n",
    "for image,label in train_data:\n",
    "   train_x.append(image)\n",
    "   train_y.append(label)\n",
    "\n",
    "train_x = tf.concat(train_x, axis=0)\n",
    "train_y = tf.concat(train_y, axis=0)"
   ]
  },
  {
   "cell_type": "markdown",
   "id": "c2104840-58c7-4ebf-ab06-6d6d1a416980",
   "metadata": {},
   "source": [
    "**Create one Tensor of the validation images and labels**"
   ]
  },
  {
   "cell_type": "code",
   "execution_count": null,
   "id": "34074938-0593-4993-8407-96ad386d64d8",
   "metadata": {
    "tags": []
   },
   "outputs": [],
   "source": [
    "val_x=[]\n",
    "val_y=[]\n",
    "\n",
    "for image,label in train_data:\n",
    "   val_x.append(image)\n",
    "   val_y.append(label)\n",
    "\n",
    "val_x = tf.concat(val_x, axis=0)\n",
    "val_y = tf.concat(val_y, axis=0)"
   ]
  },
  {
   "cell_type": "markdown",
   "id": "b2ec5818-0377-41d8-860a-4b966396f9ad",
   "metadata": {},
   "source": [
    "**Create binary matrix representation of the labels (One-Hot Encoding format)**"
   ]
  },
  {
   "cell_type": "code",
   "execution_count": null,
   "id": "4a2ea92b-6297-4ad2-98b0-65d48bc3d825",
   "metadata": {
    "tags": []
   },
   "outputs": [],
   "source": [
    "num_classes = 10\n",
    "train_y = tf.keras.utils.to_categorical(train_y, num_classes=num_classes)\n",
    "val_y = tf.keras.utils.to_categorical(val_y, num_classes=num_classes)"
   ]
  },
  {
   "cell_type": "markdown",
   "id": "e8751a13-6146-4bc9-810c-14057f5078cf",
   "metadata": {},
   "source": [
    "**Define and verify convolution neural network**"
   ]
  },
  {
   "cell_type": "code",
   "execution_count": null,
   "id": "1ede9200-c7db-4534-880c-b49651a3387d",
   "metadata": {
    "tags": []
   },
   "outputs": [],
   "source": [
    "model = Sequential()\n",
    "model.add(Conv2D(60, (3, 3), activation='relu', input_shape=(256, 256, 3)))\n",
    "model.add(MaxPooling2D((2, 2)))\n",
    "model.add(Conv2D(120, (3, 3), activation='relu'))\n",
    "model.add(MaxPooling2D((2, 2)))\n",
    "model.add(Flatten())\n",
    "model.add(Dense(40, activation='relu'))\n",
    "model.add(Dense(10, activation='softmax'))"
   ]
  },
  {
   "cell_type": "code",
   "execution_count": null,
   "id": "feb94a90-bbbc-4000-ba76-ee02b9a2912d",
   "metadata": {
    "tags": []
   },
   "outputs": [],
   "source": [
    "model.summary()"
   ]
  },
  {
   "cell_type": "markdown",
   "id": "896be227-5936-4197-8f61-b6015e7f7a0b",
   "metadata": {},
   "source": [
    "**Select optimizer and loss function for the training proces**"
   ]
  },
  {
   "cell_type": "code",
   "execution_count": null,
   "id": "549a2f57-887f-4118-bb40-57e8a3a3795c",
   "metadata": {
    "tags": []
   },
   "outputs": [],
   "source": [
    "model.compile(optimizer=Adam(learning_rate=0.001),\n",
    "              loss='categorical_crossentropy',\n",
    "              metrics=['accuracy'])"
   ]
  },
  {
   "cell_type": "markdown",
   "id": "b90b0fb5-2f3c-4397-b8b4-930be0416bd8",
   "metadata": {},
   "source": [
    "**Get the batch size and amount of epochs from environment variables**"
   ]
  },
  {
   "cell_type": "code",
   "execution_count": null,
   "id": "a006557a-f8bf-44ef-8570-416c450a627e",
   "metadata": {},
   "outputs": [],
   "source": [
    "batch_size_param = int(os.getenv('batch_size'))\n",
    "nr_of_epochs_param = int(os.getenv('nr_of_epochs'))"
   ]
  },
  {
   "cell_type": "markdown",
   "id": "a3dd5d03-d879-41a0-b011-5b1e5e5445d7",
   "metadata": {},
   "source": [
    "**Train the model**"
   ]
  },
  {
   "cell_type": "code",
   "execution_count": null,
   "id": "6cfe9c98-10d0-4372-9046-b477cc0bf4de",
   "metadata": {
    "tags": []
   },
   "outputs": [],
   "source": [
    "model.fit(train_x, train_y, batch_size=batch_size_param, epochs=nr_of_epochs_param,\n",
    "          validation_data=(val_x,val_y))"
   ]
  },
  {
   "cell_type": "markdown",
   "id": "def78391-108b-47aa-8d76-00134871b593",
   "metadata": {},
   "source": [
    "**Evaluate the model**"
   ]
  },
  {
   "cell_type": "code",
   "execution_count": null,
   "id": "25460c08-5282-443b-a4cd-b74d5effd9d9",
   "metadata": {
    "tags": []
   },
   "outputs": [],
   "source": [
    "loss, accuracy = model.evaluate(val_x,val_y)\n",
    "print('Test accuracy:', accuracy)"
   ]
  },
  {
   "cell_type": "markdown",
   "id": "4017a6d7-2043-4204-bc2a-22184757eba5",
   "metadata": {},
   "source": [
    "**Save the model**"
   ]
  },
  {
   "cell_type": "code",
   "execution_count": null,
   "id": "114e0eac-41d5-4dee-9969-a51ffb7bd60f",
   "metadata": {
    "tags": []
   },
   "outputs": [],
   "source": [
    "model.save('fracture_model.h5')"
   ]
  }
 ],
 "metadata": {
  "kernelspec": {
   "display_name": "Python 3.9",
   "language": "python",
   "name": "python3"
  },
  "language_info": {
   "codemirror_mode": {
    "name": "ipython",
    "version": 3
   },
   "file_extension": ".py",
   "mimetype": "text/x-python",
   "name": "python",
   "nbconvert_exporter": "python",
   "pygments_lexer": "ipython3",
   "version": "3.9.16"
  }
 },
 "nbformat": 4,
 "nbformat_minor": 5
}
