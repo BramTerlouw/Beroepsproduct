{
 "cells": [
  {
   "cell_type": "code",
   "execution_count": 1,
   "id": "2d6ef1c2-be4a-4d57-a244-8ea3300f6b36",
   "metadata": {
    "tags": []
   },
   "outputs": [
    {
     "name": "stderr",
     "output_type": "stream",
     "text": [
      "2024-08-13 09:56:53.948429: E external/local_xla/xla/stream_executor/cuda/cuda_dnn.cc:9261] Unable to register cuDNN factory: Attempting to register factory for plugin cuDNN when one has already been registered\n",
      "2024-08-13 09:56:53.948475: E external/local_xla/xla/stream_executor/cuda/cuda_fft.cc:607] Unable to register cuFFT factory: Attempting to register factory for plugin cuFFT when one has already been registered\n",
      "2024-08-13 09:56:53.949703: E external/local_xla/xla/stream_executor/cuda/cuda_blas.cc:1515] Unable to register cuBLAS factory: Attempting to register factory for plugin cuBLAS when one has already been registered\n",
      "2024-08-13 09:56:53.957021: I tensorflow/core/platform/cpu_feature_guard.cc:182] This TensorFlow binary is optimized to use available CPU instructions in performance-critical operations.\n",
      "To enable the following instructions: AVX2 AVX512F FMA, in other operations, rebuild TensorFlow with the appropriate compiler flags.\n",
      "2024-08-13 09:56:54.864353: W tensorflow/compiler/tf2tensorrt/utils/py_utils.cc:38] TF-TRT Warning: Could not find TensorRT\n"
     ]
    }
   ],
   "source": [
    "from keras import utils\n",
    "import tensorflow as tf"
   ]
  },
  {
   "cell_type": "code",
   "execution_count": 2,
   "id": "c713bf1e-6f40-4b4a-8c2b-69570553ffcb",
   "metadata": {
    "tags": []
   },
   "outputs": [],
   "source": [
    "path_to_data = './Bone Break Classification'"
   ]
  },
  {
   "cell_type": "code",
   "execution_count": 3,
   "id": "fa9f939d-289e-4c27-b0b2-f183f286cce4",
   "metadata": {
    "tags": []
   },
   "outputs": [
    {
     "name": "stdout",
     "output_type": "stream",
     "text": [
      "Found 1000 files belonging to 9 classes.\n",
      "Using 900 files for training.\n"
     ]
    }
   ],
   "source": [
    "train_data=utils.image_dataset_from_directory(\n",
    "    path_to_data,\n",
    "    labels=\"inferred\",\n",
    "    label_mode=\"int\",\n",
    "    validation_split=0.1,\n",
    "    subset=\"training\",\n",
    "    shuffle=True,\n",
    "    color_mode=\"rgb\",\n",
    "    image_size=(256,256),\n",
    "    batch_size=64,\n",
    "    seed=40,\n",
    ")"
   ]
  },
  {
   "cell_type": "code",
   "execution_count": 4,
   "id": "b6ed03d1-1722-42ca-9d1e-9c066d6b868f",
   "metadata": {
    "tags": []
   },
   "outputs": [
    {
     "name": "stdout",
     "output_type": "stream",
     "text": [
      "Found 1000 files belonging to 9 classes.\n",
      "Using 100 files for validation.\n"
     ]
    }
   ],
   "source": [
    "val_data=utils.image_dataset_from_directory(\n",
    "    path_to_data,\n",
    "    labels=\"inferred\",\n",
    "    label_mode=\"int\",\n",
    "    validation_split=0.1,\n",
    "    subset=\"validation\",\n",
    "    color_mode=\"rgb\",\n",
    "    image_size=(256,256),\n",
    "    batch_size=64,\n",
    "    seed=40,\n",
    ")"
   ]
  },
  {
   "cell_type": "code",
   "execution_count": 5,
   "id": "04c13254-93f4-4956-8fa9-d92c3764d291",
   "metadata": {
    "tags": []
   },
   "outputs": [
    {
     "name": "stdout",
     "output_type": "stream",
     "text": [
      "Amount of train images:  (64, 256, 256, 3)\n",
      "Amount of train labels:  (64,)\n"
     ]
    }
   ],
   "source": [
    "for images,lables in train_data.take(1):\n",
    "  print('Amount of train images: ', images.shape)\n",
    "  print('Amount of train labels: ', lables.shape)"
   ]
  },
  {
   "cell_type": "code",
   "execution_count": 6,
   "id": "713fe9eb-2c6e-4501-839a-34c44fff1f23",
   "metadata": {
    "tags": []
   },
   "outputs": [
    {
     "name": "stdout",
     "output_type": "stream",
     "text": [
      "Amount of validation images:  (64, 256, 256, 3)\n",
      "Amount of validation labels:  (64,)\n"
     ]
    }
   ],
   "source": [
    "for images,lables in val_data.take(1):\n",
    "  print('Amount of validation images: ', images.shape)\n",
    "  print('Amount of validation labels: ', lables.shape)"
   ]
  },
  {
   "cell_type": "code",
   "execution_count": 7,
   "id": "2e52b6ea-c17d-499d-8fee-9ab5d8f7d4c7",
   "metadata": {
    "tags": []
   },
   "outputs": [
    {
     "name": "stdout",
     "output_type": "stream",
     "text": [
      "The following classes are in the dataset:\n",
      "['Avulsion fracture', 'Comminuted fracture', 'Fracture Dislocation', 'Greenstick fracture', 'Hairline Fracture', 'Impacted fracture', 'Longitudinal fracture', 'Oblique fracture', 'Pathological fracture']\n"
     ]
    }
   ],
   "source": [
    "classes=train_data.class_names\n",
    "print('The following classes are in the dataset:')\n",
    "print(classes)"
   ]
  },
  {
   "cell_type": "code",
   "execution_count": 8,
   "id": "226a0d19-8ff7-4d69-8794-53a72edfe83c",
   "metadata": {
    "tags": []
   },
   "outputs": [],
   "source": [
    "def normalize(image, label):\n",
    "  return image/255.0, label"
   ]
  },
  {
   "cell_type": "code",
   "execution_count": 9,
   "id": "79d38410-bfaa-422b-8ddb-d4f877ab58b3",
   "metadata": {
    "tags": []
   },
   "outputs": [],
   "source": [
    "train_data = train_data.map(normalize)\n",
    "val_data= val_data.map(normalize)"
   ]
  },
  {
   "cell_type": "code",
   "execution_count": 10,
   "id": "2ebd9386-da42-4a0b-ace9-3232bf688ac4",
   "metadata": {
    "tags": []
   },
   "outputs": [],
   "source": [
    "train_x=[]\n",
    "train_y=[]\n",
    "\n",
    "for image,label in train_data:\n",
    "   train_x.append(image)\n",
    "   train_y.append(label)\n",
    "\n",
    "train_x = tf.concat(train_x, axis=0)\n",
    "train_y = tf.concat(train_y, axis=0)"
   ]
  },
  {
   "cell_type": "code",
   "execution_count": 12,
   "id": "d7a2efe6-c3d9-4383-bf56-200bef5ae82b",
   "metadata": {
    "tags": []
   },
   "outputs": [],
   "source": [
    "val_x=[]\n",
    "val_y=[]\n",
    "\n",
    "for image,label in train_data:\n",
    "   val_x.append(image)\n",
    "   val_y.append(label)\n",
    "\n",
    "val_x = tf.concat(val_x, axis=0)\n",
    "val_y = tf.concat(val_y, axis=0)"
   ]
  },
  {
   "cell_type": "code",
   "execution_count": 13,
   "id": "ca664df6-b72c-4782-8843-63ac3b177f2e",
   "metadata": {
    "tags": []
   },
   "outputs": [],
   "source": [
    "num_classes = 10\n",
    "train_y = tf.keras.utils.to_categorical(train_y, num_classes=num_classes)\n",
    "val_y = tf.keras.utils.to_categorical(val_y, num_classes=num_classes)"
   ]
  }
 ],
 "metadata": {
  "kernelspec": {
   "display_name": "Python 3 (ipykernel)",
   "language": "python",
   "name": "python3"
  },
  "language_info": {
   "codemirror_mode": {
    "name": "ipython",
    "version": 3
   },
   "file_extension": ".py",
   "mimetype": "text/x-python",
   "name": "python",
   "nbconvert_exporter": "python",
   "pygments_lexer": "ipython3",
   "version": "3.9.19"
  }
 },
 "nbformat": 4,
 "nbformat_minor": 5
}
