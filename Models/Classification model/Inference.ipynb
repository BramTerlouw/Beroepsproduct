{
 "cells": [
  {
   "cell_type": "code",
   "execution_count": 1,
   "id": "187a860a-1330-4475-8d18-ca17e17cf8fc",
   "metadata": {
    "tags": []
   },
   "outputs": [
    {
     "name": "stdout",
     "output_type": "stream",
     "text": [
      "http://modelmesh-serving.component-test-2:8008/v2/models/fracturemodel/infer\n"
     ]
    }
   ],
   "source": [
    "deployed_model_name = \"fracturemodel\"\n",
    "rest_url = 'http://modelmesh-serving.component-test-2:8008'\n",
    "infer_url = f'{rest_url}/v2/models/{deployed_model_name}/infer'\n",
    "print(infer_url)"
   ]
  },
  {
   "cell_type": "code",
   "execution_count": 4,
   "id": "b44512bc-f241-4be0-a7e3-97e0bc886c36",
   "metadata": {
    "tags": []
   },
   "outputs": [],
   "source": [
    "from tensorflow.keras.preprocessing import image\n",
    "\n",
    "img = image.load_img('av.jpg', target_size=(256,256))\n",
    "img_array = image.img_to_array(img)\n",
    "img_array = np.expand_dims(img_array, axis=0)\n",
    "img_array /= 255.0\n",
    "data = img_array.tolist()"
   ]
  },
  {
   "cell_type": "code",
   "execution_count": 6,
   "id": "d0553355-578b-4e9c-981b-2046807ee1ae",
   "metadata": {
    "tags": []
   },
   "outputs": [
    {
     "data": {
      "text/plain": [
       "[{'name': 'dense_1',\n",
       "  'datatype': 'FP32',\n",
       "  'shape': [1, 10],\n",
       "  'data': [0.55623746,\n",
       "   0.03939084,\n",
       "   0.022903226,\n",
       "   0.03246233,\n",
       "   0.034136552,\n",
       "   0.028806912,\n",
       "   0.060600504,\n",
       "   0.19885096,\n",
       "   0.025308996,\n",
       "   0.0013022207]}]"
      ]
     },
     "execution_count": 6,
     "metadata": {},
     "output_type": "execute_result"
    }
   ],
   "source": [
    "import requests\n",
    "import numpy as np\n",
    "\n",
    "def rest_request(data):\n",
    "    json_data = {\n",
    "        \"inputs\": [\n",
    "            {\n",
    "                \"name\": \"x\",\n",
    "                \"shape\": [1, 256, 256, 3],\n",
    "                \"datatype\": \"FP32\",\n",
    "                \"data\": data\n",
    "            }\n",
    "        ]\n",
    "    }\n",
    "\n",
    "    response = requests.post(infer_url, json=json_data)\n",
    "    response_dict = response.json()\n",
    "    return response_dict['outputs']\n",
    "\n",
    "prediction = rest_request(data)\n",
    "prediction"
   ]
  },
  {
   "cell_type": "code",
   "execution_count": 7,
   "id": "babd7c33-0dd9-4d66-9899-bfc75a3d15c3",
   "metadata": {
    "tags": []
   },
   "outputs": [
    {
     "name": "stdout",
     "output_type": "stream",
     "text": [
      "Avulsion fracture\n"
     ]
    }
   ],
   "source": [
    "class_labels=[\"Avulsion fracture\",\"Comminuted fracture\",\"Fracture Dislocation\",\"Greenstick fracture\",\n",
    "              \"Hairline Fracture\",\"Impacted fracture\",\"Longitudinal fracture\",\"Oblique fracture\",\n",
    "              \"Pathological fracture\",\"Spiral Fracture\"]\n",
    "\n",
    "predicted_label = class_labels[np.argmax(prediction[0]['data'])]\n",
    "print(predicted_label)"
   ]
  }
 ],
 "metadata": {
  "kernelspec": {
   "display_name": "Python 3.9",
   "language": "python",
   "name": "python3"
  },
  "language_info": {
   "codemirror_mode": {
    "name": "ipython",
    "version": 3
   },
   "file_extension": ".py",
   "mimetype": "text/x-python",
   "name": "python",
   "nbconvert_exporter": "python",
   "pygments_lexer": "ipython3",
   "version": "3.9.18"
  }
 },
 "nbformat": 4,
 "nbformat_minor": 5
}
