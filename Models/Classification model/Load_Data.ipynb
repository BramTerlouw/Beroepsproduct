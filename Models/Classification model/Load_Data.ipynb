{
 "cells": [
  {
   "cell_type": "markdown",
   "id": "51a5b76a-6a53-4b58-8ce7-4e635b73cbfd",
   "metadata": {},
   "source": [
    "**Imports**"
   ]
  },
  {
   "cell_type": "code",
   "execution_count": null,
   "id": "f98d7155-175b-4525-95b4-b05ec0fef1ed",
   "metadata": {
    "tags": []
   },
   "outputs": [],
   "source": [
    "import os\n",
    "import zipfile\n",
    "import boto3\n",
    "from botocore.client import Config"
   ]
  },
  {
   "cell_type": "markdown",
   "id": "9e22f5ef-31b6-4b7c-a621-36a59d03049c",
   "metadata": {},
   "source": [
    "**Retrieve MinIO credentials, initialize client and list all buckets and objects**"
   ]
  },
  {
   "cell_type": "code",
   "execution_count": null,
   "id": "646cfe80-1085-4d85-b6c3-5051a099d320",
   "metadata": {
    "tags": []
   },
   "outputs": [],
   "source": [
    "minio_endpoint = os.getenv('AWS_S3_ENDPOINT')\n",
    "access_key = os.getenv('AWS_ACCESS_KEY_ID')\n",
    "secret_key = os.getenv('AWS_SECRET_ACCESS_KEY')\n",
    "bucket_name = os.getenv('AWS_S3_BUCKET')\n",
    "region = os.getenv('AWS_DEFAULT_REGION')\n",
    "\n",
    "s3_client = boto3.client(\n",
    "    's3',\n",
    "    endpoint_url=minio_endpoint,\n",
    "    aws_access_key_id=access_key,\n",
    "    aws_secret_access_key=secret_key,\n",
    "    config=Config(signature_version='s3v4')\n",
    ")\n",
    "\n",
    "buckets = s3_client.list_buckets()\n",
    "print(\"Buckets:\")\n",
    "for bucket in buckets['Buckets']:\n",
    "    print(f\"  {bucket['Name']}\")\n",
    "\n",
    "objects = s3_client.list_objects_v2(Bucket=bucket_name)\n",
    "if 'Contents' in objects:\n",
    "    print(\"Objects found in bucket\")\n",
    "else:\n",
    "    print(\"  No objects found.\")"
   ]
  },
  {
   "cell_type": "markdown",
   "id": "a8010cd9-5777-4004-b5d6-3cd362005488",
   "metadata": {},
   "source": [
    "**Download all the training data**"
   ]
  },
  {
   "cell_type": "code",
   "execution_count": null,
   "id": "9aa22846-45fd-4960-acb3-cc385c5ac6ce",
   "metadata": {
    "tags": []
   },
   "outputs": [],
   "source": [
    "folder_to_download = \"train/\"\n",
    "local_download_path = os.getcwd()\n",
    "continuation_token = None\n",
    "\n",
    "while True:\n",
    "    if continuation_token:\n",
    "        objects = s3_client.list_objects_v2(\n",
    "            Bucket=bucket_name, Prefix=folder_to_download, ContinuationToken=continuation_token\n",
    "        )\n",
    "    else:\n",
    "        objects = s3_client.list_objects_v2(\n",
    "            Bucket=bucket_name, Prefix=folder_to_download\n",
    "        )\n",
    "\n",
    "    if 'Contents' in objects:\n",
    "        for obj in objects['Contents']:\n",
    "            object_key = obj['Key']\n",
    "\n",
    "            if object_key.startswith(folder_to_download):\n",
    "                local_file_path = os.path.join(local_download_path, object_key)\n",
    "\n",
    "                os.makedirs(os.path.dirname(local_file_path), exist_ok=True)\n",
    "                s3_client.download_file(bucket_name, object_key, local_file_path)\n",
    "                print(f\"Downloaded {object_key} to {local_file_path}\")\n",
    "\n",
    "    if objects.get('IsTruncated'):\n",
    "        continuation_token = objects['NextContinuationToken']\n",
    "    else:\n",
    "        break"
   ]
  },
  {
   "cell_type": "markdown",
   "id": "8227cc41-b47a-481f-90e8-d0481dd8ad1a",
   "metadata": {},
   "source": [
    "**Zip the training data for next pipeline node**"
   ]
  },
  {
   "cell_type": "code",
   "execution_count": null,
   "id": "88daced0-b71d-4f37-96e6-8a28e78044df",
   "metadata": {
    "tags": []
   },
   "outputs": [],
   "source": [
    "def zip_directory(folder_path, zip_filename):\n",
    "    with zipfile.ZipFile(zip_filename, 'w', zipfile.ZIP_DEFLATED) as zipf:\n",
    "        for root, dirs, files in os.walk(folder_path):\n",
    "            for file in files:\n",
    "                file_path = os.path.join(root, file)\n",
    "                zipf.write(file_path, os.path.relpath(file_path, folder_path))\n",
    "\n",
    "folder_path = './train'\n",
    "zip_filename = './images_zipped.zip'\n",
    "zip_directory(folder_path, zip_filename)"
   ]
  }
 ],
 "metadata": {
  "kernelspec": {
   "display_name": "Python 3.9",
   "language": "python",
   "name": "python3"
  },
  "language_info": {
   "codemirror_mode": {
    "name": "ipython",
    "version": 3
   },
   "file_extension": ".py",
   "mimetype": "text/x-python",
   "name": "python",
   "nbconvert_exporter": "python",
   "pygments_lexer": "ipython3",
   "version": "3.9.16"
  }
 },
 "nbformat": 4,
 "nbformat_minor": 5
}
