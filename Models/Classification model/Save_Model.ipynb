{
 "cells": [
  {
   "cell_type": "code",
   "execution_count": 1,
   "id": "d7c11254",
   "metadata": {
    "tags": []
   },
   "outputs": [
    {
     "name": "stdout",
     "output_type": "stream",
     "text": [
      "Requirement already satisfied: tf2onnx in /opt/app-root/lib/python3.9/site-packages (1.16.1)\n",
      "Requirement already satisfied: numpy>=1.14.1 in /opt/app-root/lib/python3.9/site-packages (from tf2onnx) (1.26.4)\n",
      "Requirement already satisfied: requests in /opt/app-root/lib/python3.9/site-packages (from tf2onnx) (2.32.3)\n",
      "Requirement already satisfied: flatbuffers>=1.12 in /opt/app-root/lib/python3.9/site-packages (from tf2onnx) (24.3.25)\n",
      "Requirement already satisfied: onnx>=1.4.1 in /opt/app-root/lib/python3.9/site-packages (from tf2onnx) (1.16.1)\n",
      "Requirement already satisfied: protobuf~=3.20 in /opt/app-root/lib/python3.9/site-packages (from tf2onnx) (3.20.3)\n",
      "Requirement already satisfied: six in /opt/app-root/lib/python3.9/site-packages (from tf2onnx) (1.16.0)\n",
      "Requirement already satisfied: idna<4,>=2.5 in /opt/app-root/lib/python3.9/site-packages (from requests->tf2onnx) (3.7)\n",
      "Requirement already satisfied: charset-normalizer<4,>=2 in /opt/app-root/lib/python3.9/site-packages (from requests->tf2onnx) (3.3.2)\n",
      "Requirement already satisfied: certifi>=2017.4.17 in /opt/app-root/lib/python3.9/site-packages (from requests->tf2onnx) (2024.6.2)\n",
      "Requirement already satisfied: urllib3<3,>=1.21.1 in /opt/app-root/lib/python3.9/site-packages (from requests->tf2onnx) (1.26.19)\n",
      "\n",
      "\u001b[1m[\u001b[0m\u001b[34;49mnotice\u001b[0m\u001b[1;39;49m]\u001b[0m\u001b[39;49m A new release of pip available: \u001b[0m\u001b[31;49m22.2.2\u001b[0m\u001b[39;49m -> \u001b[0m\u001b[32;49m24.2\u001b[0m\n",
      "\u001b[1m[\u001b[0m\u001b[34;49mnotice\u001b[0m\u001b[1;39;49m]\u001b[0m\u001b[39;49m To update, run: \u001b[0m\u001b[32;49mpip install --upgrade pip\u001b[0m\n"
     ]
    }
   ],
   "source": [
    "!pip install tf2onnx"
   ]
  },
  {
   "cell_type": "code",
   "execution_count": 12,
   "id": "36e813ec-6da4-43d6-96fc-f6214eaabc84",
   "metadata": {
    "tags": []
   },
   "outputs": [],
   "source": [
    "import tensorflow as tf\n",
    "import tf2onnx\n",
    "import onnx\n",
    "\n",
    "import boto3\n",
    "from botocore.client import Config\n",
    "from botocore.exceptions import ClientError\n",
    "import datetime\n",
    "import os"
   ]
  },
  {
   "cell_type": "code",
   "execution_count": 5,
   "id": "094c5d0d",
   "metadata": {
    "tags": []
   },
   "outputs": [
    {
     "name": "stderr",
     "output_type": "stream",
     "text": [
      "2024-08-19 09:41:58.425163: I tensorflow/core/grappler/devices.cc:66] Number of eligible GPUs (core count >= 8, compute capability >= 0.0): 0\n",
      "2024-08-19 09:41:58.425298: I tensorflow/core/grappler/clusters/single_machine.cc:361] Starting new session\n",
      "2024-08-19 09:42:00.314587: I tensorflow/core/grappler/devices.cc:66] Number of eligible GPUs (core count >= 8, compute capability >= 0.0): 0\n",
      "2024-08-19 09:42:00.314729: I tensorflow/core/grappler/clusters/single_machine.cc:361] Starting new session\n"
     ]
    }
   ],
   "source": [
    "h5_model_path = \"fracture_model.h5\"\n",
    "model = tf.keras.models.load_model(h5_model_path)\n",
    "\n",
    "input_signature = [tf.TensorSpec([1, 256, 256, 3], tf.float32, name='x')]\n",
    "onnx_model, _ = tf2onnx.convert.from_keras(model, input_signature, opset=13)\n",
    "\n",
    "timestamp = datetime.datetime.now().strftime(\"%Y%m%d_%H%M%S\")\n",
    "model_name = f\"classification_model_{timestamp}.onnx\"\n",
    "\n",
    "onnx.save(onnx_model, model_name)"
   ]
  },
  {
   "cell_type": "code",
   "execution_count": 6,
   "id": "fff96617",
   "metadata": {
    "tags": []
   },
   "outputs": [],
   "source": [
    "# MinIO connection details\n",
    "minio_endpoint = os.getenv('AWS_S3_ENDPOINT')\n",
    "access_key = os.getenv('AWS_ACCESS_KEY_ID')\n",
    "secret_key = os.getenv('AWS_SECRET_ACCESS_KEY')\n",
    "bucket_name = \"models\"\n",
    "region = os.getenv('AWS_DEFAULT_REGION')\n",
    "\n",
    "# Initialize the S3 client\n",
    "s3_client = boto3.client(\n",
    "    's3',\n",
    "    endpoint_url=minio_endpoint,\n",
    "    aws_access_key_id=access_key,\n",
    "    aws_secret_access_key=secret_key,\n",
    "    config=Config(signature_version='s3v4')\n",
    ")"
   ]
  },
  {
   "cell_type": "code",
   "execution_count": 8,
   "id": "baff460e-ee9f-4309-a364-16f6d439bd42",
   "metadata": {
    "tags": []
   },
   "outputs": [],
   "source": [
    "try:\n",
    "    response = s3_client.upload_file(model_name, 'models', f\"fracture/{model_name}\")\n",
    "except Error as e:\n",
    "    logging.error(e)"
   ]
  }
 ],
 "metadata": {
  "kernelspec": {
   "display_name": "Python 3.9",
   "language": "python",
   "name": "python3"
  },
  "language_info": {
   "codemirror_mode": {
    "name": "ipython",
    "version": 3
   },
   "file_extension": ".py",
   "mimetype": "text/x-python",
   "name": "python",
   "nbconvert_exporter": "python",
   "pygments_lexer": "ipython3",
   "version": "3.9.18"
  }
 },
 "nbformat": 4,
 "nbformat_minor": 5
}
