{
 "cells": [
  {
   "cell_type": "markdown",
   "id": "1a0a2bb0-2275-45e4-898c-d99a12b9a2a9",
   "metadata": {},
   "source": [
    "**Installation and imports**"
   ]
  },
  {
   "cell_type": "code",
   "execution_count": null,
   "id": "d7c11254",
   "metadata": {
    "tags": []
   },
   "outputs": [],
   "source": [
    "!pip install tf2onnx"
   ]
  },
  {
   "cell_type": "code",
   "execution_count": null,
   "id": "36e813ec-6da4-43d6-96fc-f6214eaabc84",
   "metadata": {
    "tags": []
   },
   "outputs": [],
   "source": [
    "import tensorflow as tf\n",
    "import tf2onnx\n",
    "import onnx\n",
    "\n",
    "import boto3\n",
    "from botocore.client import Config\n",
    "from botocore.exceptions import ClientError\n",
    "import datetime\n",
    "import os"
   ]
  },
  {
   "cell_type": "markdown",
   "id": "f237b3dc-4ae5-478c-9494-2d5696913cf3",
   "metadata": {},
   "source": [
    "**Get experiment and run names from environment variables**"
   ]
  },
  {
   "cell_type": "code",
   "execution_count": null,
   "id": "61f38d16-356a-44ea-8daa-f9c7ea64e701",
   "metadata": {},
   "outputs": [],
   "source": [
    "experiment_name_param = os.getenv('experiment_name')\n",
    "run_name_param = os.getenv('run_name')"
   ]
  },
  {
   "cell_type": "markdown",
   "id": "691a5033-41ac-4af4-97b8-9d0a5ad6b916",
   "metadata": {},
   "source": [
    "**Convert model to onnx format**"
   ]
  },
  {
   "cell_type": "code",
   "execution_count": null,
   "id": "094c5d0d",
   "metadata": {
    "tags": []
   },
   "outputs": [],
   "source": [
    "h5_model_path = \"fracture_model.h5\"\n",
    "model = tf.keras.models.load_model(h5_model_path)\n",
    "\n",
    "input_signature = [tf.TensorSpec([1, 256, 256, 3], tf.float32, name='x')]\n",
    "onnx_model, _ = tf2onnx.convert.from_keras(model, input_signature, opset=13)\n",
    "\n",
    "model_name = f\"Classif-Exp-{experiment_name_param}-Run-{run_name_param}.onnx\"\n",
    "\n",
    "onnx.save(onnx_model, model_name)"
   ]
  },
  {
   "cell_type": "markdown",
   "id": "336e90f8-ad6a-4e67-8376-bccb0d151959",
   "metadata": {},
   "source": [
    "**Retrieve MinIO credentials and initialize client**"
   ]
  },
  {
   "cell_type": "code",
   "execution_count": null,
   "id": "fff96617",
   "metadata": {
    "tags": []
   },
   "outputs": [],
   "source": [
    "minio_endpoint = os.getenv('AWS_S3_ENDPOINT')\n",
    "access_key = os.getenv('AWS_ACCESS_KEY_ID')\n",
    "secret_key = os.getenv('AWS_SECRET_ACCESS_KEY')\n",
    "bucket_name = \"models\"\n",
    "region = os.getenv('AWS_DEFAULT_REGION')\n",
    "\n",
    "s3_client = boto3.client(\n",
    "    's3',\n",
    "    endpoint_url=minio_endpoint,\n",
    "    aws_access_key_id=access_key,\n",
    "    aws_secret_access_key=secret_key,\n",
    "    config=Config(signature_version='s3v4')\n",
    ")"
   ]
  },
  {
   "cell_type": "markdown",
   "id": "4a707c09-9125-4705-83cc-51848e1f559b",
   "metadata": {},
   "source": [
    "**Save model in MinIO object storage**"
   ]
  },
  {
   "cell_type": "code",
   "execution_count": null,
   "id": "baff460e-ee9f-4309-a364-16f6d439bd42",
   "metadata": {
    "tags": []
   },
   "outputs": [],
   "source": [
    "try:\n",
    "    response = s3_client.upload_file(model_name, 'models', f\"fracture/{experiment_name_param}/{model_name}\")\n",
    "except ClientError as e:\n",
    "    logging.error(e)"
   ]
  }
 ],
 "metadata": {
  "kernelspec": {
   "display_name": "Python 3.9",
   "language": "python",
   "name": "python3"
  },
  "language_info": {
   "codemirror_mode": {
    "name": "ipython",
    "version": 3
   },
   "file_extension": ".py",
   "mimetype": "text/x-python",
   "name": "python",
   "nbconvert_exporter": "python",
   "pygments_lexer": "ipython3",
   "version": "3.9.16"
  }
 },
 "nbformat": 4,
 "nbformat_minor": 5
}
