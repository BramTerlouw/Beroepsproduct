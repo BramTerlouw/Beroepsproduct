{
 "cells": [
  {
   "cell_type": "code",
   "execution_count": null,
   "id": "c903df9b-99c1-458d-982a-aa2dd3162618",
   "metadata": {},
   "outputs": [],
   "source": [
    "!pip install tf2onnx"
   ]
  },
  {
   "cell_type": "code",
   "execution_count": null,
   "id": "bcd8c0f8-0f0c-4b5a-883c-36998ce64300",
   "metadata": {},
   "outputs": [],
   "source": [
    "import tensorflow as tf\n",
    "import tf2onnx\n",
    "import onnx"
   ]
  },
  {
   "cell_type": "code",
   "execution_count": null,
   "id": "9eaf196c-06d1-44f6-b01d-845cbd1ac425",
   "metadata": {},
   "outputs": [],
   "source": [
    "input_signature = [tf.TensorSpec([1, 256, 256, 3], tf.float32, name='x')]\n",
    "\n",
    "onnx_model, _ = tf2onnx.convert.from_keras(model, input_signature, opset=13)"
   ]
  },
  {
   "cell_type": "code",
   "execution_count": null,
   "id": "b2b54694-bc4a-4f8d-b547-d6ad3c33c20d",
   "metadata": {},
   "outputs": [],
   "source": [
    "onnx.save(onnx_model, \"fracture_model.onnx\")"
   ]
  }
 ],
 "metadata": {
  "kernelspec": {
   "display_name": "Python 3 (ipykernel)",
   "language": "python",
   "name": "python3"
  },
  "language_info": {
   "codemirror_mode": {
    "name": "ipython",
    "version": 3
   },
   "file_extension": ".py",
   "mimetype": "text/x-python",
   "name": "python",
   "nbconvert_exporter": "python",
   "pygments_lexer": "ipython3",
   "version": "3.9.19"
  }
 },
 "nbformat": 4,
 "nbformat_minor": 5
}
